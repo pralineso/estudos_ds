{
  "nbformat": 4,
  "nbformat_minor": 0,
  "metadata": {
    "colab": {
      "name": "Analise_comp.ipynb",
      "provenance": [],
      "collapsed_sections": [],
      "authorship_tag": "ABX9TyMvIZWh+OEssT084WRFrTyo",
      "include_colab_link": true
    },
    "kernelspec": {
      "name": "python3",
      "display_name": "Python 3"
    },
    "language_info": {
      "name": "python"
    }
  },
  "cells": [
    {
      "cell_type": "markdown",
      "metadata": {
        "id": "view-in-github",
        "colab_type": "text"
      },
      "source": [
        "<a href=\"https://colab.research.google.com/github/pralineso/estudos_ds/blob/main/Analise_comp.ipynb\" target=\"_parent\"><img src=\"https://colab.research.google.com/assets/colab-badge.svg\" alt=\"Open In Colab\"/></a>"
      ]
    },
    {
      "cell_type": "markdown",
      "metadata": {
        "id": "unAMpXLinVhY"
      },
      "source": [
        "## Imports"
      ]
    },
    {
      "cell_type": "code",
      "metadata": {
        "id": "WHMVoqCdmoOT"
      },
      "source": [
        "import pandas as pd\n",
        "import numpy as np"
      ],
      "execution_count": 40,
      "outputs": []
    },
    {
      "cell_type": "markdown",
      "metadata": {
        "id": "Kknj9eTknZUw"
      },
      "source": [
        "## Explorando a base"
      ]
    },
    {
      "cell_type": "code",
      "metadata": {
        "id": "HcrS8tXtmvjh"
      },
      "source": [
        "dados = pd.read_csv('https://raw.githubusercontent.com/pralineso/estudos_ds/main/Datasets/treino_comp.csv')"
      ],
      "execution_count": 41,
      "outputs": []
    },
    {
      "cell_type": "code",
      "metadata": {
        "colab": {
          "base_uri": "https://localhost:8080/",
          "height": 236
        },
        "id": "VVYUDkU_nAcb",
        "outputId": "16be49c3-7b5e-43ea-aca5-e37426b10699"
      },
      "source": [
        "dados.head()"
      ],
      "execution_count": 42,
      "outputs": [
        {
          "output_type": "execute_result",
          "data": {
            "text/html": [
              "<div>\n",
              "<style scoped>\n",
              "    .dataframe tbody tr th:only-of-type {\n",
              "        vertical-align: middle;\n",
              "    }\n",
              "\n",
              "    .dataframe tbody tr th {\n",
              "        vertical-align: top;\n",
              "    }\n",
              "\n",
              "    .dataframe thead th {\n",
              "        text-align: right;\n",
              "    }\n",
              "</style>\n",
              "<table border=\"1\" class=\"dataframe\">\n",
              "  <thead>\n",
              "    <tr style=\"text-align: right;\">\n",
              "      <th></th>\n",
              "      <th>Unnamed: 0</th>\n",
              "      <th>age</th>\n",
              "      <th>job</th>\n",
              "      <th>marital</th>\n",
              "      <th>education</th>\n",
              "      <th>default</th>\n",
              "      <th>balance</th>\n",
              "      <th>housing</th>\n",
              "      <th>loan</th>\n",
              "      <th>contact</th>\n",
              "      <th>day</th>\n",
              "      <th>month</th>\n",
              "      <th>campaign</th>\n",
              "      <th>pdays</th>\n",
              "      <th>previous</th>\n",
              "      <th>poutcome</th>\n",
              "      <th>term_deposit</th>\n",
              "    </tr>\n",
              "  </thead>\n",
              "  <tbody>\n",
              "    <tr>\n",
              "      <th>0</th>\n",
              "      <td>0</td>\n",
              "      <td>46</td>\n",
              "      <td>management</td>\n",
              "      <td>divorced</td>\n",
              "      <td>tertiary</td>\n",
              "      <td>no</td>\n",
              "      <td>14481</td>\n",
              "      <td>yes</td>\n",
              "      <td>no</td>\n",
              "      <td>unknown</td>\n",
              "      <td>30</td>\n",
              "      <td>may</td>\n",
              "      <td>1</td>\n",
              "      <td>-1</td>\n",
              "      <td>0</td>\n",
              "      <td>unknown</td>\n",
              "      <td>yes</td>\n",
              "    </tr>\n",
              "    <tr>\n",
              "      <th>1</th>\n",
              "      <td>1</td>\n",
              "      <td>37</td>\n",
              "      <td>management</td>\n",
              "      <td>single</td>\n",
              "      <td>tertiary</td>\n",
              "      <td>no</td>\n",
              "      <td>457</td>\n",
              "      <td>yes</td>\n",
              "      <td>no</td>\n",
              "      <td>cellular</td>\n",
              "      <td>1</td>\n",
              "      <td>apr</td>\n",
              "      <td>3</td>\n",
              "      <td>-1</td>\n",
              "      <td>0</td>\n",
              "      <td>unknown</td>\n",
              "      <td>no</td>\n",
              "    </tr>\n",
              "    <tr>\n",
              "      <th>2</th>\n",
              "      <td>2</td>\n",
              "      <td>34</td>\n",
              "      <td>blue-collar</td>\n",
              "      <td>single</td>\n",
              "      <td>secondary</td>\n",
              "      <td>no</td>\n",
              "      <td>1698</td>\n",
              "      <td>yes</td>\n",
              "      <td>no</td>\n",
              "      <td>unknown</td>\n",
              "      <td>27</td>\n",
              "      <td>may</td>\n",
              "      <td>7</td>\n",
              "      <td>-1</td>\n",
              "      <td>0</td>\n",
              "      <td>unknown</td>\n",
              "      <td>no</td>\n",
              "    </tr>\n",
              "    <tr>\n",
              "      <th>3</th>\n",
              "      <td>3</td>\n",
              "      <td>45</td>\n",
              "      <td>unemployed</td>\n",
              "      <td>single</td>\n",
              "      <td>secondary</td>\n",
              "      <td>no</td>\n",
              "      <td>33</td>\n",
              "      <td>no</td>\n",
              "      <td>no</td>\n",
              "      <td>cellular</td>\n",
              "      <td>5</td>\n",
              "      <td>feb</td>\n",
              "      <td>1</td>\n",
              "      <td>-1</td>\n",
              "      <td>0</td>\n",
              "      <td>unknown</td>\n",
              "      <td>no</td>\n",
              "    </tr>\n",
              "    <tr>\n",
              "      <th>4</th>\n",
              "      <td>4</td>\n",
              "      <td>31</td>\n",
              "      <td>management</td>\n",
              "      <td>married</td>\n",
              "      <td>tertiary</td>\n",
              "      <td>no</td>\n",
              "      <td>131</td>\n",
              "      <td>no</td>\n",
              "      <td>no</td>\n",
              "      <td>cellular</td>\n",
              "      <td>18</td>\n",
              "      <td>feb</td>\n",
              "      <td>2</td>\n",
              "      <td>-1</td>\n",
              "      <td>0</td>\n",
              "      <td>unknown</td>\n",
              "      <td>yes</td>\n",
              "    </tr>\n",
              "  </tbody>\n",
              "</table>\n",
              "</div>"
            ],
            "text/plain": [
              "   Unnamed: 0  age          job  ... previous poutcome term_deposit\n",
              "0           0   46   management  ...        0  unknown          yes\n",
              "1           1   37   management  ...        0  unknown           no\n",
              "2           2   34  blue-collar  ...        0  unknown           no\n",
              "3           3   45   unemployed  ...        0  unknown           no\n",
              "4           4   31   management  ...        0  unknown          yes\n",
              "\n",
              "[5 rows x 17 columns]"
            ]
          },
          "metadata": {
            "tags": []
          },
          "execution_count": 42
        }
      ]
    },
    {
      "cell_type": "code",
      "metadata": {
        "colab": {
          "base_uri": "https://localhost:8080/"
        },
        "id": "_SkHXwGFnCO4",
        "outputId": "0e284662-ff05-4a12-ea9f-8041fe1ef0a0"
      },
      "source": [
        "dados.info()"
      ],
      "execution_count": 43,
      "outputs": [
        {
          "output_type": "stream",
          "text": [
            "<class 'pandas.core.frame.DataFrame'>\n",
            "RangeIndex: 6500 entries, 0 to 6499\n",
            "Data columns (total 17 columns):\n",
            " #   Column        Non-Null Count  Dtype \n",
            "---  ------        --------------  ----- \n",
            " 0   Unnamed: 0    6500 non-null   int64 \n",
            " 1   age           6500 non-null   int64 \n",
            " 2   job           6500 non-null   object\n",
            " 3   marital       6500 non-null   object\n",
            " 4   education     6500 non-null   object\n",
            " 5   default       6500 non-null   object\n",
            " 6   balance       6500 non-null   int64 \n",
            " 7   housing       6500 non-null   object\n",
            " 8   loan          6500 non-null   object\n",
            " 9   contact       6500 non-null   object\n",
            " 10  day           6500 non-null   int64 \n",
            " 11  month         6500 non-null   object\n",
            " 12  campaign      6500 non-null   int64 \n",
            " 13  pdays         6500 non-null   int64 \n",
            " 14  previous      6500 non-null   int64 \n",
            " 15  poutcome      6500 non-null   object\n",
            " 16  term_deposit  6500 non-null   object\n",
            "dtypes: int64(7), object(10)\n",
            "memory usage: 863.4+ KB\n"
          ],
          "name": "stdout"
        }
      ]
    },
    {
      "cell_type": "markdown",
      "metadata": {
        "id": "py2YtnnlnkS6"
      },
      "source": [
        "Muitas variaveis categoricas..."
      ]
    },
    {
      "cell_type": "code",
      "metadata": {
        "colab": {
          "base_uri": "https://localhost:8080/"
        },
        "id": "sjv7g60tnN6x",
        "outputId": "e2c764ab-ede8-41d6-903f-d6b81ff59285"
      },
      "source": [
        "dados.isnull().sum()"
      ],
      "execution_count": 44,
      "outputs": [
        {
          "output_type": "execute_result",
          "data": {
            "text/plain": [
              "Unnamed: 0      0\n",
              "age             0\n",
              "job             0\n",
              "marital         0\n",
              "education       0\n",
              "default         0\n",
              "balance         0\n",
              "housing         0\n",
              "loan            0\n",
              "contact         0\n",
              "day             0\n",
              "month           0\n",
              "campaign        0\n",
              "pdays           0\n",
              "previous        0\n",
              "poutcome        0\n",
              "term_deposit    0\n",
              "dtype: int64"
            ]
          },
          "metadata": {
            "tags": []
          },
          "execution_count": 44
        }
      ]
    },
    {
      "cell_type": "markdown",
      "metadata": {
        "id": "BN_ZLVYdnpdw"
      },
      "source": [
        "Graças a Deus nao possui dados faltantes"
      ]
    },
    {
      "cell_type": "markdown",
      "metadata": {
        "id": "Es4PO0VnSHNk"
      },
      "source": [
        "Verificando os valores das colunas default, loan, housing e term_deposit"
      ]
    },
    {
      "cell_type": "code",
      "metadata": {
        "colab": {
          "base_uri": "https://localhost:8080/"
        },
        "id": "mnjMisfmSP-S",
        "outputId": "828253d9-7447-422f-89a9-8f209b59b9ac"
      },
      "source": [
        "dados['default'].value_counts()"
      ],
      "execution_count": null,
      "outputs": [
        {
          "output_type": "execute_result",
          "data": {
            "text/plain": [
              "no     6403\n",
              "yes      97\n",
              "Name: default, dtype: int64"
            ]
          },
          "metadata": {
            "tags": []
          },
          "execution_count": 20
        }
      ]
    },
    {
      "cell_type": "code",
      "metadata": {
        "colab": {
          "base_uri": "https://localhost:8080/"
        },
        "id": "bAfYvhpkSYEj",
        "outputId": "bb2c973a-e79b-4bdc-aee9-21645a2cb0e3"
      },
      "source": [
        "dados['loan'].value_counts()"
      ],
      "execution_count": null,
      "outputs": [
        {
          "output_type": "execute_result",
          "data": {
            "text/plain": [
              "no     5621\n",
              "yes     879\n",
              "Name: loan, dtype: int64"
            ]
          },
          "metadata": {
            "tags": []
          },
          "execution_count": 21
        }
      ]
    },
    {
      "cell_type": "code",
      "metadata": {
        "colab": {
          "base_uri": "https://localhost:8080/"
        },
        "id": "FjgrLaohSfeJ",
        "outputId": "0363d05e-e4bc-42bf-f007-fd04e1c175cb"
      },
      "source": [
        "dados['housing'].value_counts()"
      ],
      "execution_count": null,
      "outputs": [
        {
          "output_type": "execute_result",
          "data": {
            "text/plain": [
              "yes    3253\n",
              "no     3247\n",
              "Name: housing, dtype: int64"
            ]
          },
          "metadata": {
            "tags": []
          },
          "execution_count": 22
        }
      ]
    },
    {
      "cell_type": "code",
      "metadata": {
        "colab": {
          "base_uri": "https://localhost:8080/"
        },
        "id": "I-zkQ29XSjFE",
        "outputId": "4fc29251-47f5-4a37-a8e4-259b46c9fb3a"
      },
      "source": [
        "dados['term_deposit'].value_counts()"
      ],
      "execution_count": null,
      "outputs": [
        {
          "output_type": "execute_result",
          "data": {
            "text/plain": [
              "no     3267\n",
              "yes    3233\n",
              "Name: term_deposit, dtype: int64"
            ]
          },
          "metadata": {
            "tags": []
          },
          "execution_count": 23
        }
      ]
    },
    {
      "cell_type": "markdown",
      "metadata": {
        "id": "QIdgTD_iOvxZ"
      },
      "source": [
        "Dando uma verificada na variavel target, esta bem equilibrado a quantidade de sim e nao"
      ]
    },
    {
      "cell_type": "markdown",
      "metadata": {
        "id": "AGmMCCOkSopJ"
      },
      "source": [
        "Transformando as colunas object para category"
      ]
    },
    {
      "cell_type": "code",
      "metadata": {
        "id": "BoSTN4lXV7MX"
      },
      "source": [
        "#Transforma as objct em category\n",
        "for i in dados.columns[dados.dtypes == object]: # df.dtypes == 'object'\n",
        "    dados[i] = dados[i].astype('category')"
      ],
      "execution_count": 46,
      "outputs": []
    },
    {
      "cell_type": "code",
      "metadata": {
        "id": "J70buXcKSnZ1",
        "colab": {
          "base_uri": "https://localhost:8080/"
        },
        "outputId": "34ce87ef-9c6c-4dc3-e31f-0612a6294ddd"
      },
      "source": [
        "dados.info()"
      ],
      "execution_count": 47,
      "outputs": [
        {
          "output_type": "stream",
          "text": [
            "<class 'pandas.core.frame.DataFrame'>\n",
            "RangeIndex: 6500 entries, 0 to 6499\n",
            "Data columns (total 17 columns):\n",
            " #   Column        Non-Null Count  Dtype   \n",
            "---  ------        --------------  -----   \n",
            " 0   Unnamed: 0    6500 non-null   int64   \n",
            " 1   age           6500 non-null   int64   \n",
            " 2   job           6500 non-null   category\n",
            " 3   marital       6500 non-null   category\n",
            " 4   education     6500 non-null   category\n",
            " 5   default       6500 non-null   category\n",
            " 6   balance       6500 non-null   int64   \n",
            " 7   housing       6500 non-null   category\n",
            " 8   loan          6500 non-null   category\n",
            " 9   contact       6500 non-null   category\n",
            " 10  day           6500 non-null   int64   \n",
            " 11  month         6500 non-null   category\n",
            " 12  campaign      6500 non-null   int64   \n",
            " 13  pdays         6500 non-null   int64   \n",
            " 14  previous      6500 non-null   int64   \n",
            " 15  poutcome      6500 non-null   category\n",
            " 16  term_deposit  6500 non-null   category\n",
            "dtypes: category(10), int64(7)\n",
            "memory usage: 420.8 KB\n"
          ],
          "name": "stdout"
        }
      ]
    },
    {
      "cell_type": "markdown",
      "metadata": {
        "id": "iHb4J9FaZM9-"
      },
      "source": [
        "Transformando as variaveis categoricas em numericas (no = 0 e yes = 1) das colunas default, loan, housing e term_deposit"
      ]
    },
    {
      "cell_type": "code",
      "metadata": {
        "id": "F6L4vxBRYuWh"
      },
      "source": [
        "#pega somente essas colunas e transfoma pra 0 e 1\n",
        "lista = ['default', 'loan', 'housing','term_deposit']\n",
        "\n",
        "for i in lista:\n",
        "  dados[i] = dados[i].cat.codes"
      ],
      "execution_count": 48,
      "outputs": []
    },
    {
      "cell_type": "code",
      "metadata": {
        "id": "tV-rlvl4YpSg"
      },
      "source": [
        "dados[lista]"
      ],
      "execution_count": null,
      "outputs": []
    },
    {
      "cell_type": "markdown",
      "metadata": {
        "id": "MaiU7ReWZ0HE"
      },
      "source": [
        "Verificando os valores das coluna: job, marital, education, contact, poutcome\n",
        "\n"
      ]
    },
    {
      "cell_type": "code",
      "metadata": {
        "colab": {
          "base_uri": "https://localhost:8080/"
        },
        "id": "7bkm-LCda7nZ",
        "outputId": "de6a7f25-5aa6-4b2e-c4dc-059f49ec1d1d"
      },
      "source": [
        "dados['job'].value_counts()"
      ],
      "execution_count": 57,
      "outputs": [
        {
          "output_type": "execute_result",
          "data": {
            "text/plain": [
              "management       1473\n",
              "blue-collar      1240\n",
              "technician       1045\n",
              "admin.            748\n",
              "services          579\n",
              "retired           397\n",
              "self-employed     240\n",
              "unemployed        219\n",
              "entrepreneur      188\n",
              "student           171\n",
              "housemaid         162\n",
              "unknown            38\n",
              "Name: job, dtype: int64"
            ]
          },
          "metadata": {
            "tags": []
          },
          "execution_count": 57
        }
      ]
    },
    {
      "cell_type": "code",
      "metadata": {
        "colab": {
          "base_uri": "https://localhost:8080/"
        },
        "id": "C8nK3ewyZjN_",
        "outputId": "524f82e2-f3c4-4922-cbb9-3e197a794ceb"
      },
      "source": [
        "dados['marital'].value_counts()"
      ],
      "execution_count": 50,
      "outputs": [
        {
          "output_type": "execute_result",
          "data": {
            "text/plain": [
              "married     3686\n",
              "single      2035\n",
              "divorced     779\n",
              "Name: marital, dtype: int64"
            ]
          },
          "metadata": {
            "tags": []
          },
          "execution_count": 50
        }
      ]
    },
    {
      "cell_type": "code",
      "metadata": {
        "colab": {
          "base_uri": "https://localhost:8080/"
        },
        "id": "i3Xd5Iq5aFBj",
        "outputId": "e94d943f-3cb7-4d7e-9aa6-a0ac9319663a"
      },
      "source": [
        "dados['education'].value_counts()"
      ],
      "execution_count": 51,
      "outputs": [
        {
          "output_type": "execute_result",
          "data": {
            "text/plain": [
              "secondary    3220\n",
              "tertiary     2117\n",
              "primary       893\n",
              "unknown       270\n",
              "Name: education, dtype: int64"
            ]
          },
          "metadata": {
            "tags": []
          },
          "execution_count": 51
        }
      ]
    },
    {
      "cell_type": "code",
      "metadata": {
        "colab": {
          "base_uri": "https://localhost:8080/"
        },
        "id": "L7KwV8tjaICS",
        "outputId": "38c7c05c-4e23-47d0-b0d6-75d940a0d750"
      },
      "source": [
        "dados['contact'].value_counts()"
      ],
      "execution_count": 52,
      "outputs": [
        {
          "output_type": "execute_result",
          "data": {
            "text/plain": [
              "cellular     4634\n",
              "unknown      1445\n",
              "telephone     421\n",
              "Name: contact, dtype: int64"
            ]
          },
          "metadata": {
            "tags": []
          },
          "execution_count": 52
        }
      ]
    },
    {
      "cell_type": "code",
      "metadata": {
        "colab": {
          "base_uri": "https://localhost:8080/"
        },
        "id": "GdmSxdc5aLyv",
        "outputId": "ca077a3e-97a1-4042-ad3e-e9cba2d61f9d"
      },
      "source": [
        "dados['poutcome'].value_counts()"
      ],
      "execution_count": 54,
      "outputs": [
        {
          "output_type": "execute_result",
          "data": {
            "text/plain": [
              "unknown    5233\n",
              "failure     650\n",
              "success     369\n",
              "other       248\n",
              "Name: poutcome, dtype: int64"
            ]
          },
          "metadata": {
            "tags": []
          },
          "execution_count": 54
        }
      ]
    },
    {
      "cell_type": "markdown",
      "metadata": {
        "id": "JGWEOSV-aUto"
      },
      "source": [
        "Muitos dados possuem 'unknown'"
      ]
    },
    {
      "cell_type": "markdown",
      "metadata": {
        "id": "dgeK-jkqamL5"
      },
      "source": [
        "Verificando a coluna de mes"
      ]
    },
    {
      "cell_type": "code",
      "metadata": {
        "colab": {
          "base_uri": "https://localhost:8080/"
        },
        "id": "aDx2-U2xao1R",
        "outputId": "2ef2d61d-8111-41ba-ebbc-2e7dc4853fad"
      },
      "source": [
        "dados['month'].value_counts()"
      ],
      "execution_count": 56,
      "outputs": [
        {
          "output_type": "execute_result",
          "data": {
            "text/plain": [
              "may    1720\n",
              "aug     918\n",
              "jul     889\n",
              "jun     746\n",
              "nov     604\n",
              "apr     578\n",
              "feb     381\n",
              "oct     211\n",
              "jan     137\n",
              "sep     113\n",
              "mar     113\n",
              "dec      90\n",
              "Name: month, dtype: int64"
            ]
          },
          "metadata": {
            "tags": []
          },
          "execution_count": 56
        }
      ]
    },
    {
      "cell_type": "markdown",
      "metadata": {
        "id": "xsa_f3Z5axyH"
      },
      "source": [
        "tem os 12 meses certinho"
      ]
    },
    {
      "cell_type": "code",
      "metadata": {
        "id": "pVN-NFMbnSJv"
      },
      "source": [
        "\n",
        "\n",
        "\n"
      ],
      "execution_count": null,
      "outputs": []
    },
    {
      "cell_type": "code",
      "metadata": {
        "id": "EClN0px9SeVt"
      },
      "source": [
        ""
      ],
      "execution_count": null,
      "outputs": []
    }
  ]
}