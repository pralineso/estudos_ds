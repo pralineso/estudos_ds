{
  "nbformat": 4,
  "nbformat_minor": 0,
  "metadata": {
    "colab": {
      "name": "Analise_comp.ipynb",
      "provenance": [],
      "collapsed_sections": [],
      "include_colab_link": true
    },
    "kernelspec": {
      "display_name": "Python 3",
      "language": "python",
      "name": "python3"
    },
    "language_info": {
      "codemirror_mode": {
        "name": "ipython",
        "version": 3
      },
      "file_extension": ".py",
      "mimetype": "text/x-python",
      "name": "python",
      "nbconvert_exporter": "python",
      "pygments_lexer": "ipython3",
      "version": "3.7.6"
    },
    "widgets": {
      "application/vnd.jupyter.widget-state+json": {
        "b297d4e2ea2a498f8ce2f0c29cef4355": {
          "model_module": "@jupyter-widgets/controls",
          "model_name": "HBoxModel",
          "state": {
            "_dom_classes": [],
            "_model_module": "@jupyter-widgets/controls",
            "_model_module_version": "1.5.0",
            "_model_name": "HBoxModel",
            "_view_count": null,
            "_view_module": "@jupyter-widgets/controls",
            "_view_module_version": "1.5.0",
            "_view_name": "HBoxView",
            "box_style": "",
            "children": [
              "IPY_MODEL_6c6fc912882a4ca5939a2a4d8fb5d9ba",
              "IPY_MODEL_93e5dd79fd6546abad8a70613873cd65",
              "IPY_MODEL_072e4b84e43f456697dc1c9bdeb7a5a3"
            ],
            "layout": "IPY_MODEL_46e610952f3d465189004400b5a0670b"
          }
        },
        "46e610952f3d465189004400b5a0670b": {
          "model_module": "@jupyter-widgets/base",
          "model_name": "LayoutModel",
          "state": {
            "_model_module": "@jupyter-widgets/base",
            "_model_module_version": "1.2.0",
            "_model_name": "LayoutModel",
            "_view_count": null,
            "_view_module": "@jupyter-widgets/base",
            "_view_module_version": "1.2.0",
            "_view_name": "LayoutView",
            "align_content": null,
            "align_items": null,
            "align_self": null,
            "border": null,
            "bottom": null,
            "display": "inline-flex",
            "flex": null,
            "flex_flow": "row wrap",
            "grid_area": null,
            "grid_auto_columns": null,
            "grid_auto_flow": null,
            "grid_auto_rows": null,
            "grid_column": null,
            "grid_gap": null,
            "grid_row": null,
            "grid_template_areas": null,
            "grid_template_columns": null,
            "grid_template_rows": null,
            "height": null,
            "justify_content": null,
            "justify_items": null,
            "left": null,
            "margin": null,
            "max_height": null,
            "max_width": null,
            "min_height": null,
            "min_width": null,
            "object_fit": null,
            "object_position": null,
            "order": null,
            "overflow": null,
            "overflow_x": null,
            "overflow_y": null,
            "padding": null,
            "right": null,
            "top": null,
            "visibility": null,
            "width": "100%"
          }
        },
        "6c6fc912882a4ca5939a2a4d8fb5d9ba": {
          "model_module": "@jupyter-widgets/controls",
          "model_name": "HTMLModel",
          "state": {
            "_dom_classes": [],
            "_model_module": "@jupyter-widgets/controls",
            "_model_module_version": "1.5.0",
            "_model_name": "HTMLModel",
            "_view_count": null,
            "_view_module": "@jupyter-widgets/controls",
            "_view_module_version": "1.5.0",
            "_view_name": "HTMLView",
            "description": "",
            "description_tooltip": null,
            "layout": "IPY_MODEL_a8349116197c4b5f95e4715a3293bf64",
            "placeholder": "​",
            "style": "IPY_MODEL_f5725439bb814eb79dd3921120cf7d27",
            "value": "Done! Use &#x27;show&#x27; commands to display/save.   "
          }
        },
        "93e5dd79fd6546abad8a70613873cd65": {
          "model_module": "@jupyter-widgets/controls",
          "model_name": "FloatProgressModel",
          "state": {
            "_dom_classes": [],
            "_model_module": "@jupyter-widgets/controls",
            "_model_module_version": "1.5.0",
            "_model_name": "FloatProgressModel",
            "_view_count": null,
            "_view_module": "@jupyter-widgets/controls",
            "_view_module_version": "1.5.0",
            "_view_name": "ProgressView",
            "bar_style": "success",
            "description": "",
            "description_tooltip": null,
            "layout": "IPY_MODEL_25a247dc4ae74c8f9f8d3bb92f05b163",
            "max": 1,
            "min": 0,
            "orientation": "horizontal",
            "style": "IPY_MODEL_cc3ecfb8573e4886a692e4fa31419a07",
            "value": 1
          }
        },
        "072e4b84e43f456697dc1c9bdeb7a5a3": {
          "model_module": "@jupyter-widgets/controls",
          "model_name": "HTMLModel",
          "state": {
            "_dom_classes": [],
            "_model_module": "@jupyter-widgets/controls",
            "_model_module_version": "1.5.0",
            "_model_name": "HTMLModel",
            "_view_count": null,
            "_view_module": "@jupyter-widgets/controls",
            "_view_module_version": "1.5.0",
            "_view_name": "HTMLView",
            "description": "",
            "description_tooltip": null,
            "layout": "IPY_MODEL_c1e071a31ffc4006b55ae5e173260f79",
            "placeholder": "​",
            "style": "IPY_MODEL_5a6b7f166b5d4f428ddf8fcaff9f888e",
            "value": " [100%]   00:01 -&gt; (00:00 left)"
          }
        },
        "f5725439bb814eb79dd3921120cf7d27": {
          "model_module": "@jupyter-widgets/controls",
          "model_name": "DescriptionStyleModel",
          "state": {
            "_model_module": "@jupyter-widgets/controls",
            "_model_module_version": "1.5.0",
            "_model_name": "DescriptionStyleModel",
            "_view_count": null,
            "_view_module": "@jupyter-widgets/base",
            "_view_module_version": "1.2.0",
            "_view_name": "StyleView",
            "description_width": ""
          }
        },
        "a8349116197c4b5f95e4715a3293bf64": {
          "model_module": "@jupyter-widgets/base",
          "model_name": "LayoutModel",
          "state": {
            "_model_module": "@jupyter-widgets/base",
            "_model_module_version": "1.2.0",
            "_model_name": "LayoutModel",
            "_view_count": null,
            "_view_module": "@jupyter-widgets/base",
            "_view_module_version": "1.2.0",
            "_view_name": "LayoutView",
            "align_content": null,
            "align_items": null,
            "align_self": null,
            "border": null,
            "bottom": null,
            "display": null,
            "flex": null,
            "flex_flow": null,
            "grid_area": null,
            "grid_auto_columns": null,
            "grid_auto_flow": null,
            "grid_auto_rows": null,
            "grid_column": null,
            "grid_gap": null,
            "grid_row": null,
            "grid_template_areas": null,
            "grid_template_columns": null,
            "grid_template_rows": null,
            "height": null,
            "justify_content": null,
            "justify_items": null,
            "left": null,
            "margin": null,
            "max_height": null,
            "max_width": null,
            "min_height": null,
            "min_width": null,
            "object_fit": null,
            "object_position": null,
            "order": null,
            "overflow": null,
            "overflow_x": null,
            "overflow_y": null,
            "padding": null,
            "right": null,
            "top": null,
            "visibility": null,
            "width": null
          }
        },
        "cc3ecfb8573e4886a692e4fa31419a07": {
          "model_module": "@jupyter-widgets/controls",
          "model_name": "ProgressStyleModel",
          "state": {
            "_model_module": "@jupyter-widgets/controls",
            "_model_module_version": "1.5.0",
            "_model_name": "ProgressStyleModel",
            "_view_count": null,
            "_view_module": "@jupyter-widgets/base",
            "_view_module_version": "1.2.0",
            "_view_name": "StyleView",
            "bar_color": null,
            "description_width": ""
          }
        },
        "25a247dc4ae74c8f9f8d3bb92f05b163": {
          "model_module": "@jupyter-widgets/base",
          "model_name": "LayoutModel",
          "state": {
            "_model_module": "@jupyter-widgets/base",
            "_model_module_version": "1.2.0",
            "_model_name": "LayoutModel",
            "_view_count": null,
            "_view_module": "@jupyter-widgets/base",
            "_view_module_version": "1.2.0",
            "_view_name": "LayoutView",
            "align_content": null,
            "align_items": null,
            "align_self": null,
            "border": null,
            "bottom": null,
            "display": null,
            "flex": "2",
            "flex_flow": null,
            "grid_area": null,
            "grid_auto_columns": null,
            "grid_auto_flow": null,
            "grid_auto_rows": null,
            "grid_column": null,
            "grid_gap": null,
            "grid_row": null,
            "grid_template_areas": null,
            "grid_template_columns": null,
            "grid_template_rows": null,
            "height": null,
            "justify_content": null,
            "justify_items": null,
            "left": null,
            "margin": null,
            "max_height": null,
            "max_width": null,
            "min_height": null,
            "min_width": null,
            "object_fit": null,
            "object_position": null,
            "order": null,
            "overflow": null,
            "overflow_x": null,
            "overflow_y": null,
            "padding": null,
            "right": null,
            "top": null,
            "visibility": null,
            "width": null
          }
        },
        "5a6b7f166b5d4f428ddf8fcaff9f888e": {
          "model_module": "@jupyter-widgets/controls",
          "model_name": "DescriptionStyleModel",
          "state": {
            "_model_module": "@jupyter-widgets/controls",
            "_model_module_version": "1.5.0",
            "_model_name": "DescriptionStyleModel",
            "_view_count": null,
            "_view_module": "@jupyter-widgets/base",
            "_view_module_version": "1.2.0",
            "_view_name": "StyleView",
            "description_width": ""
          }
        },
        "c1e071a31ffc4006b55ae5e173260f79": {
          "model_module": "@jupyter-widgets/base",
          "model_name": "LayoutModel",
          "state": {
            "_model_module": "@jupyter-widgets/base",
            "_model_module_version": "1.2.0",
            "_model_name": "LayoutModel",
            "_view_count": null,
            "_view_module": "@jupyter-widgets/base",
            "_view_module_version": "1.2.0",
            "_view_name": "LayoutView",
            "align_content": null,
            "align_items": null,
            "align_self": null,
            "border": null,
            "bottom": null,
            "display": null,
            "flex": null,
            "flex_flow": null,
            "grid_area": null,
            "grid_auto_columns": null,
            "grid_auto_flow": null,
            "grid_auto_rows": null,
            "grid_column": null,
            "grid_gap": null,
            "grid_row": null,
            "grid_template_areas": null,
            "grid_template_columns": null,
            "grid_template_rows": null,
            "height": null,
            "justify_content": null,
            "justify_items": null,
            "left": null,
            "margin": null,
            "max_height": null,
            "max_width": null,
            "min_height": null,
            "min_width": null,
            "object_fit": null,
            "object_position": null,
            "order": null,
            "overflow": null,
            "overflow_x": null,
            "overflow_y": null,
            "padding": null,
            "right": null,
            "top": null,
            "visibility": null,
            "width": null
          }
        }
      }
    }
  },
  "cells": [
    {
      "cell_type": "markdown",
      "metadata": {
        "id": "view-in-github",
        "colab_type": "text"
      },
      "source": [
        "<a href=\"https://colab.research.google.com/github/pralineso/estudos_ds/blob/main/Analise_comp.ipynb\" target=\"_parent\"><img src=\"https://colab.research.google.com/assets/colab-badge.svg\" alt=\"Open In Colab\"/></a>"
      ]
    },
    {
      "cell_type": "markdown",
      "metadata": {
        "id": "K8A9-RysiT50"
      },
      "source": [
        "## Introdução"
      ]
    },
    {
      "cell_type": "markdown",
      "metadata": {
        "id": "49iTkU4ciX2e"
      },
      "source": [
        "Este notebook é referente ao 3° competição da FLAI de Machine Learning. \n",
        "\n",
        "O conjunto de dados fornecido está relacionado como resultado de campanhas de marketing de uma instituição financeira.\n",
        "\n",
        "Nessa competicção o principal objetivo é prever se o cliente fará um deposito."
      ]
    },
    {
      "cell_type": "markdown",
      "metadata": {
        "id": "unAMpXLinVhY"
      },
      "source": [
        "## Importações"
      ]
    },
    {
      "cell_type": "code",
      "metadata": {
        "id": "WHMVoqCdmoOT"
      },
      "source": [
        "import pandas as pd\n",
        "import numpy as np"
      ],
      "execution_count": null,
      "outputs": []
    },
    {
      "cell_type": "markdown",
      "metadata": {
        "id": "Kknj9eTknZUw"
      },
      "source": [
        "## Explorando a base"
      ]
    },
    {
      "cell_type": "code",
      "metadata": {
        "id": "HcrS8tXtmvjh"
      },
      "source": [
        "dados = pd.read_csv('https://raw.githubusercontent.com/pralineso/estudos_ds/main/Datasets/treino_comp.csv')"
      ],
      "execution_count": null,
      "outputs": []
    },
    {
      "cell_type": "code",
      "metadata": {
        "id": "Z06Loq6Pz2tX"
      },
      "source": [
        "teste = pd.read_csv('https://raw.githubusercontent.com/pralineso/estudos_ds/main/Datasets/teste.csv')"
      ],
      "execution_count": null,
      "outputs": []
    },
    {
      "cell_type": "code",
      "metadata": {
        "colab": {
          "base_uri": "https://localhost:8080/",
          "height": 236
        },
        "id": "VVYUDkU_nAcb",
        "outputId": "ff8a440c-897f-433f-facd-ae3cf0240de7"
      },
      "source": [
        "dados.head()"
      ],
      "execution_count": null,
      "outputs": [
        {
          "output_type": "execute_result",
          "data": {
            "text/html": [
              "<div>\n",
              "<style scoped>\n",
              "    .dataframe tbody tr th:only-of-type {\n",
              "        vertical-align: middle;\n",
              "    }\n",
              "\n",
              "    .dataframe tbody tr th {\n",
              "        vertical-align: top;\n",
              "    }\n",
              "\n",
              "    .dataframe thead th {\n",
              "        text-align: right;\n",
              "    }\n",
              "</style>\n",
              "<table border=\"1\" class=\"dataframe\">\n",
              "  <thead>\n",
              "    <tr style=\"text-align: right;\">\n",
              "      <th></th>\n",
              "      <th>Unnamed: 0</th>\n",
              "      <th>age</th>\n",
              "      <th>job</th>\n",
              "      <th>marital</th>\n",
              "      <th>education</th>\n",
              "      <th>default</th>\n",
              "      <th>balance</th>\n",
              "      <th>housing</th>\n",
              "      <th>loan</th>\n",
              "      <th>contact</th>\n",
              "      <th>day</th>\n",
              "      <th>month</th>\n",
              "      <th>campaign</th>\n",
              "      <th>pdays</th>\n",
              "      <th>previous</th>\n",
              "      <th>poutcome</th>\n",
              "      <th>term_deposit</th>\n",
              "    </tr>\n",
              "  </thead>\n",
              "  <tbody>\n",
              "    <tr>\n",
              "      <th>0</th>\n",
              "      <td>0</td>\n",
              "      <td>46</td>\n",
              "      <td>management</td>\n",
              "      <td>divorced</td>\n",
              "      <td>tertiary</td>\n",
              "      <td>no</td>\n",
              "      <td>14481</td>\n",
              "      <td>yes</td>\n",
              "      <td>no</td>\n",
              "      <td>unknown</td>\n",
              "      <td>30</td>\n",
              "      <td>may</td>\n",
              "      <td>1</td>\n",
              "      <td>-1</td>\n",
              "      <td>0</td>\n",
              "      <td>unknown</td>\n",
              "      <td>yes</td>\n",
              "    </tr>\n",
              "    <tr>\n",
              "      <th>1</th>\n",
              "      <td>1</td>\n",
              "      <td>37</td>\n",
              "      <td>management</td>\n",
              "      <td>single</td>\n",
              "      <td>tertiary</td>\n",
              "      <td>no</td>\n",
              "      <td>457</td>\n",
              "      <td>yes</td>\n",
              "      <td>no</td>\n",
              "      <td>cellular</td>\n",
              "      <td>1</td>\n",
              "      <td>apr</td>\n",
              "      <td>3</td>\n",
              "      <td>-1</td>\n",
              "      <td>0</td>\n",
              "      <td>unknown</td>\n",
              "      <td>no</td>\n",
              "    </tr>\n",
              "    <tr>\n",
              "      <th>2</th>\n",
              "      <td>2</td>\n",
              "      <td>34</td>\n",
              "      <td>blue-collar</td>\n",
              "      <td>single</td>\n",
              "      <td>secondary</td>\n",
              "      <td>no</td>\n",
              "      <td>1698</td>\n",
              "      <td>yes</td>\n",
              "      <td>no</td>\n",
              "      <td>unknown</td>\n",
              "      <td>27</td>\n",
              "      <td>may</td>\n",
              "      <td>7</td>\n",
              "      <td>-1</td>\n",
              "      <td>0</td>\n",
              "      <td>unknown</td>\n",
              "      <td>no</td>\n",
              "    </tr>\n",
              "    <tr>\n",
              "      <th>3</th>\n",
              "      <td>3</td>\n",
              "      <td>45</td>\n",
              "      <td>unemployed</td>\n",
              "      <td>single</td>\n",
              "      <td>secondary</td>\n",
              "      <td>no</td>\n",
              "      <td>33</td>\n",
              "      <td>no</td>\n",
              "      <td>no</td>\n",
              "      <td>cellular</td>\n",
              "      <td>5</td>\n",
              "      <td>feb</td>\n",
              "      <td>1</td>\n",
              "      <td>-1</td>\n",
              "      <td>0</td>\n",
              "      <td>unknown</td>\n",
              "      <td>no</td>\n",
              "    </tr>\n",
              "    <tr>\n",
              "      <th>4</th>\n",
              "      <td>4</td>\n",
              "      <td>31</td>\n",
              "      <td>management</td>\n",
              "      <td>married</td>\n",
              "      <td>tertiary</td>\n",
              "      <td>no</td>\n",
              "      <td>131</td>\n",
              "      <td>no</td>\n",
              "      <td>no</td>\n",
              "      <td>cellular</td>\n",
              "      <td>18</td>\n",
              "      <td>feb</td>\n",
              "      <td>2</td>\n",
              "      <td>-1</td>\n",
              "      <td>0</td>\n",
              "      <td>unknown</td>\n",
              "      <td>yes</td>\n",
              "    </tr>\n",
              "  </tbody>\n",
              "</table>\n",
              "</div>"
            ],
            "text/plain": [
              "   Unnamed: 0  age          job   marital  education default  balance housing  \\\n",
              "0           0   46   management  divorced   tertiary      no    14481     yes   \n",
              "1           1   37   management    single   tertiary      no      457     yes   \n",
              "2           2   34  blue-collar    single  secondary      no     1698     yes   \n",
              "3           3   45   unemployed    single  secondary      no       33      no   \n",
              "4           4   31   management   married   tertiary      no      131      no   \n",
              "\n",
              "  loan   contact  day month  campaign  pdays  previous poutcome term_deposit  \n",
              "0   no   unknown   30   may         1     -1         0  unknown          yes  \n",
              "1   no  cellular    1   apr         3     -1         0  unknown           no  \n",
              "2   no   unknown   27   may         7     -1         0  unknown           no  \n",
              "3   no  cellular    5   feb         1     -1         0  unknown           no  \n",
              "4   no  cellular   18   feb         2     -1         0  unknown          yes  "
            ]
          },
          "metadata": {
            "tags": []
          },
          "execution_count": 3
        }
      ]
    },
    {
      "cell_type": "code",
      "metadata": {
        "colab": {
          "base_uri": "https://localhost:8080/"
        },
        "id": "DB465zaolLNf",
        "outputId": "1077b881-aa49-4d22-eeb2-073a568c5869"
      },
      "source": [
        "dados.shape"
      ],
      "execution_count": null,
      "outputs": [
        {
          "output_type": "execute_result",
          "data": {
            "text/plain": [
              "(6500, 17)"
            ]
          },
          "metadata": {
            "tags": []
          },
          "execution_count": 94
        }
      ]
    },
    {
      "cell_type": "code",
      "metadata": {
        "colab": {
          "base_uri": "https://localhost:8080/"
        },
        "id": "_SkHXwGFnCO4",
        "outputId": "afc3db36-ca7f-48b8-c761-fad89d1732c9"
      },
      "source": [
        "dados.info()"
      ],
      "execution_count": null,
      "outputs": [
        {
          "output_type": "stream",
          "text": [
            "<class 'pandas.core.frame.DataFrame'>\n",
            "RangeIndex: 6500 entries, 0 to 6499\n",
            "Data columns (total 17 columns):\n",
            " #   Column        Non-Null Count  Dtype \n",
            "---  ------        --------------  ----- \n",
            " 0   Unnamed: 0    6500 non-null   int64 \n",
            " 1   age           6500 non-null   int64 \n",
            " 2   job           6500 non-null   object\n",
            " 3   marital       6500 non-null   object\n",
            " 4   education     6500 non-null   object\n",
            " 5   default       6500 non-null   object\n",
            " 6   balance       6500 non-null   int64 \n",
            " 7   housing       6500 non-null   object\n",
            " 8   loan          6500 non-null   object\n",
            " 9   contact       6500 non-null   object\n",
            " 10  day           6500 non-null   int64 \n",
            " 11  month         6500 non-null   object\n",
            " 12  campaign      6500 non-null   int64 \n",
            " 13  pdays         6500 non-null   int64 \n",
            " 14  previous      6500 non-null   int64 \n",
            " 15  poutcome      6500 non-null   object\n",
            " 16  term_deposit  6500 non-null   object\n",
            "dtypes: int64(7), object(10)\n",
            "memory usage: 863.4+ KB\n"
          ],
          "name": "stdout"
        }
      ]
    },
    {
      "cell_type": "markdown",
      "metadata": {
        "id": "py2YtnnlnkS6"
      },
      "source": [
        "Muitas variaveis categoricas..."
      ]
    },
    {
      "cell_type": "code",
      "metadata": {
        "colab": {
          "base_uri": "https://localhost:8080/",
          "height": 288
        },
        "id": "trdeTs_-P433",
        "outputId": "bf299d9c-66f2-4c10-d393-2a82304ce17f"
      },
      "source": [
        "dados.describe()"
      ],
      "execution_count": null,
      "outputs": [
        {
          "output_type": "execute_result",
          "data": {
            "text/html": [
              "<div>\n",
              "<style scoped>\n",
              "    .dataframe tbody tr th:only-of-type {\n",
              "        vertical-align: middle;\n",
              "    }\n",
              "\n",
              "    .dataframe tbody tr th {\n",
              "        vertical-align: top;\n",
              "    }\n",
              "\n",
              "    .dataframe thead th {\n",
              "        text-align: right;\n",
              "    }\n",
              "</style>\n",
              "<table border=\"1\" class=\"dataframe\">\n",
              "  <thead>\n",
              "    <tr style=\"text-align: right;\">\n",
              "      <th></th>\n",
              "      <th>Unnamed: 0</th>\n",
              "      <th>age</th>\n",
              "      <th>balance</th>\n",
              "      <th>day</th>\n",
              "      <th>campaign</th>\n",
              "      <th>pdays</th>\n",
              "      <th>previous</th>\n",
              "    </tr>\n",
              "  </thead>\n",
              "  <tbody>\n",
              "    <tr>\n",
              "      <th>count</th>\n",
              "      <td>6500.000000</td>\n",
              "      <td>6500.000000</td>\n",
              "      <td>6500.000000</td>\n",
              "      <td>6500.000000</td>\n",
              "      <td>6500.000000</td>\n",
              "      <td>6500.000000</td>\n",
              "      <td>6500.000000</td>\n",
              "    </tr>\n",
              "    <tr>\n",
              "      <th>mean</th>\n",
              "      <td>3249.500000</td>\n",
              "      <td>40.899692</td>\n",
              "      <td>1551.448462</td>\n",
              "      <td>15.660923</td>\n",
              "      <td>2.587846</td>\n",
              "      <td>38.655231</td>\n",
              "      <td>0.551846</td>\n",
              "    </tr>\n",
              "    <tr>\n",
              "      <th>std</th>\n",
              "      <td>1876.532707</td>\n",
              "      <td>11.309033</td>\n",
              "      <td>3235.418262</td>\n",
              "      <td>8.361566</td>\n",
              "      <td>2.790440</td>\n",
              "      <td>93.642546</td>\n",
              "      <td>1.825413</td>\n",
              "    </tr>\n",
              "    <tr>\n",
              "      <th>min</th>\n",
              "      <td>0.000000</td>\n",
              "      <td>18.000000</td>\n",
              "      <td>-3372.000000</td>\n",
              "      <td>1.000000</td>\n",
              "      <td>1.000000</td>\n",
              "      <td>-1.000000</td>\n",
              "      <td>0.000000</td>\n",
              "    </tr>\n",
              "    <tr>\n",
              "      <th>25%</th>\n",
              "      <td>1624.750000</td>\n",
              "      <td>32.000000</td>\n",
              "      <td>104.000000</td>\n",
              "      <td>8.000000</td>\n",
              "      <td>1.000000</td>\n",
              "      <td>-1.000000</td>\n",
              "      <td>0.000000</td>\n",
              "    </tr>\n",
              "    <tr>\n",
              "      <th>50%</th>\n",
              "      <td>3249.500000</td>\n",
              "      <td>39.000000</td>\n",
              "      <td>538.000000</td>\n",
              "      <td>16.000000</td>\n",
              "      <td>2.000000</td>\n",
              "      <td>-1.000000</td>\n",
              "      <td>0.000000</td>\n",
              "    </tr>\n",
              "    <tr>\n",
              "      <th>75%</th>\n",
              "      <td>4874.250000</td>\n",
              "      <td>48.000000</td>\n",
              "      <td>1701.000000</td>\n",
              "      <td>21.000000</td>\n",
              "      <td>3.000000</td>\n",
              "      <td>-1.000000</td>\n",
              "      <td>0.000000</td>\n",
              "    </tr>\n",
              "    <tr>\n",
              "      <th>max</th>\n",
              "      <td>6499.000000</td>\n",
              "      <td>95.000000</td>\n",
              "      <td>81204.000000</td>\n",
              "      <td>31.000000</td>\n",
              "      <td>58.000000</td>\n",
              "      <td>515.000000</td>\n",
              "      <td>58.000000</td>\n",
              "    </tr>\n",
              "  </tbody>\n",
              "</table>\n",
              "</div>"
            ],
            "text/plain": [
              "        Unnamed: 0          age       balance          day     campaign  \\\n",
              "count  6500.000000  6500.000000   6500.000000  6500.000000  6500.000000   \n",
              "mean   3249.500000    40.899692   1551.448462    15.660923     2.587846   \n",
              "std    1876.532707    11.309033   3235.418262     8.361566     2.790440   \n",
              "min       0.000000    18.000000  -3372.000000     1.000000     1.000000   \n",
              "25%    1624.750000    32.000000    104.000000     8.000000     1.000000   \n",
              "50%    3249.500000    39.000000    538.000000    16.000000     2.000000   \n",
              "75%    4874.250000    48.000000   1701.000000    21.000000     3.000000   \n",
              "max    6499.000000    95.000000  81204.000000    31.000000    58.000000   \n",
              "\n",
              "             pdays     previous  \n",
              "count  6500.000000  6500.000000  \n",
              "mean     38.655231     0.551846  \n",
              "std      93.642546     1.825413  \n",
              "min      -1.000000     0.000000  \n",
              "25%      -1.000000     0.000000  \n",
              "50%      -1.000000     0.000000  \n",
              "75%      -1.000000     0.000000  \n",
              "max     515.000000    58.000000  "
            ]
          },
          "metadata": {
            "tags": []
          },
          "execution_count": 96
        }
      ]
    },
    {
      "cell_type": "code",
      "metadata": {
        "colab": {
          "base_uri": "https://localhost:8080/"
        },
        "id": "sjv7g60tnN6x",
        "outputId": "36d0e150-5820-4577-a882-54382ab1da47"
      },
      "source": [
        "dados.isnull().sum()"
      ],
      "execution_count": null,
      "outputs": [
        {
          "output_type": "execute_result",
          "data": {
            "text/plain": [
              "Unnamed: 0      0\n",
              "age             0\n",
              "job             0\n",
              "marital         0\n",
              "education       0\n",
              "default         0\n",
              "balance         0\n",
              "housing         0\n",
              "loan            0\n",
              "contact         0\n",
              "day             0\n",
              "month           0\n",
              "campaign        0\n",
              "pdays           0\n",
              "previous        0\n",
              "poutcome        0\n",
              "term_deposit    0\n",
              "dtype: int64"
            ]
          },
          "metadata": {
            "tags": []
          },
          "execution_count": 97
        }
      ]
    },
    {
      "cell_type": "markdown",
      "metadata": {
        "id": "BN_ZLVYdnpdw"
      },
      "source": [
        "Aparentemente nao possui dados faltantes"
      ]
    },
    {
      "cell_type": "markdown",
      "metadata": {
        "id": "Es4PO0VnSHNk"
      },
      "source": [
        "Verificando os valores das colunas default, loan, housing e term_deposit"
      ]
    },
    {
      "cell_type": "code",
      "metadata": {
        "colab": {
          "base_uri": "https://localhost:8080/"
        },
        "id": "mnjMisfmSP-S",
        "outputId": "4ca90961-c669-4deb-d98c-3ce5e73e83a5"
      },
      "source": [
        "dados['default'].value_counts()"
      ],
      "execution_count": null,
      "outputs": [
        {
          "output_type": "execute_result",
          "data": {
            "text/plain": [
              "no     6403\n",
              "yes      97\n",
              "Name: default, dtype: int64"
            ]
          },
          "metadata": {
            "tags": []
          },
          "execution_count": 98
        }
      ]
    },
    {
      "cell_type": "code",
      "metadata": {
        "colab": {
          "base_uri": "https://localhost:8080/"
        },
        "id": "bAfYvhpkSYEj",
        "outputId": "1f1f5e60-56c0-4b94-f26e-01fb896a94a3"
      },
      "source": [
        "dados['loan'].value_counts()"
      ],
      "execution_count": null,
      "outputs": [
        {
          "output_type": "execute_result",
          "data": {
            "text/plain": [
              "no     5621\n",
              "yes     879\n",
              "Name: loan, dtype: int64"
            ]
          },
          "metadata": {
            "tags": []
          },
          "execution_count": 99
        }
      ]
    },
    {
      "cell_type": "code",
      "metadata": {
        "colab": {
          "base_uri": "https://localhost:8080/"
        },
        "id": "FjgrLaohSfeJ",
        "outputId": "8e617d67-be61-424a-c22a-9603f6370fda"
      },
      "source": [
        "dados['housing'].value_counts()"
      ],
      "execution_count": null,
      "outputs": [
        {
          "output_type": "execute_result",
          "data": {
            "text/plain": [
              "yes    3253\n",
              "no     3247\n",
              "Name: housing, dtype: int64"
            ]
          },
          "metadata": {
            "tags": []
          },
          "execution_count": 100
        }
      ]
    },
    {
      "cell_type": "code",
      "metadata": {
        "colab": {
          "base_uri": "https://localhost:8080/"
        },
        "id": "I-zkQ29XSjFE",
        "outputId": "678b5e4b-b5fa-469a-bcba-208ddb1751ac"
      },
      "source": [
        "dados['term_deposit'].value_counts()"
      ],
      "execution_count": null,
      "outputs": [
        {
          "output_type": "execute_result",
          "data": {
            "text/plain": [
              "no     3267\n",
              "yes    3233\n",
              "Name: term_deposit, dtype: int64"
            ]
          },
          "metadata": {
            "tags": []
          },
          "execution_count": 101
        }
      ]
    },
    {
      "cell_type": "markdown",
      "metadata": {
        "id": "QIdgTD_iOvxZ"
      },
      "source": [
        "Dando uma verificada na variavel target... parece estar bem equilibrado a quantidade de sim e nao"
      ]
    },
    {
      "cell_type": "markdown",
      "metadata": {
        "id": "o7xmEdsEjulw"
      },
      "source": [
        "Verificando os valores das coluna: job, marital, education, contact, poutcome"
      ]
    },
    {
      "cell_type": "code",
      "metadata": {
        "colab": {
          "base_uri": "https://localhost:8080/"
        },
        "id": "r3x74VaJjy_O",
        "outputId": "a3fa6e80-2961-457b-cb00-d0ab6b5fdac6"
      },
      "source": [
        "dados['job'].value_counts()"
      ],
      "execution_count": null,
      "outputs": [
        {
          "output_type": "execute_result",
          "data": {
            "text/plain": [
              "management       1473\n",
              "blue-collar      1240\n",
              "technician       1045\n",
              "admin.            748\n",
              "services          579\n",
              "retired           397\n",
              "self-employed     240\n",
              "unemployed        219\n",
              "entrepreneur      188\n",
              "student           171\n",
              "housemaid         162\n",
              "unknown            38\n",
              "Name: job, dtype: int64"
            ]
          },
          "metadata": {
            "tags": []
          },
          "execution_count": 102
        }
      ]
    },
    {
      "cell_type": "code",
      "metadata": {
        "colab": {
          "base_uri": "https://localhost:8080/"
        },
        "id": "PiD6oca4jzod",
        "outputId": "f4d14460-c7a1-454e-f967-02d90cef0d7a"
      },
      "source": [
        "dados['marital'].value_counts()"
      ],
      "execution_count": null,
      "outputs": [
        {
          "output_type": "execute_result",
          "data": {
            "text/plain": [
              "married     3686\n",
              "single      2035\n",
              "divorced     779\n",
              "Name: marital, dtype: int64"
            ]
          },
          "metadata": {
            "tags": []
          },
          "execution_count": 103
        }
      ]
    },
    {
      "cell_type": "code",
      "metadata": {
        "colab": {
          "base_uri": "https://localhost:8080/"
        },
        "id": "TAr6_5Pojzw7",
        "outputId": "a5f3a7af-d16b-4efa-d0b8-ef84c32e37a8"
      },
      "source": [
        "dados['education'].value_counts()"
      ],
      "execution_count": null,
      "outputs": [
        {
          "output_type": "execute_result",
          "data": {
            "text/plain": [
              "secondary    3220\n",
              "tertiary     2117\n",
              "primary       893\n",
              "unknown       270\n",
              "Name: education, dtype: int64"
            ]
          },
          "metadata": {
            "tags": []
          },
          "execution_count": 104
        }
      ]
    },
    {
      "cell_type": "code",
      "metadata": {
        "colab": {
          "base_uri": "https://localhost:8080/"
        },
        "id": "doiyOIyLj7X8",
        "outputId": "1aac38e1-31ec-4384-c63d-525062ca7aa8"
      },
      "source": [
        "dados['contact'].value_counts()"
      ],
      "execution_count": null,
      "outputs": [
        {
          "output_type": "execute_result",
          "data": {
            "text/plain": [
              "cellular     4634\n",
              "unknown      1445\n",
              "telephone     421\n",
              "Name: contact, dtype: int64"
            ]
          },
          "metadata": {
            "tags": []
          },
          "execution_count": 105
        }
      ]
    },
    {
      "cell_type": "code",
      "metadata": {
        "colab": {
          "base_uri": "https://localhost:8080/"
        },
        "id": "KeBT1_XOj-WE",
        "outputId": "092d48da-49f3-4b6c-d7a2-a92bffb8b053"
      },
      "source": [
        "dados['poutcome'].value_counts()"
      ],
      "execution_count": null,
      "outputs": [
        {
          "output_type": "execute_result",
          "data": {
            "text/plain": [
              "unknown    5233\n",
              "failure     650\n",
              "success     369\n",
              "other       248\n",
              "Name: poutcome, dtype: int64"
            ]
          },
          "metadata": {
            "tags": []
          },
          "execution_count": 106
        }
      ]
    },
    {
      "cell_type": "markdown",
      "metadata": {
        "id": "NmxKFZh1kCaq"
      },
      "source": [
        "Muitos dados possuem 'unknown'"
      ]
    },
    {
      "cell_type": "markdown",
      "metadata": {
        "id": "UJS3Ag8hkGjM"
      },
      "source": [
        "Verificando a coluna de mes"
      ]
    },
    {
      "cell_type": "code",
      "metadata": {
        "colab": {
          "base_uri": "https://localhost:8080/"
        },
        "id": "Xyb0zTJgkBRF",
        "outputId": "a58868ad-7538-4f05-fb1a-cff0581417ae"
      },
      "source": [
        "dados['month'].value_counts()"
      ],
      "execution_count": null,
      "outputs": [
        {
          "output_type": "execute_result",
          "data": {
            "text/plain": [
              "may    1720\n",
              "aug     918\n",
              "jul     889\n",
              "jun     746\n",
              "nov     604\n",
              "apr     578\n",
              "feb     381\n",
              "oct     211\n",
              "jan     137\n",
              "mar     113\n",
              "sep     113\n",
              "dec      90\n",
              "Name: month, dtype: int64"
            ]
          },
          "metadata": {
            "tags": []
          },
          "execution_count": 107
        }
      ]
    },
    {
      "cell_type": "code",
      "metadata": {
        "id": "JIOZe9-VjPsi"
      },
      "source": [
        ""
      ],
      "execution_count": null,
      "outputs": []
    },
    {
      "cell_type": "markdown",
      "metadata": {
        "id": "24xj5NKkkJvI"
      },
      "source": [
        "tem os 12 meses"
      ]
    },
    {
      "cell_type": "markdown",
      "metadata": {
        "id": "TJsU8MSHF1NO"
      },
      "source": [
        "#### Testando o Sweetviz"
      ]
    },
    {
      "cell_type": "code",
      "metadata": {
        "colab": {
          "base_uri": "https://localhost:8080/"
        },
        "id": "_r-RLZhTF4fO",
        "outputId": "dbfe1c69-fc51-47a9-85b2-7df778f6d0b3"
      },
      "source": [
        "#!pip install sweetviz"
      ],
      "execution_count": null,
      "outputs": [
        {
          "output_type": "stream",
          "text": [
            "Requirement already satisfied: sweetviz in c:\\users\\mxapi\\anaconda3\\lib\\site-packages (2.1.0)\n",
            "Requirement already satisfied: numpy>=1.16.0 in c:\\users\\mxapi\\anaconda3\\lib\\site-packages (from sweetviz) (1.19.5)\n",
            "Requirement already satisfied: jinja2>=2.11.1 in c:\\users\\mxapi\\anaconda3\\lib\\site-packages (from sweetviz) (2.11.2)\n",
            "Requirement already satisfied: importlib-resources>=1.2.0 in c:\\users\\mxapi\\anaconda3\\lib\\site-packages (from sweetviz) (5.1.2)\n",
            "Requirement already satisfied: tqdm>=4.43.0 in c:\\users\\mxapi\\anaconda3\\lib\\site-packages (from sweetviz) (4.46.1)\n",
            "Requirement already satisfied: matplotlib>=3.1.3 in c:\\users\\mxapi\\anaconda3\\lib\\site-packages (from sweetviz) (3.2.1)\n",
            "Requirement already satisfied: scipy>=1.3.2 in c:\\users\\mxapi\\anaconda3\\lib\\site-packages (from sweetviz) (1.4.1)\n",
            "Requirement already satisfied: pandas!=1.0.0,!=1.0.1,!=1.0.2,>=0.25.3 in c:\\users\\mxapi\\anaconda3\\lib\\site-packages (from sweetviz) (1.0.3)\n",
            "Requirement already satisfied: MarkupSafe>=0.23 in c:\\users\\mxapi\\anaconda3\\lib\\site-packages (from jinja2>=2.11.1->sweetviz) (1.1.1)\n",
            "Requirement already satisfied: zipp>=0.4; python_version < \"3.8\" in c:\\users\\mxapi\\anaconda3\\lib\\site-packages (from importlib-resources>=1.2.0->sweetviz) (0.5.1)\n",
            "Requirement already satisfied: kiwisolver>=1.0.1 in c:\\users\\mxapi\\anaconda3\\lib\\site-packages (from matplotlib>=3.1.3->sweetviz) (1.2.0)\n",
            "Requirement already satisfied: pyparsing!=2.0.4,!=2.1.2,!=2.1.6,>=2.0.1 in c:\\users\\mxapi\\anaconda3\\lib\\site-packages (from matplotlib>=3.1.3->sweetviz) (2.4.7)\n",
            "Requirement already satisfied: python-dateutil>=2.1 in c:\\users\\mxapi\\anaconda3\\lib\\site-packages (from matplotlib>=3.1.3->sweetviz) (2.8.1)\n",
            "Requirement already satisfied: cycler>=0.10 in c:\\users\\mxapi\\anaconda3\\lib\\site-packages (from matplotlib>=3.1.3->sweetviz) (0.10.0)\n",
            "Requirement already satisfied: pytz>=2017.2 in c:\\users\\mxapi\\anaconda3\\lib\\site-packages (from pandas!=1.0.0,!=1.0.1,!=1.0.2,>=0.25.3->sweetviz) (2019.3)\n",
            "Requirement already satisfied: six>=1.5 in c:\\users\\mxapi\\anaconda3\\lib\\site-packages (from python-dateutil>=2.1->matplotlib>=3.1.3->sweetviz) (1.11.0)\n"
          ],
          "name": "stdout"
        }
      ]
    },
    {
      "cell_type": "code",
      "metadata": {
        "id": "8SJ4RhEqILk5"
      },
      "source": [
        "import sweetviz"
      ],
      "execution_count": null,
      "outputs": []
    },
    {
      "cell_type": "code",
      "metadata": {
        "colab": {
          "base_uri": "https://localhost:8080/",
          "height": 175
        },
        "id": "4stccsiSLRQj",
        "outputId": "abe20e49-d503-4599-d3c2-4af448690af7"
      },
      "source": [
        "dados.head(3)"
      ],
      "execution_count": null,
      "outputs": [
        {
          "output_type": "execute_result",
          "data": {
            "text/html": [
              "<div>\n",
              "<style scoped>\n",
              "    .dataframe tbody tr th:only-of-type {\n",
              "        vertical-align: middle;\n",
              "    }\n",
              "\n",
              "    .dataframe tbody tr th {\n",
              "        vertical-align: top;\n",
              "    }\n",
              "\n",
              "    .dataframe thead th {\n",
              "        text-align: right;\n",
              "    }\n",
              "</style>\n",
              "<table border=\"1\" class=\"dataframe\">\n",
              "  <thead>\n",
              "    <tr style=\"text-align: right;\">\n",
              "      <th></th>\n",
              "      <th>Unnamed: 0</th>\n",
              "      <th>age</th>\n",
              "      <th>job</th>\n",
              "      <th>marital</th>\n",
              "      <th>education</th>\n",
              "      <th>default</th>\n",
              "      <th>balance</th>\n",
              "      <th>housing</th>\n",
              "      <th>loan</th>\n",
              "      <th>contact</th>\n",
              "      <th>day</th>\n",
              "      <th>month</th>\n",
              "      <th>campaign</th>\n",
              "      <th>pdays</th>\n",
              "      <th>previous</th>\n",
              "      <th>poutcome</th>\n",
              "      <th>term_deposit</th>\n",
              "    </tr>\n",
              "  </thead>\n",
              "  <tbody>\n",
              "    <tr>\n",
              "      <th>0</th>\n",
              "      <td>0</td>\n",
              "      <td>46</td>\n",
              "      <td>management</td>\n",
              "      <td>divorced</td>\n",
              "      <td>tertiary</td>\n",
              "      <td>no</td>\n",
              "      <td>14481</td>\n",
              "      <td>yes</td>\n",
              "      <td>no</td>\n",
              "      <td>unknown</td>\n",
              "      <td>30</td>\n",
              "      <td>may</td>\n",
              "      <td>1</td>\n",
              "      <td>-1</td>\n",
              "      <td>0</td>\n",
              "      <td>unknown</td>\n",
              "      <td>yes</td>\n",
              "    </tr>\n",
              "    <tr>\n",
              "      <th>1</th>\n",
              "      <td>1</td>\n",
              "      <td>37</td>\n",
              "      <td>management</td>\n",
              "      <td>single</td>\n",
              "      <td>tertiary</td>\n",
              "      <td>no</td>\n",
              "      <td>457</td>\n",
              "      <td>yes</td>\n",
              "      <td>no</td>\n",
              "      <td>cellular</td>\n",
              "      <td>1</td>\n",
              "      <td>apr</td>\n",
              "      <td>3</td>\n",
              "      <td>-1</td>\n",
              "      <td>0</td>\n",
              "      <td>unknown</td>\n",
              "      <td>no</td>\n",
              "    </tr>\n",
              "    <tr>\n",
              "      <th>2</th>\n",
              "      <td>2</td>\n",
              "      <td>34</td>\n",
              "      <td>blue-collar</td>\n",
              "      <td>single</td>\n",
              "      <td>secondary</td>\n",
              "      <td>no</td>\n",
              "      <td>1698</td>\n",
              "      <td>yes</td>\n",
              "      <td>no</td>\n",
              "      <td>unknown</td>\n",
              "      <td>27</td>\n",
              "      <td>may</td>\n",
              "      <td>7</td>\n",
              "      <td>-1</td>\n",
              "      <td>0</td>\n",
              "      <td>unknown</td>\n",
              "      <td>no</td>\n",
              "    </tr>\n",
              "  </tbody>\n",
              "</table>\n",
              "</div>"
            ],
            "text/plain": [
              "   Unnamed: 0  age          job   marital  education default  balance housing  \\\n",
              "0           0   46   management  divorced   tertiary      no    14481     yes   \n",
              "1           1   37   management    single   tertiary      no      457     yes   \n",
              "2           2   34  blue-collar    single  secondary      no     1698     yes   \n",
              "\n",
              "  loan   contact  day month  campaign  pdays  previous poutcome term_deposit  \n",
              "0   no   unknown   30   may         1     -1         0  unknown          yes  \n",
              "1   no  cellular    1   apr         3     -1         0  unknown           no  \n",
              "2   no   unknown   27   may         7     -1         0  unknown           no  "
            ]
          },
          "metadata": {
            "tags": []
          },
          "execution_count": 110
        }
      ]
    },
    {
      "cell_type": "code",
      "metadata": {
        "colab": {
          "base_uri": "https://localhost:8080/",
          "height": 86,
          "referenced_widgets": [
            "b297d4e2ea2a498f8ce2f0c29cef4355",
            "46e610952f3d465189004400b5a0670b",
            "6c6fc912882a4ca5939a2a4d8fb5d9ba",
            "93e5dd79fd6546abad8a70613873cd65",
            "072e4b84e43f456697dc1c9bdeb7a5a3",
            "f5725439bb814eb79dd3921120cf7d27",
            "a8349116197c4b5f95e4715a3293bf64",
            "cc3ecfb8573e4886a692e4fa31419a07",
            "25a247dc4ae74c8f9f8d3bb92f05b163",
            "5a6b7f166b5d4f428ddf8fcaff9f888e",
            "c1e071a31ffc4006b55ae5e173260f79",
            "367230c5a0a44910aaebffccd6d3146a"
          ]
        },
        "id": "81z08UzcIQsS",
        "outputId": "a8a0521a-d890-4c45-91ff-34aa6ddeb8cf"
      },
      "source": [
        "eda_dados = sweetviz.analyze(dados)\n",
        "#eda_dados.show_html() "
      ],
      "execution_count": null,
      "outputs": [
        {
          "output_type": "display_data",
          "data": {
            "application/vnd.jupyter.widget-view+json": {
              "model_id": "367230c5a0a44910aaebffccd6d3146a",
              "version_major": 2,
              "version_minor": 0
            },
            "text/plain": [
              "HBox(children=(FloatProgress(value=0.0, layout=Layout(flex='2'), max=18.0), HTML(value='')), layout=Layout(dis…"
            ]
          },
          "metadata": {
            "tags": []
          }
        },
        {
          "output_type": "stream",
          "text": [
            "\n",
            "Report SWEETVIZ_REPORT.html was generated! NOTEBOOK/COLAB USERS: the web browser MAY not pop up, regardless, the report IS saved in your notebook/colab files.\n"
          ],
          "name": "stdout"
        }
      ]
    },
    {
      "cell_type": "code",
      "metadata": {
        "colab": {
          "base_uri": "https://localhost:8080/"
        },
        "id": "X8zdCm29RCNo",
        "outputId": "6f96d702-08e3-43c9-aa4b-b22eeb13e934"
      },
      "source": [
        "dados['term_deposit'] == 'no'"
      ],
      "execution_count": null,
      "outputs": [
        {
          "output_type": "execute_result",
          "data": {
            "text/plain": [
              "0       False\n",
              "1        True\n",
              "2        True\n",
              "3        True\n",
              "4       False\n",
              "        ...  \n",
              "6495    False\n",
              "6496     True\n",
              "6497     True\n",
              "6498    False\n",
              "6499    False\n",
              "Name: term_deposit, Length: 6500, dtype: bool"
            ]
          },
          "metadata": {
            "tags": []
          },
          "execution_count": 112
        }
      ]
    },
    {
      "cell_type": "code",
      "metadata": {
        "id": "OZYoEUwPKfky",
        "colab": {
          "referenced_widgets": [
            "5a9b9ea054d44adfac09c570b5ca0416"
          ]
        },
        "outputId": "afef7ea7-cfb6-4558-aed1-d2c4b9a5347a"
      },
      "source": [
        "eda2 = sweetviz.compare_intra(dados, dados['term_deposit'] == 'yes', ['Usuarios', 'Deposito'])\n",
        "#eda2.show_html()"
      ],
      "execution_count": null,
      "outputs": [
        {
          "output_type": "display_data",
          "data": {
            "application/vnd.jupyter.widget-view+json": {
              "model_id": "5a9b9ea054d44adfac09c570b5ca0416",
              "version_major": 2,
              "version_minor": 0
            },
            "text/plain": [
              "HBox(children=(FloatProgress(value=0.0, layout=Layout(flex='2'), max=18.0), HTML(value='')), layout=Layout(dis…"
            ]
          },
          "metadata": {
            "tags": []
          }
        },
        {
          "output_type": "stream",
          "text": [
            "C:\\Users\\mxapi\\anaconda3\\lib\\site-packages\\numpy\\core\\_asarray.py:83: VisibleDeprecationWarning: Creating an ndarray from ragged nested sequences (which is a list-or-tuple of lists-or-tuples-or ndarrays with different lengths or shapes) is deprecated. If you meant to do this, you must specify 'dtype=object' when creating the ndarray\n",
            "  return array(a, dtype, copy=False, order=order)\n",
            "C:\\Users\\mxapi\\anaconda3\\lib\\site-packages\\numpy\\core\\_asarray.py:83: VisibleDeprecationWarning: Creating an ndarray from ragged nested sequences (which is a list-or-tuple of lists-or-tuples-or ndarrays with different lengths or shapes) is deprecated. If you meant to do this, you must specify 'dtype=object' when creating the ndarray\n",
            "  return array(a, dtype, copy=False, order=order)\n",
            "C:\\Users\\mxapi\\anaconda3\\lib\\site-packages\\numpy\\core\\_asarray.py:83: VisibleDeprecationWarning: Creating an ndarray from ragged nested sequences (which is a list-or-tuple of lists-or-tuples-or ndarrays with different lengths or shapes) is deprecated. If you meant to do this, you must specify 'dtype=object' when creating the ndarray\n",
            "  return array(a, dtype, copy=False, order=order)\n",
            "C:\\Users\\mxapi\\anaconda3\\lib\\site-packages\\numpy\\core\\_asarray.py:83: VisibleDeprecationWarning: Creating an ndarray from ragged nested sequences (which is a list-or-tuple of lists-or-tuples-or ndarrays with different lengths or shapes) is deprecated. If you meant to do this, you must specify 'dtype=object' when creating the ndarray\n",
            "  return array(a, dtype, copy=False, order=order)\n",
            "C:\\Users\\mxapi\\anaconda3\\lib\\site-packages\\numpy\\core\\_asarray.py:83: VisibleDeprecationWarning: Creating an ndarray from ragged nested sequences (which is a list-or-tuple of lists-or-tuples-or ndarrays with different lengths or shapes) is deprecated. If you meant to do this, you must specify 'dtype=object' when creating the ndarray\n",
            "  return array(a, dtype, copy=False, order=order)\n",
            "C:\\Users\\mxapi\\anaconda3\\lib\\site-packages\\numpy\\core\\_asarray.py:83: VisibleDeprecationWarning: Creating an ndarray from ragged nested sequences (which is a list-or-tuple of lists-or-tuples-or ndarrays with different lengths or shapes) is deprecated. If you meant to do this, you must specify 'dtype=object' when creating the ndarray\n",
            "  return array(a, dtype, copy=False, order=order)\n",
            "C:\\Users\\mxapi\\anaconda3\\lib\\site-packages\\numpy\\core\\_asarray.py:83: VisibleDeprecationWarning: Creating an ndarray from ragged nested sequences (which is a list-or-tuple of lists-or-tuples-or ndarrays with different lengths or shapes) is deprecated. If you meant to do this, you must specify 'dtype=object' when creating the ndarray\n",
            "  return array(a, dtype, copy=False, order=order)\n",
            "C:\\Users\\mxapi\\anaconda3\\lib\\site-packages\\numpy\\core\\_asarray.py:83: VisibleDeprecationWarning: Creating an ndarray from ragged nested sequences (which is a list-or-tuple of lists-or-tuples-or ndarrays with different lengths or shapes) is deprecated. If you meant to do this, you must specify 'dtype=object' when creating the ndarray\n",
            "  return array(a, dtype, copy=False, order=order)\n",
            "C:\\Users\\mxapi\\anaconda3\\lib\\site-packages\\numpy\\core\\_asarray.py:83: VisibleDeprecationWarning: Creating an ndarray from ragged nested sequences (which is a list-or-tuple of lists-or-tuples-or ndarrays with different lengths or shapes) is deprecated. If you meant to do this, you must specify 'dtype=object' when creating the ndarray\n",
            "  return array(a, dtype, copy=False, order=order)\n",
            "C:\\Users\\mxapi\\anaconda3\\lib\\site-packages\\numpy\\core\\_asarray.py:83: VisibleDeprecationWarning: Creating an ndarray from ragged nested sequences (which is a list-or-tuple of lists-or-tuples-or ndarrays with different lengths or shapes) is deprecated. If you meant to do this, you must specify 'dtype=object' when creating the ndarray\n",
            "  return array(a, dtype, copy=False, order=order)\n",
            "C:\\Users\\mxapi\\anaconda3\\lib\\site-packages\\numpy\\core\\_asarray.py:83: VisibleDeprecationWarning: Creating an ndarray from ragged nested sequences (which is a list-or-tuple of lists-or-tuples-or ndarrays with different lengths or shapes) is deprecated. If you meant to do this, you must specify 'dtype=object' when creating the ndarray\n",
            "  return array(a, dtype, copy=False, order=order)\n",
            "C:\\Users\\mxapi\\anaconda3\\lib\\site-packages\\numpy\\core\\_asarray.py:83: VisibleDeprecationWarning: Creating an ndarray from ragged nested sequences (which is a list-or-tuple of lists-or-tuples-or ndarrays with different lengths or shapes) is deprecated. If you meant to do this, you must specify 'dtype=object' when creating the ndarray\n",
            "  return array(a, dtype, copy=False, order=order)\n",
            "C:\\Users\\mxapi\\anaconda3\\lib\\site-packages\\numpy\\core\\_asarray.py:83: VisibleDeprecationWarning: Creating an ndarray from ragged nested sequences (which is a list-or-tuple of lists-or-tuples-or ndarrays with different lengths or shapes) is deprecated. If you meant to do this, you must specify 'dtype=object' when creating the ndarray\n",
            "  return array(a, dtype, copy=False, order=order)\n",
            "C:\\Users\\mxapi\\anaconda3\\lib\\site-packages\\numpy\\core\\_asarray.py:83: VisibleDeprecationWarning: Creating an ndarray from ragged nested sequences (which is a list-or-tuple of lists-or-tuples-or ndarrays with different lengths or shapes) is deprecated. If you meant to do this, you must specify 'dtype=object' when creating the ndarray\n",
            "  return array(a, dtype, copy=False, order=order)\n",
            "C:\\Users\\mxapi\\anaconda3\\lib\\site-packages\\numpy\\core\\_asarray.py:83: VisibleDeprecationWarning: Creating an ndarray from ragged nested sequences (which is a list-or-tuple of lists-or-tuples-or ndarrays with different lengths or shapes) is deprecated. If you meant to do this, you must specify 'dtype=object' when creating the ndarray\n",
            "  return array(a, dtype, copy=False, order=order)\n",
            "C:\\Users\\mxapi\\anaconda3\\lib\\site-packages\\numpy\\core\\_asarray.py:83: VisibleDeprecationWarning: Creating an ndarray from ragged nested sequences (which is a list-or-tuple of lists-or-tuples-or ndarrays with different lengths or shapes) is deprecated. If you meant to do this, you must specify 'dtype=object' when creating the ndarray\n",
            "  return array(a, dtype, copy=False, order=order)\n",
            "C:\\Users\\mxapi\\anaconda3\\lib\\site-packages\\numpy\\core\\_asarray.py:83: VisibleDeprecationWarning: Creating an ndarray from ragged nested sequences (which is a list-or-tuple of lists-or-tuples-or ndarrays with different lengths or shapes) is deprecated. If you meant to do this, you must specify 'dtype=object' when creating the ndarray\n",
            "  return array(a, dtype, copy=False, order=order)\n",
            "C:\\Users\\mxapi\\anaconda3\\lib\\site-packages\\numpy\\core\\_asarray.py:83: VisibleDeprecationWarning: Creating an ndarray from ragged nested sequences (which is a list-or-tuple of lists-or-tuples-or ndarrays with different lengths or shapes) is deprecated. If you meant to do this, you must specify 'dtype=object' when creating the ndarray\n",
            "  return array(a, dtype, copy=False, order=order)\n",
            "C:\\Users\\mxapi\\anaconda3\\lib\\site-packages\\numpy\\core\\_asarray.py:83: VisibleDeprecationWarning: Creating an ndarray from ragged nested sequences (which is a list-or-tuple of lists-or-tuples-or ndarrays with different lengths or shapes) is deprecated. If you meant to do this, you must specify 'dtype=object' when creating the ndarray\n",
            "  return array(a, dtype, copy=False, order=order)\n",
            "C:\\Users\\mxapi\\anaconda3\\lib\\site-packages\\numpy\\core\\_asarray.py:83: VisibleDeprecationWarning: Creating an ndarray from ragged nested sequences (which is a list-or-tuple of lists-or-tuples-or ndarrays with different lengths or shapes) is deprecated. If you meant to do this, you must specify 'dtype=object' when creating the ndarray\n",
            "  return array(a, dtype, copy=False, order=order)\n",
            "C:\\Users\\mxapi\\anaconda3\\lib\\site-packages\\numpy\\core\\_asarray.py:83: VisibleDeprecationWarning: Creating an ndarray from ragged nested sequences (which is a list-or-tuple of lists-or-tuples-or ndarrays with different lengths or shapes) is deprecated. If you meant to do this, you must specify 'dtype=object' when creating the ndarray\n",
            "  return array(a, dtype, copy=False, order=order)\n",
            "C:\\Users\\mxapi\\anaconda3\\lib\\site-packages\\numpy\\core\\_asarray.py:83: VisibleDeprecationWarning: Creating an ndarray from ragged nested sequences (which is a list-or-tuple of lists-or-tuples-or ndarrays with different lengths or shapes) is deprecated. If you meant to do this, you must specify 'dtype=object' when creating the ndarray\n",
            "  return array(a, dtype, copy=False, order=order)\n"
          ],
          "name": "stderr"
        },
        {
          "output_type": "stream",
          "text": [
            "C:\\Users\\mxapi\\anaconda3\\lib\\site-packages\\numpy\\core\\_asarray.py:83: VisibleDeprecationWarning: Creating an ndarray from ragged nested sequences (which is a list-or-tuple of lists-or-tuples-or ndarrays with different lengths or shapes) is deprecated. If you meant to do this, you must specify 'dtype=object' when creating the ndarray\n",
            "  return array(a, dtype, copy=False, order=order)\n",
            "C:\\Users\\mxapi\\anaconda3\\lib\\site-packages\\numpy\\core\\_asarray.py:83: VisibleDeprecationWarning: Creating an ndarray from ragged nested sequences (which is a list-or-tuple of lists-or-tuples-or ndarrays with different lengths or shapes) is deprecated. If you meant to do this, you must specify 'dtype=object' when creating the ndarray\n",
            "  return array(a, dtype, copy=False, order=order)\n",
            "C:\\Users\\mxapi\\anaconda3\\lib\\site-packages\\numpy\\core\\_asarray.py:83: VisibleDeprecationWarning: Creating an ndarray from ragged nested sequences (which is a list-or-tuple of lists-or-tuples-or ndarrays with different lengths or shapes) is deprecated. If you meant to do this, you must specify 'dtype=object' when creating the ndarray\n",
            "  return array(a, dtype, copy=False, order=order)\n",
            "C:\\Users\\mxapi\\anaconda3\\lib\\site-packages\\numpy\\core\\_asarray.py:83: VisibleDeprecationWarning: Creating an ndarray from ragged nested sequences (which is a list-or-tuple of lists-or-tuples-or ndarrays with different lengths or shapes) is deprecated. If you meant to do this, you must specify 'dtype=object' when creating the ndarray\n",
            "  return array(a, dtype, copy=False, order=order)\n",
            "C:\\Users\\mxapi\\anaconda3\\lib\\site-packages\\numpy\\core\\_asarray.py:83: VisibleDeprecationWarning: Creating an ndarray from ragged nested sequences (which is a list-or-tuple of lists-or-tuples-or ndarrays with different lengths or shapes) is deprecated. If you meant to do this, you must specify 'dtype=object' when creating the ndarray\n",
            "  return array(a, dtype, copy=False, order=order)\n",
            "C:\\Users\\mxapi\\anaconda3\\lib\\site-packages\\numpy\\core\\_asarray.py:83: VisibleDeprecationWarning: Creating an ndarray from ragged nested sequences (which is a list-or-tuple of lists-or-tuples-or ndarrays with different lengths or shapes) is deprecated. If you meant to do this, you must specify 'dtype=object' when creating the ndarray\n",
            "  return array(a, dtype, copy=False, order=order)\n",
            "C:\\Users\\mxapi\\anaconda3\\lib\\site-packages\\numpy\\core\\_asarray.py:83: VisibleDeprecationWarning: Creating an ndarray from ragged nested sequences (which is a list-or-tuple of lists-or-tuples-or ndarrays with different lengths or shapes) is deprecated. If you meant to do this, you must specify 'dtype=object' when creating the ndarray\n",
            "  return array(a, dtype, copy=False, order=order)\n",
            "C:\\Users\\mxapi\\anaconda3\\lib\\site-packages\\numpy\\core\\_asarray.py:83: VisibleDeprecationWarning: Creating an ndarray from ragged nested sequences (which is a list-or-tuple of lists-or-tuples-or ndarrays with different lengths or shapes) is deprecated. If you meant to do this, you must specify 'dtype=object' when creating the ndarray\n",
            "  return array(a, dtype, copy=False, order=order)\n",
            "C:\\Users\\mxapi\\anaconda3\\lib\\site-packages\\numpy\\core\\_asarray.py:83: VisibleDeprecationWarning: Creating an ndarray from ragged nested sequences (which is a list-or-tuple of lists-or-tuples-or ndarrays with different lengths or shapes) is deprecated. If you meant to do this, you must specify 'dtype=object' when creating the ndarray\n",
            "  return array(a, dtype, copy=False, order=order)\n",
            "C:\\Users\\mxapi\\anaconda3\\lib\\site-packages\\numpy\\core\\_asarray.py:83: VisibleDeprecationWarning: Creating an ndarray from ragged nested sequences (which is a list-or-tuple of lists-or-tuples-or ndarrays with different lengths or shapes) is deprecated. If you meant to do this, you must specify 'dtype=object' when creating the ndarray\n",
            "  return array(a, dtype, copy=False, order=order)\n",
            "C:\\Users\\mxapi\\anaconda3\\lib\\site-packages\\numpy\\core\\_asarray.py:83: VisibleDeprecationWarning: Creating an ndarray from ragged nested sequences (which is a list-or-tuple of lists-or-tuples-or ndarrays with different lengths or shapes) is deprecated. If you meant to do this, you must specify 'dtype=object' when creating the ndarray\n",
            "  return array(a, dtype, copy=False, order=order)\n",
            "C:\\Users\\mxapi\\anaconda3\\lib\\site-packages\\numpy\\core\\_asarray.py:83: VisibleDeprecationWarning: Creating an ndarray from ragged nested sequences (which is a list-or-tuple of lists-or-tuples-or ndarrays with different lengths or shapes) is deprecated. If you meant to do this, you must specify 'dtype=object' when creating the ndarray\n",
            "  return array(a, dtype, copy=False, order=order)\n",
            "C:\\Users\\mxapi\\anaconda3\\lib\\site-packages\\numpy\\core\\_asarray.py:83: VisibleDeprecationWarning: Creating an ndarray from ragged nested sequences (which is a list-or-tuple of lists-or-tuples-or ndarrays with different lengths or shapes) is deprecated. If you meant to do this, you must specify 'dtype=object' when creating the ndarray\n",
            "  return array(a, dtype, copy=False, order=order)\n"
          ],
          "name": "stderr"
        },
        {
          "output_type": "stream",
          "text": [
            "\n",
            "Report SWEETVIZ_REPORT.html was generated! NOTEBOOK/COLAB USERS: the web browser MAY not pop up, regardless, the report IS saved in your notebook/colab files.\n"
          ],
          "name": "stdout"
        }
      ]
    },
    {
      "cell_type": "markdown",
      "metadata": {
        "id": "8gwEjosLFXV2"
      },
      "source": [
        "Testando uma heusritica base: \"toda pessoa que esta inadimplente nao faz o deposito, toda pessoa que paga em dia faz o deposito\""
      ]
    },
    {
      "cell_type": "code",
      "metadata": {
        "id": "_dvlPONiFGid",
        "outputId": "3e72671e-28e9-49e2-8c99-4a8011aa43a3"
      },
      "source": [
        "teste1 = dados['default'].map({'no':0, 'yes':1})\n",
        "teste1"
      ],
      "execution_count": null,
      "outputs": [
        {
          "output_type": "execute_result",
          "data": {
            "text/plain": [
              "0       0\n",
              "1       0\n",
              "2       0\n",
              "3       0\n",
              "4       0\n",
              "       ..\n",
              "6495    0\n",
              "6496    0\n",
              "6497    0\n",
              "6498    0\n",
              "6499    0\n",
              "Name: default, Length: 6500, dtype: int64"
            ]
          },
          "metadata": {
            "tags": []
          },
          "execution_count": 114
        }
      ]
    },
    {
      "cell_type": "code",
      "metadata": {
        "id": "vMP6w-iuSYbK"
      },
      "source": [
        "term_dep = dados['term_deposit'].map({'no':0, 'yes':1})"
      ],
      "execution_count": null,
      "outputs": []
    },
    {
      "cell_type": "code",
      "metadata": {
        "colab": {
          "base_uri": "https://localhost:8080/"
        },
        "id": "s88xLHqtR7Tg",
        "outputId": "c7da2f41-9184-47ac-a443-df797aa3ef87"
      },
      "source": [
        "#acuracia da heuristica\n",
        "(teste1 == term_dep).mean()"
      ],
      "execution_count": null,
      "outputs": [
        {
          "output_type": "execute_result",
          "data": {
            "text/plain": [
              "0.49876923076923074"
            ]
          },
          "metadata": {
            "tags": []
          },
          "execution_count": 116
        }
      ]
    },
    {
      "cell_type": "code",
      "metadata": {
        "colab": {
          "base_uri": "https://localhost:8080/"
        },
        "id": "K9BPkHrAQM_H",
        "outputId": "1a798a7e-692a-455f-a7e4-2c4c94afb925"
      },
      "source": [
        "dados['term_deposit'].describe()"
      ],
      "execution_count": null,
      "outputs": [
        {
          "output_type": "execute_result",
          "data": {
            "text/plain": [
              "count     6500\n",
              "unique       2\n",
              "top         no\n",
              "freq      3267\n",
              "Name: term_deposit, dtype: object"
            ]
          },
          "metadata": {
            "tags": []
          },
          "execution_count": 117
        }
      ]
    },
    {
      "cell_type": "code",
      "metadata": {
        "colab": {
          "base_uri": "https://localhost:8080/"
        },
        "id": "9dc1mqxJQR9y",
        "outputId": "004beae8-23fb-45f3-f8f4-83b8ccdbd948"
      },
      "source": [
        "dados['term_deposit'].value_counts()"
      ],
      "execution_count": null,
      "outputs": [
        {
          "output_type": "execute_result",
          "data": {
            "text/plain": [
              "no     3267\n",
              "yes    3233\n",
              "Name: term_deposit, dtype: int64"
            ]
          },
          "metadata": {
            "tags": []
          },
          "execution_count": 118
        }
      ]
    },
    {
      "cell_type": "code",
      "metadata": {
        "colab": {
          "base_uri": "https://localhost:8080/"
        },
        "id": "fZWrBwWoN0LG",
        "outputId": "f283d3c4-b7b1-476c-f0f1-da208308e49e"
      },
      "source": [
        "dados['balance'].describe()"
      ],
      "execution_count": null,
      "outputs": [
        {
          "output_type": "execute_result",
          "data": {
            "text/plain": [
              "count     6500.000000\n",
              "mean      1551.448462\n",
              "std       3235.418262\n",
              "min      -3372.000000\n",
              "25%        104.000000\n",
              "50%        538.000000\n",
              "75%       1701.000000\n",
              "max      81204.000000\n",
              "Name: balance, dtype: float64"
            ]
          },
          "metadata": {
            "tags": []
          },
          "execution_count": 119
        }
      ]
    },
    {
      "cell_type": "code",
      "metadata": {
        "id": "QEP0Rp9IQdOk"
      },
      "source": [
        "#separar o balance em\n",
        "\n",
        "#balance >= 100 == 1\n",
        "#balance < 100 == 0\n",
        "\n",
        "\n",
        "def transforma_para_zero_e_um(valor):\n",
        "\n",
        "    if valor >= 500:\n",
        "        return 1\n",
        "    else:\n",
        "        return 0\n",
        "\n"
      ],
      "execution_count": null,
      "outputs": []
    },
    {
      "cell_type": "code",
      "metadata": {
        "id": "ZYjw00L-RWWt"
      },
      "source": [
        "dados['balance_bin'] = dados['balance'].apply(transforma_para_zero_e_um)"
      ],
      "execution_count": null,
      "outputs": []
    },
    {
      "cell_type": "code",
      "metadata": {
        "id": "JQUwkJrER0SW"
      },
      "source": [
        "teste2 = dados['balance_bin']"
      ],
      "execution_count": null,
      "outputs": []
    },
    {
      "cell_type": "code",
      "metadata": {
        "colab": {
          "base_uri": "https://localhost:8080/"
        },
        "id": "P0WGFI_wX2VA",
        "outputId": "ab0a6730-c5c0-4ee2-f286-76c0e2de7bf0"
      },
      "source": [
        "#acuracia da heuristica 2\n",
        "(teste2 == term_dep).mean()"
      ],
      "execution_count": null,
      "outputs": [
        {
          "output_type": "execute_result",
          "data": {
            "text/plain": [
              "0.5603076923076923"
            ]
          },
          "metadata": {
            "tags": []
          },
          "execution_count": 123
        }
      ]
    },
    {
      "cell_type": "markdown",
      "metadata": {
        "id": "rAWekK3BjmZY"
      },
      "source": [
        "## Tratamento dos dados"
      ]
    },
    {
      "cell_type": "markdown",
      "metadata": {
        "id": "AGmMCCOkSopJ"
      },
      "source": [
        "Transformando as colunas object para category"
      ]
    },
    {
      "cell_type": "code",
      "metadata": {
        "id": "BoSTN4lXV7MX"
      },
      "source": [
        "#Transforma as object em category\n",
        "for i in dados.columns[dados.dtypes == object]: # df.dtypes == 'object'\n",
        "    dados[i] = dados[i].astype('category')"
      ],
      "execution_count": null,
      "outputs": []
    },
    {
      "cell_type": "code",
      "metadata": {
        "id": "hGSm5GOrz2tx"
      },
      "source": [
        "#Transforma as object em category\n",
        "for i in teste.columns[teste.dtypes == object]: # df.dtypes == 'object'\n",
        "    teste[i] = teste[i].astype('category')"
      ],
      "execution_count": null,
      "outputs": []
    },
    {
      "cell_type": "code",
      "metadata": {
        "colab": {
          "base_uri": "https://localhost:8080/"
        },
        "id": "J70buXcKSnZ1",
        "outputId": "aff7ff73-caa1-4667-966c-2973c9bf14b6"
      },
      "source": [
        "dados.info()"
      ],
      "execution_count": null,
      "outputs": [
        {
          "output_type": "stream",
          "text": [
            "<class 'pandas.core.frame.DataFrame'>\n",
            "RangeIndex: 6500 entries, 0 to 6499\n",
            "Data columns (total 17 columns):\n",
            " #   Column        Non-Null Count  Dtype   \n",
            "---  ------        --------------  -----   \n",
            " 0   Unnamed: 0    6500 non-null   int64   \n",
            " 1   age           6500 non-null   int64   \n",
            " 2   job           6500 non-null   category\n",
            " 3   marital       6500 non-null   category\n",
            " 4   education     6500 non-null   category\n",
            " 5   default       6500 non-null   category\n",
            " 6   balance       6500 non-null   int64   \n",
            " 7   housing       6500 non-null   category\n",
            " 8   loan          6500 non-null   category\n",
            " 9   contact       6500 non-null   category\n",
            " 10  day           6500 non-null   int64   \n",
            " 11  month         6500 non-null   category\n",
            " 12  campaign      6500 non-null   int64   \n",
            " 13  pdays         6500 non-null   int64   \n",
            " 14  previous      6500 non-null   int64   \n",
            " 15  poutcome      6500 non-null   category\n",
            " 16  term_deposit  6500 non-null   category\n",
            "dtypes: category(10), int64(7)\n",
            "memory usage: 420.8 KB\n"
          ],
          "name": "stdout"
        }
      ]
    },
    {
      "cell_type": "markdown",
      "metadata": {
        "id": "iHb4J9FaZM9-"
      },
      "source": [
        "Transformando as variaveis categoricas em numericas (no = 0 e yes = 1) das colunas default, loan, housing e term_deposit"
      ]
    },
    {
      "cell_type": "code",
      "metadata": {
        "id": "F6L4vxBRYuWh"
      },
      "source": [
        "#pega somente essas colunas e transfoma pra 0 e 1\n",
        "lista = ['default', 'loan', 'housing','term_deposit']\n",
        "\n",
        "for i in lista:\n",
        "    dados[i] = dados[i].cat.codes"
      ],
      "execution_count": null,
      "outputs": []
    },
    {
      "cell_type": "code",
      "metadata": {
        "id": "FSTiTcWZz2t3"
      },
      "source": [
        "#pega somente essas colunas e transfoma pra 0 e 1\n",
        "lista = ['default', 'loan', 'housing']\n",
        "\n",
        "for i in lista:\n",
        "    teste[i] = teste[i].cat.codes"
      ],
      "execution_count": null,
      "outputs": []
    },
    {
      "cell_type": "code",
      "metadata": {
        "colab": {
          "base_uri": "https://localhost:8080/",
          "height": 408
        },
        "id": "tV-rlvl4YpSg",
        "outputId": "53fe57c5-0463-4415-a86e-ec7228e35ffd"
      },
      "source": [
        "dados[lista]"
      ],
      "execution_count": null,
      "outputs": [
        {
          "output_type": "execute_result",
          "data": {
            "text/html": [
              "<div>\n",
              "<style scoped>\n",
              "    .dataframe tbody tr th:only-of-type {\n",
              "        vertical-align: middle;\n",
              "    }\n",
              "\n",
              "    .dataframe tbody tr th {\n",
              "        vertical-align: top;\n",
              "    }\n",
              "\n",
              "    .dataframe thead th {\n",
              "        text-align: right;\n",
              "    }\n",
              "</style>\n",
              "<table border=\"1\" class=\"dataframe\">\n",
              "  <thead>\n",
              "    <tr style=\"text-align: right;\">\n",
              "      <th></th>\n",
              "      <th>default</th>\n",
              "      <th>loan</th>\n",
              "      <th>housing</th>\n",
              "      <th>term_deposit</th>\n",
              "    </tr>\n",
              "  </thead>\n",
              "  <tbody>\n",
              "    <tr>\n",
              "      <th>0</th>\n",
              "      <td>0</td>\n",
              "      <td>0</td>\n",
              "      <td>1</td>\n",
              "      <td>1</td>\n",
              "    </tr>\n",
              "    <tr>\n",
              "      <th>1</th>\n",
              "      <td>0</td>\n",
              "      <td>0</td>\n",
              "      <td>1</td>\n",
              "      <td>0</td>\n",
              "    </tr>\n",
              "    <tr>\n",
              "      <th>2</th>\n",
              "      <td>0</td>\n",
              "      <td>0</td>\n",
              "      <td>1</td>\n",
              "      <td>0</td>\n",
              "    </tr>\n",
              "    <tr>\n",
              "      <th>3</th>\n",
              "      <td>0</td>\n",
              "      <td>0</td>\n",
              "      <td>0</td>\n",
              "      <td>0</td>\n",
              "    </tr>\n",
              "    <tr>\n",
              "      <th>4</th>\n",
              "      <td>0</td>\n",
              "      <td>0</td>\n",
              "      <td>0</td>\n",
              "      <td>1</td>\n",
              "    </tr>\n",
              "    <tr>\n",
              "      <th>...</th>\n",
              "      <td>...</td>\n",
              "      <td>...</td>\n",
              "      <td>...</td>\n",
              "      <td>...</td>\n",
              "    </tr>\n",
              "    <tr>\n",
              "      <th>6495</th>\n",
              "      <td>0</td>\n",
              "      <td>0</td>\n",
              "      <td>1</td>\n",
              "      <td>1</td>\n",
              "    </tr>\n",
              "    <tr>\n",
              "      <th>6496</th>\n",
              "      <td>0</td>\n",
              "      <td>0</td>\n",
              "      <td>0</td>\n",
              "      <td>0</td>\n",
              "    </tr>\n",
              "    <tr>\n",
              "      <th>6497</th>\n",
              "      <td>0</td>\n",
              "      <td>0</td>\n",
              "      <td>0</td>\n",
              "      <td>0</td>\n",
              "    </tr>\n",
              "    <tr>\n",
              "      <th>6498</th>\n",
              "      <td>0</td>\n",
              "      <td>0</td>\n",
              "      <td>0</td>\n",
              "      <td>1</td>\n",
              "    </tr>\n",
              "    <tr>\n",
              "      <th>6499</th>\n",
              "      <td>0</td>\n",
              "      <td>0</td>\n",
              "      <td>1</td>\n",
              "      <td>1</td>\n",
              "    </tr>\n",
              "  </tbody>\n",
              "</table>\n",
              "<p>6500 rows × 4 columns</p>\n",
              "</div>"
            ],
            "text/plain": [
              "      default  loan  housing  term_deposit\n",
              "0           0     0        1             1\n",
              "1           0     0        1             0\n",
              "2           0     0        1             0\n",
              "3           0     0        0             0\n",
              "4           0     0        0             1\n",
              "...       ...   ...      ...           ...\n",
              "6495        0     0        1             1\n",
              "6496        0     0        0             0\n",
              "6497        0     0        0             0\n",
              "6498        0     0        0             1\n",
              "6499        0     0        1             1\n",
              "\n",
              "[6500 rows x 4 columns]"
            ]
          },
          "metadata": {
            "tags": []
          },
          "execution_count": 7
        }
      ]
    },
    {
      "cell_type": "markdown",
      "metadata": {
        "id": "hoPedyJYYY_m"
      },
      "source": [
        "Ordenando education para primary, secondray, tertiary e unknown"
      ]
    },
    {
      "cell_type": "code",
      "metadata": {
        "id": "UMgZn0BTYg1O"
      },
      "source": [
        "#reordenando\n",
        "dados.education = dados.education.cat.reorder_categories(['primary', 'secondary', 'tertiary', 'unknown'], ordered=True)"
      ],
      "execution_count": null,
      "outputs": []
    },
    {
      "cell_type": "code",
      "metadata": {
        "id": "bkaf4XDIz2t4"
      },
      "source": [
        "#reordenando\n",
        "teste.education = teste.education.cat.reorder_categories(['primary', 'secondary', 'tertiary', 'unknown'], ordered=True)"
      ],
      "execution_count": null,
      "outputs": []
    },
    {
      "cell_type": "markdown",
      "metadata": {
        "id": "7xP5OHh9Y7-Y"
      },
      "source": [
        "Transformando as variaveis job, marital, contact e poutcome em numeros"
      ]
    },
    {
      "cell_type": "code",
      "metadata": {
        "colab": {
          "base_uri": "https://localhost:8080/"
        },
        "id": "gOgIeGuXZr6U",
        "outputId": "122f0c32-1463-47aa-8f9e-f93c208322d9"
      },
      "source": [
        "dados.info()"
      ],
      "execution_count": null,
      "outputs": [
        {
          "output_type": "stream",
          "text": [
            "<class 'pandas.core.frame.DataFrame'>\n",
            "RangeIndex: 6500 entries, 0 to 6499\n",
            "Data columns (total 17 columns):\n",
            " #   Column        Non-Null Count  Dtype   \n",
            "---  ------        --------------  -----   \n",
            " 0   Unnamed: 0    6500 non-null   int64   \n",
            " 1   age           6500 non-null   int64   \n",
            " 2   job           6500 non-null   category\n",
            " 3   marital       6500 non-null   category\n",
            " 4   education     6500 non-null   category\n",
            " 5   default       6500 non-null   int8    \n",
            " 6   balance       6500 non-null   int64   \n",
            " 7   housing       6500 non-null   int8    \n",
            " 8   loan          6500 non-null   int8    \n",
            " 9   contact       6500 non-null   category\n",
            " 10  day           6500 non-null   int64   \n",
            " 11  month         6500 non-null   category\n",
            " 12  campaign      6500 non-null   int64   \n",
            " 13  pdays         6500 non-null   int64   \n",
            " 14  previous      6500 non-null   int64   \n",
            " 15  poutcome      6500 non-null   category\n",
            " 16  term_deposit  6500 non-null   int8    \n",
            "dtypes: category(6), int64(7), int8(4)\n",
            "memory usage: 420.5 KB\n"
          ],
          "name": "stdout"
        }
      ]
    },
    {
      "cell_type": "code",
      "metadata": {
        "id": "11wMZ0ACZBw2"
      },
      "source": [
        "#pega somente essas colunas e transfoma para numeros\n",
        "lista = ['job', 'marital',  'education', 'contact','poutcome', 'month']\n",
        "\n",
        "for i in lista:\n",
        "    dados[i] = dados[i].cat.codes"
      ],
      "execution_count": null,
      "outputs": []
    },
    {
      "cell_type": "code",
      "metadata": {
        "id": "RHGfZPBFz2t5"
      },
      "source": [
        "#pega somente essas colunas e transfoma para numeros\n",
        "lista = ['job', 'marital',  'education', 'contact','poutcome', 'month']\n",
        "\n",
        "for i in lista:\n",
        "    teste[i] = teste[i].cat.codes"
      ],
      "execution_count": null,
      "outputs": []
    },
    {
      "cell_type": "code",
      "metadata": {
        "colab": {
          "base_uri": "https://localhost:8080/"
        },
        "id": "DAzODeILZ5Vp",
        "outputId": "755f978f-23f6-41c3-b434-c8085aed29cd"
      },
      "source": [
        "dados.info()"
      ],
      "execution_count": null,
      "outputs": [
        {
          "output_type": "stream",
          "text": [
            "<class 'pandas.core.frame.DataFrame'>\n",
            "RangeIndex: 6500 entries, 0 to 6499\n",
            "Data columns (total 17 columns):\n",
            " #   Column        Non-Null Count  Dtype\n",
            "---  ------        --------------  -----\n",
            " 0   Unnamed: 0    6500 non-null   int64\n",
            " 1   age           6500 non-null   int64\n",
            " 2   job           6500 non-null   int8 \n",
            " 3   marital       6500 non-null   int8 \n",
            " 4   education     6500 non-null   int8 \n",
            " 5   default       6500 non-null   int8 \n",
            " 6   balance       6500 non-null   int64\n",
            " 7   housing       6500 non-null   int8 \n",
            " 8   loan          6500 non-null   int8 \n",
            " 9   contact       6500 non-null   int8 \n",
            " 10  day           6500 non-null   int64\n",
            " 11  month         6500 non-null   int8 \n",
            " 12  campaign      6500 non-null   int64\n",
            " 13  pdays         6500 non-null   int64\n",
            " 14  previous      6500 non-null   int64\n",
            " 15  poutcome      6500 non-null   int8 \n",
            " 16  term_deposit  6500 non-null   int8 \n",
            "dtypes: int64(7), int8(10)\n",
            "memory usage: 419.1 KB\n"
          ],
          "name": "stdout"
        }
      ]
    },
    {
      "cell_type": "markdown",
      "metadata": {
        "id": "iYvdg5cnmJNC"
      },
      "source": [
        "Tranformando as variaveis continuas /normalizando as variaveis"
      ]
    },
    {
      "cell_type": "code",
      "metadata": {
        "id": "iFOptbaBPkl-"
      },
      "source": [
        "from sklearn.preprocessing import StandardScaler\n",
        "sc = StandardScaler()"
      ],
      "execution_count": null,
      "outputs": []
    },
    {
      "cell_type": "markdown",
      "metadata": {
        "id": "-z2aEWY1iS0i"
      },
      "source": [
        ""
      ]
    },
    {
      "cell_type": "code",
      "metadata": {
        "id": "LnweGfibQwU5"
      },
      "source": [
        "dados_norm = sc.fit_transform(dados[['age', 'balance','day', 'campaign' , 'pdays', 'previous']]) #tranformando\n",
        "dados_norm_df = pd.DataFrame(dados_norm, columns = ['age_n', 'balance_n', 'day_n', 'campaign_n' , 'pdays_n', 'previous_n']) #montando dataframe\n",
        "dados = pd.concat([dados, dados_norm_df], axis = 1) #cocatenando com a base original\n"
      ],
      "execution_count": null,
      "outputs": []
    },
    {
      "cell_type": "code",
      "metadata": {
        "id": "7FLHWSvtz2t6"
      },
      "source": [
        "teste_norm = sc.fit_transform(teste[['age', 'balance','day', 'campaign' , 'pdays', 'previous']]) #tranformando\n",
        "teste_norm_df = pd.DataFrame(teste_norm, columns = ['age_n', 'balance_n', 'day_n', 'campaign_n' , 'pdays_n', 'previous_n']) #montando dataframe\n",
        "teste = pd.concat([teste, teste_norm_df], axis = 1) #cocatenando com a base original\n"
      ],
      "execution_count": null,
      "outputs": []
    },
    {
      "cell_type": "code",
      "metadata": {
        "colab": {
          "base_uri": "https://localhost:8080/",
          "height": 236
        },
        "id": "ERhMOSIXTsPH",
        "outputId": "da777260-f551-4ae6-b62a-836f58e12c02"
      },
      "source": [
        "dados.sample(5)"
      ],
      "execution_count": null,
      "outputs": [
        {
          "output_type": "execute_result",
          "data": {
            "text/html": [
              "<div>\n",
              "<style scoped>\n",
              "    .dataframe tbody tr th:only-of-type {\n",
              "        vertical-align: middle;\n",
              "    }\n",
              "\n",
              "    .dataframe tbody tr th {\n",
              "        vertical-align: top;\n",
              "    }\n",
              "\n",
              "    .dataframe thead th {\n",
              "        text-align: right;\n",
              "    }\n",
              "</style>\n",
              "<table border=\"1\" class=\"dataframe\">\n",
              "  <thead>\n",
              "    <tr style=\"text-align: right;\">\n",
              "      <th></th>\n",
              "      <th>Unnamed: 0</th>\n",
              "      <th>age</th>\n",
              "      <th>job</th>\n",
              "      <th>marital</th>\n",
              "      <th>education</th>\n",
              "      <th>default</th>\n",
              "      <th>balance</th>\n",
              "      <th>housing</th>\n",
              "      <th>loan</th>\n",
              "      <th>contact</th>\n",
              "      <th>...</th>\n",
              "      <th>pdays</th>\n",
              "      <th>previous</th>\n",
              "      <th>poutcome</th>\n",
              "      <th>term_deposit</th>\n",
              "      <th>age_n</th>\n",
              "      <th>balance_n</th>\n",
              "      <th>day_n</th>\n",
              "      <th>campaign_n</th>\n",
              "      <th>pdays_n</th>\n",
              "      <th>previous_n</th>\n",
              "    </tr>\n",
              "  </thead>\n",
              "  <tbody>\n",
              "    <tr>\n",
              "      <th>1540</th>\n",
              "      <td>1540</td>\n",
              "      <td>69</td>\n",
              "      <td>5</td>\n",
              "      <td>1</td>\n",
              "      <td>0</td>\n",
              "      <td>0</td>\n",
              "      <td>2346</td>\n",
              "      <td>0</td>\n",
              "      <td>0</td>\n",
              "      <td>0</td>\n",
              "      <td>...</td>\n",
              "      <td>-1</td>\n",
              "      <td>0</td>\n",
              "      <td>3</td>\n",
              "      <td>1</td>\n",
              "      <td>2.484958</td>\n",
              "      <td>0.245598</td>\n",
              "      <td>-0.557465</td>\n",
              "      <td>-0.210680</td>\n",
              "      <td>-0.423507</td>\n",
              "      <td>-0.302336</td>\n",
              "    </tr>\n",
              "    <tr>\n",
              "      <th>3418</th>\n",
              "      <td>3418</td>\n",
              "      <td>59</td>\n",
              "      <td>11</td>\n",
              "      <td>1</td>\n",
              "      <td>1</td>\n",
              "      <td>0</td>\n",
              "      <td>402</td>\n",
              "      <td>0</td>\n",
              "      <td>0</td>\n",
              "      <td>1</td>\n",
              "      <td>...</td>\n",
              "      <td>-1</td>\n",
              "      <td>0</td>\n",
              "      <td>3</td>\n",
              "      <td>0</td>\n",
              "      <td>1.600641</td>\n",
              "      <td>-0.355298</td>\n",
              "      <td>1.116991</td>\n",
              "      <td>0.864501</td>\n",
              "      <td>-0.423507</td>\n",
              "      <td>-0.302336</td>\n",
              "    </tr>\n",
              "    <tr>\n",
              "      <th>2311</th>\n",
              "      <td>2311</td>\n",
              "      <td>30</td>\n",
              "      <td>4</td>\n",
              "      <td>2</td>\n",
              "      <td>2</td>\n",
              "      <td>0</td>\n",
              "      <td>1161</td>\n",
              "      <td>1</td>\n",
              "      <td>0</td>\n",
              "      <td>0</td>\n",
              "      <td>...</td>\n",
              "      <td>-1</td>\n",
              "      <td>0</td>\n",
              "      <td>3</td>\n",
              "      <td>0</td>\n",
              "      <td>-0.963878</td>\n",
              "      <td>-0.120689</td>\n",
              "      <td>1.595407</td>\n",
              "      <td>0.147713</td>\n",
              "      <td>-0.423507</td>\n",
              "      <td>-0.302336</td>\n",
              "    </tr>\n",
              "    <tr>\n",
              "      <th>2926</th>\n",
              "      <td>2926</td>\n",
              "      <td>36</td>\n",
              "      <td>7</td>\n",
              "      <td>0</td>\n",
              "      <td>2</td>\n",
              "      <td>0</td>\n",
              "      <td>58</td>\n",
              "      <td>1</td>\n",
              "      <td>0</td>\n",
              "      <td>0</td>\n",
              "      <td>...</td>\n",
              "      <td>-1</td>\n",
              "      <td>0</td>\n",
              "      <td>3</td>\n",
              "      <td>0</td>\n",
              "      <td>-0.433288</td>\n",
              "      <td>-0.461629</td>\n",
              "      <td>1.475803</td>\n",
              "      <td>3.731653</td>\n",
              "      <td>-0.423507</td>\n",
              "      <td>-0.302336</td>\n",
              "    </tr>\n",
              "    <tr>\n",
              "      <th>4238</th>\n",
              "      <td>4238</td>\n",
              "      <td>47</td>\n",
              "      <td>3</td>\n",
              "      <td>1</td>\n",
              "      <td>0</td>\n",
              "      <td>0</td>\n",
              "      <td>20</td>\n",
              "      <td>0</td>\n",
              "      <td>1</td>\n",
              "      <td>0</td>\n",
              "      <td>...</td>\n",
              "      <td>-1</td>\n",
              "      <td>0</td>\n",
              "      <td>3</td>\n",
              "      <td>0</td>\n",
              "      <td>0.539461</td>\n",
              "      <td>-0.473375</td>\n",
              "      <td>1.475803</td>\n",
              "      <td>0.864501</td>\n",
              "      <td>-0.423507</td>\n",
              "      <td>-0.302336</td>\n",
              "    </tr>\n",
              "  </tbody>\n",
              "</table>\n",
              "<p>5 rows × 23 columns</p>\n",
              "</div>"
            ],
            "text/plain": [
              "      Unnamed: 0  age  job  marital  education  default  balance  housing  \\\n",
              "1540        1540   69    5        1          0        0     2346        0   \n",
              "3418        3418   59   11        1          1        0      402        0   \n",
              "2311        2311   30    4        2          2        0     1161        1   \n",
              "2926        2926   36    7        0          2        0       58        1   \n",
              "4238        4238   47    3        1          0        0       20        0   \n",
              "\n",
              "      loan  contact  ...  pdays  previous  poutcome  term_deposit     age_n  \\\n",
              "1540     0        0  ...     -1         0         3             1  2.484958   \n",
              "3418     0        1  ...     -1         0         3             0  1.600641   \n",
              "2311     0        0  ...     -1         0         3             0 -0.963878   \n",
              "2926     0        0  ...     -1         0         3             0 -0.433288   \n",
              "4238     1        0  ...     -1         0         3             0  0.539461   \n",
              "\n",
              "      balance_n     day_n  campaign_n   pdays_n  previous_n  \n",
              "1540   0.245598 -0.557465   -0.210680 -0.423507   -0.302336  \n",
              "3418  -0.355298  1.116991    0.864501 -0.423507   -0.302336  \n",
              "2311  -0.120689  1.595407    0.147713 -0.423507   -0.302336  \n",
              "2926  -0.461629  1.475803    3.731653 -0.423507   -0.302336  \n",
              "4238  -0.473375  1.475803    0.864501 -0.423507   -0.302336  \n",
              "\n",
              "[5 rows x 23 columns]"
            ]
          },
          "metadata": {
            "tags": []
          },
          "execution_count": 79
        }
      ]
    },
    {
      "cell_type": "markdown",
      "metadata": {
        "id": "QfSMXyDDlvTc"
      },
      "source": [
        "Dropando variaveis"
      ]
    },
    {
      "cell_type": "code",
      "metadata": {
        "colab": {
          "base_uri": "https://localhost:8080/"
        },
        "id": "IgUmXQloLhM-",
        "outputId": "b717132a-3164-4f7a-8988-09c63e573961"
      },
      "source": [
        "dados.columns"
      ],
      "execution_count": null,
      "outputs": [
        {
          "output_type": "execute_result",
          "data": {
            "text/plain": [
              "Index(['Unnamed: 0', 'age', 'job', 'marital', 'education', 'default',\n",
              "       'balance', 'housing', 'loan', 'contact', 'day', 'month', 'campaign',\n",
              "       'pdays', 'previous', 'poutcome', 'term_deposit', 'age_n', 'balance_n',\n",
              "       'day_n', 'campaign_n', 'pdays_n', 'previous_n'],\n",
              "      dtype='object')"
            ]
          },
          "metadata": {
            "tags": []
          },
          "execution_count": 80
        }
      ]
    },
    {
      "cell_type": "code",
      "metadata": {
        "id": "kIrUA0192-gC"
      },
      "source": [
        "#dados.drop(['Unnamed: 0'], axis = 1, inplace = True)"
      ],
      "execution_count": null,
      "outputs": []
    },
    {
      "cell_type": "code",
      "metadata": {
        "id": "1tjpDhLnl0qS"
      },
      "source": [
        "dados.drop(['Unnamed: 0','age', 'day', 'balance', 'campaign', 'pdays', 'previous'], axis = 1, inplace = True) # removendo as colunas que nao estao tranformadas\n"
      ],
      "execution_count": null,
      "outputs": []
    },
    {
      "cell_type": "code",
      "metadata": {
        "id": "fvV_w8GWz2t8"
      },
      "source": [
        "teste.drop(['Unnamed: 0','age', 'day', 'balance', 'campaign', 'pdays', 'previous'], axis = 1, inplace = True) # removendo as colunas que nao estao tranformadas\n"
      ],
      "execution_count": null,
      "outputs": []
    },
    {
      "cell_type": "markdown",
      "metadata": {
        "id": "WlGisxKYZV9x"
      },
      "source": [
        "Verificando a base apos as transformacoes"
      ]
    },
    {
      "cell_type": "code",
      "metadata": {
        "colab": {
          "base_uri": "https://localhost:8080/",
          "height": 218
        },
        "id": "0JWzDg_3SuKg",
        "outputId": "a1a8537d-2102-466f-c94f-c45601e7f141"
      },
      "source": [
        "dados.sample(5)"
      ],
      "execution_count": null,
      "outputs": [
        {
          "output_type": "execute_result",
          "data": {
            "text/html": [
              "<div>\n",
              "<style scoped>\n",
              "    .dataframe tbody tr th:only-of-type {\n",
              "        vertical-align: middle;\n",
              "    }\n",
              "\n",
              "    .dataframe tbody tr th {\n",
              "        vertical-align: top;\n",
              "    }\n",
              "\n",
              "    .dataframe thead th {\n",
              "        text-align: right;\n",
              "    }\n",
              "</style>\n",
              "<table border=\"1\" class=\"dataframe\">\n",
              "  <thead>\n",
              "    <tr style=\"text-align: right;\">\n",
              "      <th></th>\n",
              "      <th>job</th>\n",
              "      <th>marital</th>\n",
              "      <th>education</th>\n",
              "      <th>default</th>\n",
              "      <th>housing</th>\n",
              "      <th>loan</th>\n",
              "      <th>contact</th>\n",
              "      <th>month</th>\n",
              "      <th>poutcome</th>\n",
              "      <th>term_deposit</th>\n",
              "      <th>age_n</th>\n",
              "      <th>balance_n</th>\n",
              "      <th>day_n</th>\n",
              "      <th>campaign_n</th>\n",
              "      <th>pdays_n</th>\n",
              "      <th>previous_n</th>\n",
              "    </tr>\n",
              "  </thead>\n",
              "  <tbody>\n",
              "    <tr>\n",
              "      <th>4208</th>\n",
              "      <td>7</td>\n",
              "      <td>0</td>\n",
              "      <td>1</td>\n",
              "      <td>0</td>\n",
              "      <td>0</td>\n",
              "      <td>0</td>\n",
              "      <td>2</td>\n",
              "      <td>6</td>\n",
              "      <td>3</td>\n",
              "      <td>1</td>\n",
              "      <td>0.451029</td>\n",
              "      <td>-0.479557</td>\n",
              "      <td>0.518971</td>\n",
              "      <td>0.147713</td>\n",
              "      <td>-0.423507</td>\n",
              "      <td>-0.302336</td>\n",
              "    </tr>\n",
              "    <tr>\n",
              "      <th>2317</th>\n",
              "      <td>9</td>\n",
              "      <td>0</td>\n",
              "      <td>1</td>\n",
              "      <td>0</td>\n",
              "      <td>0</td>\n",
              "      <td>0</td>\n",
              "      <td>0</td>\n",
              "      <td>1</td>\n",
              "      <td>3</td>\n",
              "      <td>1</td>\n",
              "      <td>0.362597</td>\n",
              "      <td>0.341729</td>\n",
              "      <td>-1.035881</td>\n",
              "      <td>0.147713</td>\n",
              "      <td>-0.423507</td>\n",
              "      <td>-0.302336</td>\n",
              "    </tr>\n",
              "    <tr>\n",
              "      <th>560</th>\n",
              "      <td>4</td>\n",
              "      <td>1</td>\n",
              "      <td>2</td>\n",
              "      <td>0</td>\n",
              "      <td>0</td>\n",
              "      <td>0</td>\n",
              "      <td>0</td>\n",
              "      <td>1</td>\n",
              "      <td>3</td>\n",
              "      <td>1</td>\n",
              "      <td>2.308094</td>\n",
              "      <td>-0.354370</td>\n",
              "      <td>-1.035881</td>\n",
              "      <td>-0.210680</td>\n",
              "      <td>-0.423507</td>\n",
              "      <td>-0.302336</td>\n",
              "    </tr>\n",
              "    <tr>\n",
              "      <th>4073</th>\n",
              "      <td>5</td>\n",
              "      <td>1</td>\n",
              "      <td>0</td>\n",
              "      <td>0</td>\n",
              "      <td>0</td>\n",
              "      <td>0</td>\n",
              "      <td>0</td>\n",
              "      <td>1</td>\n",
              "      <td>3</td>\n",
              "      <td>0</td>\n",
              "      <td>1.600641</td>\n",
              "      <td>-0.302132</td>\n",
              "      <td>0.279763</td>\n",
              "      <td>1.222895</td>\n",
              "      <td>-0.423507</td>\n",
              "      <td>-0.302336</td>\n",
              "    </tr>\n",
              "    <tr>\n",
              "      <th>3823</th>\n",
              "      <td>4</td>\n",
              "      <td>1</td>\n",
              "      <td>2</td>\n",
              "      <td>0</td>\n",
              "      <td>1</td>\n",
              "      <td>0</td>\n",
              "      <td>0</td>\n",
              "      <td>0</td>\n",
              "      <td>3</td>\n",
              "      <td>0</td>\n",
              "      <td>-0.610151</td>\n",
              "      <td>-0.574761</td>\n",
              "      <td>1.715011</td>\n",
              "      <td>-0.210680</td>\n",
              "      <td>-0.423507</td>\n",
              "      <td>-0.302336</td>\n",
              "    </tr>\n",
              "  </tbody>\n",
              "</table>\n",
              "</div>"
            ],
            "text/plain": [
              "      job  marital  education  default  housing  loan  contact  month  \\\n",
              "4208    7        0          1        0        0     0        2      6   \n",
              "2317    9        0          1        0        0     0        0      1   \n",
              "560     4        1          2        0        0     0        0      1   \n",
              "4073    5        1          0        0        0     0        0      1   \n",
              "3823    4        1          2        0        1     0        0      0   \n",
              "\n",
              "      poutcome  term_deposit     age_n  balance_n     day_n  campaign_n  \\\n",
              "4208         3             1  0.451029  -0.479557  0.518971    0.147713   \n",
              "2317         3             1  0.362597   0.341729 -1.035881    0.147713   \n",
              "560          3             1  2.308094  -0.354370 -1.035881   -0.210680   \n",
              "4073         3             0  1.600641  -0.302132  0.279763    1.222895   \n",
              "3823         3             0 -0.610151  -0.574761  1.715011   -0.210680   \n",
              "\n",
              "       pdays_n  previous_n  \n",
              "4208 -0.423507   -0.302336  \n",
              "2317 -0.423507   -0.302336  \n",
              "560  -0.423507   -0.302336  \n",
              "4073 -0.423507   -0.302336  \n",
              "3823 -0.423507   -0.302336  "
            ]
          },
          "metadata": {
            "tags": []
          },
          "execution_count": 84
        }
      ]
    },
    {
      "cell_type": "code",
      "metadata": {
        "id": "-ESkD4Ncz2t9",
        "outputId": "0175b481-557d-4474-a5ab-00a5e5785244"
      },
      "source": [
        "teste.sample(5)"
      ],
      "execution_count": null,
      "outputs": [
        {
          "output_type": "execute_result",
          "data": {
            "text/html": [
              "<div>\n",
              "<style scoped>\n",
              "    .dataframe tbody tr th:only-of-type {\n",
              "        vertical-align: middle;\n",
              "    }\n",
              "\n",
              "    .dataframe tbody tr th {\n",
              "        vertical-align: top;\n",
              "    }\n",
              "\n",
              "    .dataframe thead th {\n",
              "        text-align: right;\n",
              "    }\n",
              "</style>\n",
              "<table border=\"1\" class=\"dataframe\">\n",
              "  <thead>\n",
              "    <tr style=\"text-align: right;\">\n",
              "      <th></th>\n",
              "      <th>job</th>\n",
              "      <th>marital</th>\n",
              "      <th>education</th>\n",
              "      <th>default</th>\n",
              "      <th>housing</th>\n",
              "      <th>loan</th>\n",
              "      <th>contact</th>\n",
              "      <th>month</th>\n",
              "      <th>poutcome</th>\n",
              "      <th>age_n</th>\n",
              "      <th>balance_n</th>\n",
              "      <th>day_n</th>\n",
              "      <th>campaign_n</th>\n",
              "      <th>pdays_n</th>\n",
              "      <th>previous_n</th>\n",
              "    </tr>\n",
              "  </thead>\n",
              "  <tbody>\n",
              "    <tr>\n",
              "      <th>412</th>\n",
              "      <td>1</td>\n",
              "      <td>1</td>\n",
              "      <td>0</td>\n",
              "      <td>0</td>\n",
              "      <td>0</td>\n",
              "      <td>0</td>\n",
              "      <td>2</td>\n",
              "      <td>8</td>\n",
              "      <td>3</td>\n",
              "      <td>0.645809</td>\n",
              "      <td>2.440681</td>\n",
              "      <td>-0.173128</td>\n",
              "      <td>0.293577</td>\n",
              "      <td>-0.418778</td>\n",
              "      <td>-0.279348</td>\n",
              "    </tr>\n",
              "    <tr>\n",
              "      <th>1220</th>\n",
              "      <td>4</td>\n",
              "      <td>1</td>\n",
              "      <td>3</td>\n",
              "      <td>0</td>\n",
              "      <td>1</td>\n",
              "      <td>0</td>\n",
              "      <td>0</td>\n",
              "      <td>6</td>\n",
              "      <td>2</td>\n",
              "      <td>1.090398</td>\n",
              "      <td>0.245921</td>\n",
              "      <td>-1.619870</td>\n",
              "      <td>-0.165682</td>\n",
              "      <td>3.864056</td>\n",
              "      <td>0.211063</td>\n",
              "    </tr>\n",
              "    <tr>\n",
              "      <th>286</th>\n",
              "      <td>4</td>\n",
              "      <td>1</td>\n",
              "      <td>2</td>\n",
              "      <td>0</td>\n",
              "      <td>0</td>\n",
              "      <td>0</td>\n",
              "      <td>0</td>\n",
              "      <td>3</td>\n",
              "      <td>3</td>\n",
              "      <td>-0.776872</td>\n",
              "      <td>-0.457868</td>\n",
              "      <td>-1.619870</td>\n",
              "      <td>-0.624941</td>\n",
              "      <td>-0.418778</td>\n",
              "      <td>-0.279348</td>\n",
              "    </tr>\n",
              "    <tr>\n",
              "      <th>453</th>\n",
              "      <td>9</td>\n",
              "      <td>2</td>\n",
              "      <td>2</td>\n",
              "      <td>0</td>\n",
              "      <td>0</td>\n",
              "      <td>0</td>\n",
              "      <td>0</td>\n",
              "      <td>5</td>\n",
              "      <td>3</td>\n",
              "      <td>-0.599037</td>\n",
              "      <td>-0.226841</td>\n",
              "      <td>-0.896499</td>\n",
              "      <td>-0.624941</td>\n",
              "      <td>-0.418778</td>\n",
              "      <td>-0.279348</td>\n",
              "    </tr>\n",
              "    <tr>\n",
              "      <th>1206</th>\n",
              "      <td>0</td>\n",
              "      <td>2</td>\n",
              "      <td>1</td>\n",
              "      <td>0</td>\n",
              "      <td>1</td>\n",
              "      <td>0</td>\n",
              "      <td>0</td>\n",
              "      <td>8</td>\n",
              "      <td>2</td>\n",
              "      <td>0.201221</td>\n",
              "      <td>-0.243065</td>\n",
              "      <td>1.153053</td>\n",
              "      <td>-0.624941</td>\n",
              "      <td>1.667162</td>\n",
              "      <td>1.191885</td>\n",
              "    </tr>\n",
              "  </tbody>\n",
              "</table>\n",
              "</div>"
            ],
            "text/plain": [
              "      job  marital  education  default  housing  loan  contact  month  \\\n",
              "412     1        1          0        0        0     0        2      8   \n",
              "1220    4        1          3        0        1     0        0      6   \n",
              "286     4        1          2        0        0     0        0      3   \n",
              "453     9        2          2        0        0     0        0      5   \n",
              "1206    0        2          1        0        1     0        0      8   \n",
              "\n",
              "      poutcome     age_n  balance_n     day_n  campaign_n   pdays_n  \\\n",
              "412          3  0.645809   2.440681 -0.173128    0.293577 -0.418778   \n",
              "1220         2  1.090398   0.245921 -1.619870   -0.165682  3.864056   \n",
              "286          3 -0.776872  -0.457868 -1.619870   -0.624941 -0.418778   \n",
              "453          3 -0.599037  -0.226841 -0.896499   -0.624941 -0.418778   \n",
              "1206         2  0.201221  -0.243065  1.153053   -0.624941  1.667162   \n",
              "\n",
              "      previous_n  \n",
              "412    -0.279348  \n",
              "1220    0.211063  \n",
              "286    -0.279348  \n",
              "453    -0.279348  \n",
              "1206    1.191885  "
            ]
          },
          "metadata": {
            "tags": []
          },
          "execution_count": 85
        }
      ]
    },
    {
      "cell_type": "markdown",
      "metadata": {
        "id": "E3QwtacQcQ5w"
      },
      "source": [
        "## Modelagem"
      ]
    },
    {
      "cell_type": "code",
      "metadata": {
        "id": "M11X26HgMu2c"
      },
      "source": [
        "from sklearn.model_selection import train_test_split, cross_val_score, cross_validate, KFold, RepeatedKFold\n",
        "from sklearn import metrics\n",
        "from sklearn.linear_model import LogisticRegression \n",
        "from sklearn.neighbors import KNeighborsClassifier\n",
        " "
      ],
      "execution_count": null,
      "outputs": []
    },
    {
      "cell_type": "code",
      "metadata": {
        "id": "09wDB90QzPTU"
      },
      "source": [
        "#f-fold\n",
        "#kf = KFold(n_splits=5, shuffle=True)"
      ],
      "execution_count": null,
      "outputs": []
    },
    {
      "cell_type": "code",
      "metadata": {
        "id": "HGuvo5yR7WbQ"
      },
      "source": [
        "#k-foldrepetido\n",
        "kf = RepeatedKFold(n_splits=10, n_repeats=5)"
      ],
      "execution_count": null,
      "outputs": []
    },
    {
      "cell_type": "markdown",
      "metadata": {
        "id": "q9SWTIAHlxe7"
      },
      "source": [
        "Separando treino e teste"
      ]
    },
    {
      "cell_type": "code",
      "metadata": {
        "id": "BJ9I0MO2K4QP"
      },
      "source": [
        "y = dados.term_deposit\n",
        "X = dados.drop(['term_deposit'], axis=1)"
      ],
      "execution_count": null,
      "outputs": []
    },
    {
      "cell_type": "code",
      "metadata": {
        "id": "bQQW9rpXMPMF"
      },
      "source": [
        "X_train, X_test, y_train, y_test = train_test_split(X, y, test_size=0.25)\n",
        "\n",
        "# o que significa stratify ?"
      ],
      "execution_count": null,
      "outputs": []
    },
    {
      "cell_type": "markdown",
      "metadata": {
        "id": "eTmehlmblMKA"
      },
      "source": [
        "Linear Regression"
      ]
    },
    {
      "cell_type": "code",
      "metadata": {
        "colab": {
          "base_uri": "https://localhost:8080/"
        },
        "id": "vEncPHrWlWCK",
        "outputId": "aac1d442-2982-43e3-898a-da0c877a0a96"
      },
      "source": [
        "#treinamento\n",
        "modelo = LogisticRegression(max_iter=100)\n",
        "modelo.fit(X_train, y_train)\n"
      ],
      "execution_count": null,
      "outputs": [
        {
          "output_type": "execute_result",
          "data": {
            "text/plain": [
              "LogisticRegression()"
            ]
          },
          "metadata": {
            "tags": []
          },
          "execution_count": 24
        }
      ]
    },
    {
      "cell_type": "code",
      "metadata": {
        "id": "Kv1qwrNdNjJx"
      },
      "source": [
        "#predicao\n",
        "y_pred = modelo.predict(X_test)"
      ],
      "execution_count": null,
      "outputs": []
    },
    {
      "cell_type": "code",
      "metadata": {
        "colab": {
          "base_uri": "https://localhost:8080/"
        },
        "id": "9csF3dSSCrKZ",
        "outputId": "e1284b48-6f7d-4c6b-be42-5c1e0bde5ec1"
      },
      "source": [
        "y_pred[0:20]"
      ],
      "execution_count": null,
      "outputs": [
        {
          "output_type": "execute_result",
          "data": {
            "text/plain": [
              "array([0, 0, 0, 1, 0, 1, 1, 1, 0, 0, 1, 1, 0, 1, 0, 1, 1, 0, 0, 1],\n",
              "      dtype=int8)"
            ]
          },
          "metadata": {
            "tags": []
          },
          "execution_count": 56
        }
      ]
    },
    {
      "cell_type": "code",
      "metadata": {
        "colab": {
          "base_uri": "https://localhost:8080/"
        },
        "id": "m-bNoMMYCujJ",
        "outputId": "3dab0ffd-1a33-45fe-9eb0-1fbc8b17325e"
      },
      "source": [
        "y_test[0:20]"
      ],
      "execution_count": null,
      "outputs": [
        {
          "output_type": "execute_result",
          "data": {
            "text/plain": [
              "3393    0\n",
              "2564    0\n",
              "5444    0\n",
              "1481    0\n",
              "245     1\n",
              "1328    0\n",
              "3638    0\n",
              "2368    1\n",
              "504     0\n",
              "2661    1\n",
              "2602    0\n",
              "6136    1\n",
              "2926    0\n",
              "6336    1\n",
              "5192    1\n",
              "5620    1\n",
              "1713    1\n",
              "6176    1\n",
              "1894    0\n",
              "1920    1\n",
              "Name: term_deposit, dtype: int8"
            ]
          },
          "metadata": {
            "tags": []
          },
          "execution_count": 57
        }
      ]
    },
    {
      "cell_type": "code",
      "metadata": {
        "colab": {
          "base_uri": "https://localhost:8080/"
        },
        "id": "oUdZs2Ve3JmK",
        "outputId": "85c4727d-d33f-49a5-8654-693822735d34"
      },
      "source": [
        "#metricas\n",
        "print(metrics.classification_report(y_test, y_pred))"
      ],
      "execution_count": null,
      "outputs": [
        {
          "output_type": "stream",
          "text": [
            "              precision    recall  f1-score   support\n",
            "\n",
            "           0       0.63      0.59      0.61       790\n",
            "           1       0.63      0.67      0.65       835\n",
            "\n",
            "    accuracy                           0.63      1625\n",
            "   macro avg       0.63      0.63      0.63      1625\n",
            "weighted avg       0.63      0.63      0.63      1625\n",
            "\n"
          ],
          "name": "stdout"
        }
      ]
    },
    {
      "cell_type": "code",
      "metadata": {
        "id": "fTPPkFs0CtXD"
      },
      "source": [
        ""
      ],
      "execution_count": null,
      "outputs": []
    },
    {
      "cell_type": "code",
      "metadata": {
        "id": "th-1HOJw2rql"
      },
      "source": [
        "#validadno modelo (f1-score)\n",
        "metricas = cross_validate(modelo, X_train, y_train, cv= kf, scoring=['accuracy','recall','precision','f1'])\n"
      ],
      "execution_count": null,
      "outputs": []
    },
    {
      "cell_type": "code",
      "metadata": {
        "colab": {
          "base_uri": "https://localhost:8080/"
        },
        "id": "97T90WZQgGQ3",
        "outputId": "a4430ec6-4fba-4a85-e151-f6d14e7e4091"
      },
      "source": [
        "print('Acuracia:', metricas['test_accuracy'].mean()) #taxa de acerto\n",
        "print('Recall/Sensibilidade:', metricas['test_recall'].mean())# de todos os positivos % de acerta corretamente\n",
        "print('Precisao:', metricas['test_precision'].mean())#de tudo que classifica como positivo % esta corretamente\n",
        "\n",
        "print('f1-score:', metricas['test_f1'].mean())"
      ],
      "execution_count": null,
      "outputs": [
        {
          "output_type": "stream",
          "text": [
            "Acuracia: 0.62847022587269\n",
            "Recall/Sensibilidade: 0.6782414735386624\n",
            "Precisao: 0.610734977348553\n",
            "f1-score: 0.6418980564471789\n"
          ],
          "name": "stdout"
        }
      ]
    },
    {
      "cell_type": "markdown",
      "metadata": {
        "id": "vyLajHdTnqeS"
      },
      "source": [
        "KNN"
      ]
    },
    {
      "cell_type": "code",
      "metadata": {
        "colab": {
          "base_uri": "https://localhost:8080/"
        },
        "id": "vDLHjXG0TQiU",
        "outputId": "832e1687-668e-4ae1-df0e-b80b5aa17458"
      },
      "source": [
        "modelo = KNeighborsClassifier(n_neighbors=5)\n",
        "modelo.fit(X_train, y_train)"
      ],
      "execution_count": null,
      "outputs": [
        {
          "output_type": "execute_result",
          "data": {
            "text/plain": [
              "KNeighborsClassifier()"
            ]
          },
          "metadata": {
            "tags": []
          },
          "execution_count": 29
        }
      ]
    },
    {
      "cell_type": "code",
      "metadata": {
        "id": "hr7u5-JqtptA"
      },
      "source": [
        "y_pred = modelo.predict(X_test)"
      ],
      "execution_count": null,
      "outputs": []
    },
    {
      "cell_type": "code",
      "metadata": {
        "colab": {
          "base_uri": "https://localhost:8080/"
        },
        "id": "VGdO8bguCclv",
        "outputId": "d67a5785-c996-40a9-f001-f5dc14a1e37a"
      },
      "source": [
        "y_pred[0:10]"
      ],
      "execution_count": null,
      "outputs": [
        {
          "output_type": "execute_result",
          "data": {
            "text/plain": [
              "array([0, 0, 0, 1, 0, 1, 0, 0, 1, 0], dtype=int8)"
            ]
          },
          "metadata": {
            "tags": []
          },
          "execution_count": 31
        }
      ]
    },
    {
      "cell_type": "code",
      "metadata": {
        "colab": {
          "base_uri": "https://localhost:8080/"
        },
        "id": "4gj5EG_rCgMH",
        "outputId": "a44c812a-a30f-4560-b7f0-383383e47d40"
      },
      "source": [
        "y_test[0:10]"
      ],
      "execution_count": null,
      "outputs": [
        {
          "output_type": "execute_result",
          "data": {
            "text/plain": [
              "786     1\n",
              "288     1\n",
              "4391    0\n",
              "1532    1\n",
              "1018    0\n",
              "3807    1\n",
              "2889    0\n",
              "847     1\n",
              "4688    1\n",
              "1337    1\n",
              "Name: term_deposit, dtype: int8"
            ]
          },
          "metadata": {
            "tags": []
          },
          "execution_count": 32
        }
      ]
    },
    {
      "cell_type": "code",
      "metadata": {
        "colab": {
          "base_uri": "https://localhost:8080/"
        },
        "id": "QWLyKkcettK4",
        "outputId": "595fd758-bdd5-4450-88cb-25bc3af22da7"
      },
      "source": [
        "print(metrics.classification_report(y_test, y_pred))"
      ],
      "execution_count": null,
      "outputs": [
        {
          "output_type": "stream",
          "text": [
            "              precision    recall  f1-score   support\n",
            "\n",
            "           0       0.61      0.71      0.66       790\n",
            "           1       0.67      0.57      0.61       835\n",
            "\n",
            "    accuracy                           0.64      1625\n",
            "   macro avg       0.64      0.64      0.64      1625\n",
            "weighted avg       0.64      0.64      0.63      1625\n",
            "\n"
          ],
          "name": "stdout"
        }
      ]
    },
    {
      "cell_type": "code",
      "metadata": {
        "id": "lXKQg0HXrEII"
      },
      "source": [
        "#validadno modelo (f1-score)\n",
        "metricas = cross_validate(modelo, X_train, y_train, cv= kf, scoring=['accuracy','recall','precision','f1'])"
      ],
      "execution_count": null,
      "outputs": []
    },
    {
      "cell_type": "code",
      "metadata": {
        "colab": {
          "base_uri": "https://localhost:8080/"
        },
        "id": "5jAcSek2wbp1",
        "outputId": "6049b74e-8edb-4796-bb50-a984c5c5054d"
      },
      "source": [
        "print('Acuracia:', metricas['test_accuracy'].mean()) #taxa de acerto\n",
        "print('Recall/Sensibilidade:', metricas['test_recall'].mean())# de todos os positivos % de acerta corretamente\n",
        "print('Precisao:', metricas['test_precision'].mean())#de tudo que classifica como positivo % esta corretamente\n",
        "\n",
        "print('f1-score:', metricas['test_f1'].mean())"
      ],
      "execution_count": null,
      "outputs": [
        {
          "output_type": "stream",
          "text": [
            "Acuracia: 0.6346680916955599\n",
            "Recall/Sensibilidade: 0.5615598135313716\n",
            "Precisao: 0.6487090312009544\n",
            "f1-score: 0.6014557423424783\n"
          ],
          "name": "stdout"
        }
      ]
    },
    {
      "cell_type": "code",
      "metadata": {
        "colab": {
          "base_uri": "https://localhost:8080/"
        },
        "id": "ceFOG-VM1yZR",
        "outputId": "80f7cad1-4ad8-4457-ac25-b5ae841f0a4b"
      },
      "source": [
        "#validadno modelo (f1-score)\n",
        "metricas = cross_validate(modelo, X_test, y_test, cv= kf, scoring=['accuracy','recall','precision','f1'])\n",
        "print('Acuracia:', metricas['test_accuracy'].mean()) #taxa de acerto\n",
        "print('Recall/Sensibilidade:', metricas['test_recall'].mean())# de todos os positivos % de acerta corretamente\n",
        "print('Precisao:', metricas['test_precision'].mean())#de tudo que classifica como positivo % esta corretamente\n",
        "\n",
        "print('f1-score:', metricas['test_f1'].mean())"
      ],
      "execution_count": null,
      "outputs": [
        {
          "output_type": "stream",
          "text": [
            "Acuracia: 0.6151336817389987\n",
            "Recall/Sensibilidade: 0.5827056314296848\n",
            "Precisao: 0.6375999207640567\n",
            "f1-score: 0.6074060507386178\n"
          ],
          "name": "stdout"
        }
      ]
    },
    {
      "cell_type": "markdown",
      "metadata": {
        "id": "adjpfWRensuw"
      },
      "source": [
        "Árvore de decisão"
      ]
    },
    {
      "cell_type": "code",
      "metadata": {
        "id": "NVQIi_12utZx"
      },
      "source": [
        "from sklearn.tree import DecisionTreeClassifier"
      ],
      "execution_count": null,
      "outputs": []
    },
    {
      "cell_type": "code",
      "metadata": {
        "colab": {
          "base_uri": "https://localhost:8080/"
        },
        "id": "aZwdXKiW80d6",
        "outputId": "77e503f6-727f-4635-8521-bd69013d883b"
      },
      "source": [
        "modelo = DecisionTreeClassifier(max_depth=3) #profundidade da arvore\n",
        "modelo.fit(X_train,y_train)"
      ],
      "execution_count": null,
      "outputs": [
        {
          "output_type": "execute_result",
          "data": {
            "text/plain": [
              "DecisionTreeClassifier(max_depth=3)"
            ]
          },
          "metadata": {
            "tags": []
          },
          "execution_count": 38
        }
      ]
    },
    {
      "cell_type": "code",
      "metadata": {
        "id": "4J9uG4JPzwB_"
      },
      "source": [
        "y_pred = modelo.predict(X_test)"
      ],
      "execution_count": null,
      "outputs": []
    },
    {
      "cell_type": "code",
      "metadata": {
        "colab": {
          "base_uri": "https://localhost:8080/"
        },
        "id": "EFrwyg8VD8xy",
        "outputId": "5081d034-ee86-4c29-86f1-7b82702582d8"
      },
      "source": [
        "y_pred[0:10]"
      ],
      "execution_count": null,
      "outputs": [
        {
          "output_type": "execute_result",
          "data": {
            "text/plain": [
              "array([1, 1, 0, 1, 0, 1, 0, 1, 1, 1], dtype=int8)"
            ]
          },
          "metadata": {
            "tags": []
          },
          "execution_count": 40
        }
      ]
    },
    {
      "cell_type": "code",
      "metadata": {
        "colab": {
          "base_uri": "https://localhost:8080/"
        },
        "id": "VTTTnj0kGcmF",
        "outputId": "6b4f56ee-b3b5-44de-94c4-84bfc4f80890"
      },
      "source": [
        "y_test[0:10]"
      ],
      "execution_count": null,
      "outputs": [
        {
          "output_type": "execute_result",
          "data": {
            "text/plain": [
              "3393    0\n",
              "2564    0\n",
              "5444    0\n",
              "1481    0\n",
              "245     1\n",
              "1328    0\n",
              "3638    0\n",
              "2368    1\n",
              "504     0\n",
              "2661    1\n",
              "Name: term_deposit, dtype: int8"
            ]
          },
          "metadata": {
            "tags": []
          },
          "execution_count": 73
        }
      ]
    },
    {
      "cell_type": "code",
      "metadata": {
        "colab": {
          "base_uri": "https://localhost:8080/"
        },
        "id": "yoOrvItq0TqX",
        "outputId": "e1ebaee3-9580-46ad-ac6f-d0dffc630d7d"
      },
      "source": [
        "print(metrics.classification_report(y_test, y_pred))"
      ],
      "execution_count": null,
      "outputs": [
        {
          "output_type": "stream",
          "text": [
            "              precision    recall  f1-score   support\n",
            "\n",
            "           0       0.72      0.32      0.45       790\n",
            "           1       0.58      0.88      0.70       835\n",
            "\n",
            "    accuracy                           0.61      1625\n",
            "   macro avg       0.65      0.60      0.57      1625\n",
            "weighted avg       0.65      0.61      0.58      1625\n",
            "\n"
          ],
          "name": "stdout"
        }
      ]
    },
    {
      "cell_type": "code",
      "metadata": {
        "id": "RFrBgAVxu_y_"
      },
      "source": [
        "#validadno modelo (f1-score)\n",
        "metricas = cross_validate(modelo, X_train, y_train, cv= kf, scoring=['accuracy','recall','precision','f1'])"
      ],
      "execution_count": null,
      "outputs": []
    },
    {
      "cell_type": "code",
      "metadata": {
        "colab": {
          "base_uri": "https://localhost:8080/"
        },
        "id": "ZnbdbWvpwoa5",
        "outputId": "31b7347a-f624-435a-eb92-e40975e24f1a"
      },
      "source": [
        "print('Acuracia:', metricas['test_accuracy'].mean()) #taxa de acerto\n",
        "print('Recall/Sensibilidade:', metricas['test_recall'].mean())# de todos os positivos % de acerta corretamente\n",
        "print('Precisao:', metricas['test_precision'].mean())#de tudo que classifica como positivo % esta corretamente\n",
        "\n",
        "print('f1-score:', metricas['test_f1'].mean())"
      ],
      "execution_count": null,
      "outputs": [
        {
          "output_type": "stream",
          "text": [
            "Acuracia: 0.5951585484902547\n",
            "Recall/Sensibilidade: 0.7995208866487244\n",
            "Precisao: 0.5685508606445093\n",
            "f1-score: 0.650231640064719\n"
          ],
          "name": "stdout"
        }
      ]
    },
    {
      "cell_type": "code",
      "metadata": {
        "colab": {
          "base_uri": "https://localhost:8080/"
        },
        "id": "uja7IY3C1oGN",
        "outputId": "4cb4d6fe-6e68-46e0-8f12-821fda04d7d3"
      },
      "source": [
        "#validadno modelo (f1-score)\n",
        "metricas = cross_validate(modelo, X_test, y_test, cv= kf, scoring=['accuracy','recall','precision','f1'])\n",
        "print('Acuracia:', metricas['test_accuracy'].mean()) #taxa de acerto\n",
        "print('Recall/Sensibilidade:', metricas['test_recall'].mean())# de todos os positivos % de acerta corretamente\n",
        "print('Precisao:', metricas['test_precision'].mean())#de tudo que classifica como positivo % esta corretamente\n",
        "\n",
        "print('f1-score:', metricas['test_f1'].mean())"
      ],
      "execution_count": null,
      "outputs": [
        {
          "output_type": "stream",
          "text": [
            "Acuracia: 0.6125509353934713\n",
            "Recall/Sensibilidade: 0.7995502640390306\n",
            "Precisao: 0.5939910547780799\n",
            "f1-score: 0.6781256948469734\n"
          ],
          "name": "stdout"
        }
      ]
    },
    {
      "cell_type": "markdown",
      "metadata": {
        "id": "fNWWTKYan4z3"
      },
      "source": [
        "Random Forest"
      ]
    },
    {
      "cell_type": "code",
      "metadata": {
        "id": "KohUwFuoV_Ix"
      },
      "source": [
        "from sklearn.ensemble import RandomForestClassifier"
      ],
      "execution_count": null,
      "outputs": []
    },
    {
      "cell_type": "code",
      "metadata": {
        "colab": {
          "base_uri": "https://localhost:8080/"
        },
        "id": "Qo13frG-ys_D",
        "outputId": "31689504-7297-40cf-c309-89b4d31cde2f"
      },
      "source": [
        "modelo = RandomForestClassifier(max_depth=2, random_state=0)\n",
        "modelo.fit(X_train, y_train)"
      ],
      "execution_count": null,
      "outputs": [
        {
          "output_type": "execute_result",
          "data": {
            "text/plain": [
              "RandomForestClassifier(max_depth=2, random_state=0)"
            ]
          },
          "metadata": {
            "tags": []
          },
          "execution_count": 46
        }
      ]
    },
    {
      "cell_type": "code",
      "metadata": {
        "id": "F1X4qJ4ZyeHR"
      },
      "source": [
        "y_pred = modelo.predict(X_test)"
      ],
      "execution_count": null,
      "outputs": []
    },
    {
      "cell_type": "code",
      "metadata": {
        "colab": {
          "base_uri": "https://localhost:8080/"
        },
        "id": "MalihQQiGFlD",
        "outputId": "6733b805-2d2e-4363-bd03-572ee3eecdfc"
      },
      "source": [
        "y_pred[0:10]"
      ],
      "execution_count": null,
      "outputs": [
        {
          "output_type": "execute_result",
          "data": {
            "text/plain": [
              "array([0, 0, 0, 1, 0, 0, 0, 0, 1, 1], dtype=int8)"
            ]
          },
          "metadata": {
            "tags": []
          },
          "execution_count": 48
        }
      ]
    },
    {
      "cell_type": "code",
      "metadata": {
        "colab": {
          "base_uri": "https://localhost:8080/"
        },
        "id": "urzFqy9uGHld",
        "outputId": "df2d129c-86ef-42e0-d63d-09ca5f6591a6"
      },
      "source": [
        "y_test[0:10]"
      ],
      "execution_count": null,
      "outputs": [
        {
          "output_type": "execute_result",
          "data": {
            "text/plain": [
              "3393    0\n",
              "2564    0\n",
              "5444    0\n",
              "1481    0\n",
              "245     1\n",
              "1328    0\n",
              "3638    0\n",
              "2368    1\n",
              "504     0\n",
              "2661    1\n",
              "Name: term_deposit, dtype: int8"
            ]
          },
          "metadata": {
            "tags": []
          },
          "execution_count": 82
        }
      ]
    },
    {
      "cell_type": "code",
      "metadata": {
        "colab": {
          "base_uri": "https://localhost:8080/"
        },
        "id": "6i786GB4ykf_",
        "outputId": "aee5d014-f0a4-473a-fc12-608350885e08"
      },
      "source": [
        "print(metrics.classification_report(y_test, y_pred))"
      ],
      "execution_count": null,
      "outputs": [
        {
          "output_type": "stream",
          "text": [
            "              precision    recall  f1-score   support\n",
            "\n",
            "           0       0.64      0.62      0.63       790\n",
            "           1       0.65      0.66      0.66       835\n",
            "\n",
            "    accuracy                           0.64      1625\n",
            "   macro avg       0.64      0.64      0.64      1625\n",
            "weighted avg       0.64      0.64      0.64      1625\n",
            "\n"
          ],
          "name": "stdout"
        }
      ]
    },
    {
      "cell_type": "code",
      "metadata": {
        "id": "GPO5LwWiylmn"
      },
      "source": [
        "#validadno modelo (f1-score)\n",
        "metricas = cross_validate(modelo, X_train, y_train, cv= kf, scoring=['accuracy','recall','precision','f1'])"
      ],
      "execution_count": null,
      "outputs": []
    },
    {
      "cell_type": "code",
      "metadata": {
        "colab": {
          "base_uri": "https://localhost:8080/"
        },
        "id": "LJDPq4QjyrkQ",
        "outputId": "799f4b7b-c95c-4a00-ba60-04772f5f5705"
      },
      "source": [
        "print('Acuracia:', metricas['test_accuracy'].mean()) #taxa de acerto\n",
        "print('Recall/Sensibilidade:', metricas['test_recall'].mean())# de todos os positivos % de acerta corretamente\n",
        "print('Precisao:', metricas['test_precision'].mean())#de tudo que classifica como positivo % esta corretamente\n",
        "\n",
        "print('f1-score:', metricas['test_f1'].mean())"
      ],
      "execution_count": null,
      "outputs": [
        {
          "output_type": "stream",
          "text": [
            "Acuracia: 0.6386849900696806\n",
            "Recall/Sensibilidade: 0.6362600116185002\n",
            "Precisao: 0.6332357650265806\n",
            "f1-score: 0.6333849980565411\n"
          ],
          "name": "stdout"
        }
      ]
    },
    {
      "cell_type": "code",
      "metadata": {
        "colab": {
          "base_uri": "https://localhost:8080/"
        },
        "id": "QfSEF_eZ1Wwi",
        "outputId": "596b74b8-4657-4fcc-e370-7ffc74c1e659"
      },
      "source": [
        "#validadno modelo (f1-score)\n",
        "metricas = cross_validate(modelo, X_test, y_test, cv= kf, scoring=['accuracy','recall','precision','f1'])\n",
        "print('Acuracia:', metricas['test_accuracy'].mean()) #taxa de acerto\n",
        "print('Recall/Sensibilidade:', metricas['test_recall'].mean())# de todos os positivos % de acerta corretamente\n",
        "print('Precisao:', metricas['test_precision'].mean())#de tudo que classifica como positivo % esta corretamente\n",
        "\n",
        "print('f1-score:', metricas['test_f1'].mean())"
      ],
      "execution_count": null,
      "outputs": [
        {
          "output_type": "stream",
          "text": [
            "Acuracia: 0.627943649170643\n",
            "Recall/Sensibilidade: 0.7682776808765546\n",
            "Precisao: 0.6120341637976014\n",
            "f1-score: 0.678498286463222\n"
          ],
          "name": "stdout"
        }
      ]
    },
    {
      "cell_type": "markdown",
      "metadata": {
        "id": "e3XRn9Pox0c6"
      },
      "source": [
        "### Combinando modelos"
      ]
    },
    {
      "cell_type": "markdown",
      "metadata": {
        "id": "1YiIZGyhYA-0"
      },
      "source": [
        "Essa parte é apenas para aprender/entender como funciona a combinação de modelos, nesse caso nao estou procurando efetivamente uma melhora no f1-score"
      ]
    },
    {
      "cell_type": "code",
      "metadata": {
        "id": "oiRDrSQa-fjZ"
      },
      "source": [
        "#combinaçao por votos 'HARD' e 'soft'\n",
        "#import\n",
        "from sklearn.ensemble import VotingClassifier"
      ],
      "execution_count": null,
      "outputs": []
    },
    {
      "cell_type": "code",
      "metadata": {
        "id": "lhSIwvMMEj6s"
      },
      "source": [
        "#usar o soft nesse caso porque acho que ela pesa mais pro caso que seria o melhor \n",
        "#nesse caso estamso levando em consideração que é mais custoso para o negocio pever que a pessoa vai fazer o deposito e a pessoa nao fazer"
      ],
      "execution_count": null,
      "outputs": []
    },
    {
      "cell_type": "code",
      "metadata": {
        "colab": {
          "base_uri": "https://localhost:8080/"
        },
        "id": "OJuBdascIdse",
        "outputId": "56175005-2f63-46db-bcd4-d5b5d75bc122"
      },
      "source": [
        "#combinação hard\n",
        "\n",
        "reg_log = LogisticRegression(max_iter=200)\n",
        "knn = KNeighborsClassifier(n_neighbors=5)\n",
        "arvore = DecisionTreeClassifier(max_depth=3)\n",
        "\n",
        "\n",
        "modelos = [('Reg. Log.', reg_log), ('KNN', knn), ('Árvore', arvore)]\n",
        "\n",
        "modelo = VotingClassifier(modelos, voting='hard')\n",
        "\n",
        "medidas = cross_validate(modelo, X_train, y_train, cv = kf, scoring='f1')\n",
        "\n",
        "medidas['test_score'].mean()\n"
      ],
      "execution_count": null,
      "outputs": [
        {
          "output_type": "execute_result",
          "data": {
            "text/plain": [
              "0.6560796949236163"
            ]
          },
          "metadata": {
            "tags": []
          },
          "execution_count": 54
        }
      ]
    },
    {
      "cell_type": "code",
      "metadata": {
        "id": "HrGUug42KfcR"
      },
      "source": [
        "#combinação soft\n",
        "\n",
        "reg_log = LogisticRegression(max_iter=200)\n",
        "knn = KNeighborsClassifier(n_neighbors=5)\n",
        "arvore = DecisionTreeClassifier(max_depth=3)\n",
        "\n",
        "\n",
        "modelos = [('Reg. Log.', reg_log), ('KNN', knn), ('Árvore', arvore)]\n",
        "\n",
        "modelo = VotingClassifier(modelos, voting='soft')\n",
        "\n",
        "medidas = cross_validate(modelo, X_train, y_train, cv = kf, scoring='f1')\n",
        "\n",
        "medidas['test_score'].mean()\n"
      ],
      "execution_count": null,
      "outputs": []
    },
    {
      "cell_type": "markdown",
      "metadata": {
        "id": "7M3mBQnEx3VP"
      },
      "source": [
        "### Treino da base de teste"
      ]
    },
    {
      "cell_type": "code",
      "metadata": {
        "id": "o5Mmxleuz2uW"
      },
      "source": [
        "\n",
        "from sklearn.ensemble import BaggingClassifier"
      ],
      "execution_count": null,
      "outputs": []
    },
    {
      "cell_type": "code",
      "metadata": {
        "id": "krNSqEyLz2uX"
      },
      "source": [
        "\n",
        "def MachineLearning(dataset):\n",
        "\n",
        "    X = dataset.drop('term_deposit', axis = 1)\n",
        "    y = dataset['term_deposit']\n",
        "\n",
        "    lista_de_medidas = ['accuracy', 'recall', 'precision', 'balanced_accuracy', 'f1']\n",
        "\n",
        "    nome_das_medidas = ['acurácia', 'sensibilidade', 'vpp', 'eficiência', 'f1-score']\n",
        "\n",
        "    lista_de_modelos = [LogisticRegression(),\n",
        "                        DecisionTreeClassifier(max_depth = 3),\n",
        "                        DecisionTreeClassifier(max_depth = 5),\n",
        "                        DecisionTreeClassifier(max_depth = 7),\n",
        "                        KNeighborsClassifier(n_neighbors = 5),\n",
        "                        KNeighborsClassifier(n_neighbors = 15),\n",
        "                        KNeighborsClassifier(n_neighbors = 25),\n",
        "                        BaggingClassifier(),\n",
        "                        RandomForestClassifier(n_estimators=300, max_depth = 3, max_features = 3),\n",
        "                        RandomForestClassifier(n_estimators=300, max_depth = 3, max_features = 4),\n",
        "                        RandomForestClassifier(n_estimators=300, max_depth = 6, max_features = 3),\n",
        "                        RandomForestClassifier(n_estimators=300, max_depth = 6, max_features = 4),\n",
        "                        RandomForestClassifier(n_estimators=300, max_depth = 8, max_features = 3),\n",
        "                        RandomForestClassifier(n_estimators=300, max_depth = 8, max_features = 4)]\n",
        "\n",
        "    nome_dos_modelos = ['Regressão Logística',\n",
        "                        'Árvore (prof = 3)',\n",
        "                        'Árvore (prof = 5)',\n",
        "                        'Árvore (prof = 7)',\n",
        "                        '5-NN',\n",
        "                        '15-NN',\n",
        "                        '25-NN',\n",
        "                        'Bagging',\n",
        "                        'Random Forest (prof = 3, mf = 3)',\n",
        "                        'Random Forest (prof = 3, mf = 4)',\n",
        "                        'Random Forest (prof = 6, mf = 3)',\n",
        "                        'Random Forest (prof = 6, mf = 4)',\n",
        "                        'Random Forest (prof = 8, mf = 3)',\n",
        "                        'Random Forest (prof = 8, mf = 4)']\n",
        "\n",
        "    resultados0 = {}\n",
        "\n",
        "    for i in range(len(lista_de_modelos)):\n",
        "        print('Rodando modelo: ' + nome_dos_modelos[i])\n",
        "        accs_vc = cross_validate(lista_de_modelos[i], X, y, cv = kf, scoring = lista_de_medidas)\n",
        "\n",
        "        acc = accs_vc['test_accuracy'].mean()\n",
        "        sen = accs_vc['test_recall'].mean()\n",
        "        vpp = accs_vc['test_precision'].mean()\n",
        "        bac = accs_vc['test_balanced_accuracy'].mean()\n",
        "        f1s = accs_vc['test_f1'].mean()\n",
        "\n",
        "        resultados0[nome_dos_modelos[i]] = [acc, sen, vpp, f1s, bac]\n",
        "    \n",
        "    resultados = pd.DataFrame(resultados0, index = nome_das_medidas).T\n",
        "\n",
        "    return resultados"
      ],
      "execution_count": null,
      "outputs": []
    },
    {
      "cell_type": "markdown",
      "metadata": {
        "id": "nFhleDpC0b8G"
      },
      "source": [
        "Testando varios modelos de uma vez"
      ]
    },
    {
      "cell_type": "code",
      "metadata": {
        "id": "EkkqLr51z2uY"
      },
      "source": [
        "MachineLearning(dados)"
      ],
      "execution_count": null,
      "outputs": []
    },
    {
      "cell_type": "code",
      "metadata": {
        "id": "yybugXzRz2uZ"
      },
      "source": [
        "def Submissao(treino, teste, modelo, nome = 'submissaoFLAI'):\n",
        "\n",
        "    X = treino.drop('term_deposit', axis = 1)\n",
        "    y = treino['term_deposit']\n",
        " \n",
        "    modelo.fit(X, y)\n",
        "    pred = modelo.predict(teste)\n",
        "\n",
        "    subm = pd.DataFrame()  \n",
        "    subm['term_deposit'] = pred\n",
        "    \n",
        "    subm.to_csv(nome + '.csv', index = False)"
      ],
      "execution_count": null,
      "outputs": []
    },
    {
      "cell_type": "code",
      "metadata": {
        "id": "Uk3rkEaPz2uZ"
      },
      "source": [
        "rf = RandomForestClassifier(n_estimators = 300, max_depth = 8, max_features = 4)\n",
        "\n",
        "Submissao(dados, teste, modelo = rf, nome = 'Submissão')"
      ],
      "execution_count": null,
      "outputs": []
    }
  ]
}