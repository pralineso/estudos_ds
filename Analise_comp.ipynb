{
  "nbformat": 4,
  "nbformat_minor": 0,
  "metadata": {
    "colab": {
      "name": "Analise_comp.ipynb",
      "provenance": [],
      "collapsed_sections": [],
      "authorship_tag": "ABX9TyMDvBgB2H4CEHZATy/CCWPw",
      "include_colab_link": true
    },
    "kernelspec": {
      "name": "python3",
      "display_name": "Python 3"
    },
    "language_info": {
      "name": "python"
    }
  },
  "cells": [
    {
      "cell_type": "markdown",
      "metadata": {
        "id": "view-in-github",
        "colab_type": "text"
      },
      "source": [
        "<a href=\"https://colab.research.google.com/github/pralineso/estudos_ds/blob/main/Analise_comp.ipynb\" target=\"_parent\"><img src=\"https://colab.research.google.com/assets/colab-badge.svg\" alt=\"Open In Colab\"/></a>"
      ]
    },
    {
      "cell_type": "markdown",
      "metadata": {
        "id": "K8A9-RysiT50"
      },
      "source": [
        "## Introdução"
      ]
    },
    {
      "cell_type": "markdown",
      "metadata": {
        "id": "49iTkU4ciX2e"
      },
      "source": [
        "Este notebook é referente ao 3° competição da FLAI de Machine Learning. \n",
        "\n",
        "O conjunto de dados fornecido está relacionado como resultado de campanhas de marketing de uma instituição financeira.\n",
        "\n",
        "Nessa competicção o principal objetivo é prever se o cliente fará um deposito."
      ]
    },
    {
      "cell_type": "markdown",
      "metadata": {
        "id": "unAMpXLinVhY"
      },
      "source": [
        "## Importações"
      ]
    },
    {
      "cell_type": "code",
      "metadata": {
        "id": "WHMVoqCdmoOT"
      },
      "source": [
        "import pandas as pd\n",
        "import numpy as np"
      ],
      "execution_count": 58,
      "outputs": []
    },
    {
      "cell_type": "markdown",
      "metadata": {
        "id": "Kknj9eTknZUw"
      },
      "source": [
        "## Explorando a base"
      ]
    },
    {
      "cell_type": "code",
      "metadata": {
        "id": "HcrS8tXtmvjh"
      },
      "source": [
        "dados = pd.read_csv('https://raw.githubusercontent.com/pralineso/estudos_ds/main/Datasets/treino_comp.csv')"
      ],
      "execution_count": 94,
      "outputs": []
    },
    {
      "cell_type": "code",
      "metadata": {
        "colab": {
          "base_uri": "https://localhost:8080/",
          "height": 236
        },
        "id": "VVYUDkU_nAcb",
        "outputId": "54232a69-98ab-4cb1-e47d-d35bde3950dd"
      },
      "source": [
        "dados.head()"
      ],
      "execution_count": 95,
      "outputs": [
        {
          "output_type": "execute_result",
          "data": {
            "text/html": [
              "<div>\n",
              "<style scoped>\n",
              "    .dataframe tbody tr th:only-of-type {\n",
              "        vertical-align: middle;\n",
              "    }\n",
              "\n",
              "    .dataframe tbody tr th {\n",
              "        vertical-align: top;\n",
              "    }\n",
              "\n",
              "    .dataframe thead th {\n",
              "        text-align: right;\n",
              "    }\n",
              "</style>\n",
              "<table border=\"1\" class=\"dataframe\">\n",
              "  <thead>\n",
              "    <tr style=\"text-align: right;\">\n",
              "      <th></th>\n",
              "      <th>Unnamed: 0</th>\n",
              "      <th>age</th>\n",
              "      <th>job</th>\n",
              "      <th>marital</th>\n",
              "      <th>education</th>\n",
              "      <th>default</th>\n",
              "      <th>balance</th>\n",
              "      <th>housing</th>\n",
              "      <th>loan</th>\n",
              "      <th>contact</th>\n",
              "      <th>day</th>\n",
              "      <th>month</th>\n",
              "      <th>campaign</th>\n",
              "      <th>pdays</th>\n",
              "      <th>previous</th>\n",
              "      <th>poutcome</th>\n",
              "      <th>term_deposit</th>\n",
              "    </tr>\n",
              "  </thead>\n",
              "  <tbody>\n",
              "    <tr>\n",
              "      <th>0</th>\n",
              "      <td>0</td>\n",
              "      <td>46</td>\n",
              "      <td>management</td>\n",
              "      <td>divorced</td>\n",
              "      <td>tertiary</td>\n",
              "      <td>no</td>\n",
              "      <td>14481</td>\n",
              "      <td>yes</td>\n",
              "      <td>no</td>\n",
              "      <td>unknown</td>\n",
              "      <td>30</td>\n",
              "      <td>may</td>\n",
              "      <td>1</td>\n",
              "      <td>-1</td>\n",
              "      <td>0</td>\n",
              "      <td>unknown</td>\n",
              "      <td>yes</td>\n",
              "    </tr>\n",
              "    <tr>\n",
              "      <th>1</th>\n",
              "      <td>1</td>\n",
              "      <td>37</td>\n",
              "      <td>management</td>\n",
              "      <td>single</td>\n",
              "      <td>tertiary</td>\n",
              "      <td>no</td>\n",
              "      <td>457</td>\n",
              "      <td>yes</td>\n",
              "      <td>no</td>\n",
              "      <td>cellular</td>\n",
              "      <td>1</td>\n",
              "      <td>apr</td>\n",
              "      <td>3</td>\n",
              "      <td>-1</td>\n",
              "      <td>0</td>\n",
              "      <td>unknown</td>\n",
              "      <td>no</td>\n",
              "    </tr>\n",
              "    <tr>\n",
              "      <th>2</th>\n",
              "      <td>2</td>\n",
              "      <td>34</td>\n",
              "      <td>blue-collar</td>\n",
              "      <td>single</td>\n",
              "      <td>secondary</td>\n",
              "      <td>no</td>\n",
              "      <td>1698</td>\n",
              "      <td>yes</td>\n",
              "      <td>no</td>\n",
              "      <td>unknown</td>\n",
              "      <td>27</td>\n",
              "      <td>may</td>\n",
              "      <td>7</td>\n",
              "      <td>-1</td>\n",
              "      <td>0</td>\n",
              "      <td>unknown</td>\n",
              "      <td>no</td>\n",
              "    </tr>\n",
              "    <tr>\n",
              "      <th>3</th>\n",
              "      <td>3</td>\n",
              "      <td>45</td>\n",
              "      <td>unemployed</td>\n",
              "      <td>single</td>\n",
              "      <td>secondary</td>\n",
              "      <td>no</td>\n",
              "      <td>33</td>\n",
              "      <td>no</td>\n",
              "      <td>no</td>\n",
              "      <td>cellular</td>\n",
              "      <td>5</td>\n",
              "      <td>feb</td>\n",
              "      <td>1</td>\n",
              "      <td>-1</td>\n",
              "      <td>0</td>\n",
              "      <td>unknown</td>\n",
              "      <td>no</td>\n",
              "    </tr>\n",
              "    <tr>\n",
              "      <th>4</th>\n",
              "      <td>4</td>\n",
              "      <td>31</td>\n",
              "      <td>management</td>\n",
              "      <td>married</td>\n",
              "      <td>tertiary</td>\n",
              "      <td>no</td>\n",
              "      <td>131</td>\n",
              "      <td>no</td>\n",
              "      <td>no</td>\n",
              "      <td>cellular</td>\n",
              "      <td>18</td>\n",
              "      <td>feb</td>\n",
              "      <td>2</td>\n",
              "      <td>-1</td>\n",
              "      <td>0</td>\n",
              "      <td>unknown</td>\n",
              "      <td>yes</td>\n",
              "    </tr>\n",
              "  </tbody>\n",
              "</table>\n",
              "</div>"
            ],
            "text/plain": [
              "   Unnamed: 0  age          job  ... previous poutcome term_deposit\n",
              "0           0   46   management  ...        0  unknown          yes\n",
              "1           1   37   management  ...        0  unknown           no\n",
              "2           2   34  blue-collar  ...        0  unknown           no\n",
              "3           3   45   unemployed  ...        0  unknown           no\n",
              "4           4   31   management  ...        0  unknown          yes\n",
              "\n",
              "[5 rows x 17 columns]"
            ]
          },
          "metadata": {
            "tags": []
          },
          "execution_count": 95
        }
      ]
    },
    {
      "cell_type": "code",
      "metadata": {
        "id": "GUfXLJ7MjYeC"
      },
      "source": [
        "\n"
      ],
      "execution_count": null,
      "outputs": []
    },
    {
      "cell_type": "markdown",
      "metadata": {
        "id": "qMMJS6iKjkzQ"
      },
      "source": [
        "### Respoder as seguintes questoes para heuristica base\n",
        "\n",
        "* relação entre a idade e o term_deposit\n",
        "* relação entre marital e term_deposit\n",
        "* relação loan e term_deposit\n",
        "* relação entre a campanha e o term_deposit\n",
        "\n"
      ]
    },
    {
      "cell_type": "code",
      "metadata": {
        "colab": {
          "base_uri": "https://localhost:8080/"
        },
        "id": "DB465zaolLNf",
        "outputId": "ccda131e-a433-4e54-d3b0-f22352353a4f"
      },
      "source": [
        "dados.shape"
      ],
      "execution_count": 133,
      "outputs": [
        {
          "output_type": "execute_result",
          "data": {
            "text/plain": [
              "(6500, 17)"
            ]
          },
          "metadata": {
            "tags": []
          },
          "execution_count": 133
        }
      ]
    },
    {
      "cell_type": "code",
      "metadata": {
        "colab": {
          "base_uri": "https://localhost:8080/"
        },
        "id": "_SkHXwGFnCO4",
        "outputId": "6ca086e2-09c6-43ba-e2e9-7d1236d82b08"
      },
      "source": [
        "dados.info()"
      ],
      "execution_count": 96,
      "outputs": [
        {
          "output_type": "stream",
          "text": [
            "<class 'pandas.core.frame.DataFrame'>\n",
            "RangeIndex: 6500 entries, 0 to 6499\n",
            "Data columns (total 17 columns):\n",
            " #   Column        Non-Null Count  Dtype \n",
            "---  ------        --------------  ----- \n",
            " 0   Unnamed: 0    6500 non-null   int64 \n",
            " 1   age           6500 non-null   int64 \n",
            " 2   job           6500 non-null   object\n",
            " 3   marital       6500 non-null   object\n",
            " 4   education     6500 non-null   object\n",
            " 5   default       6500 non-null   object\n",
            " 6   balance       6500 non-null   int64 \n",
            " 7   housing       6500 non-null   object\n",
            " 8   loan          6500 non-null   object\n",
            " 9   contact       6500 non-null   object\n",
            " 10  day           6500 non-null   int64 \n",
            " 11  month         6500 non-null   object\n",
            " 12  campaign      6500 non-null   int64 \n",
            " 13  pdays         6500 non-null   int64 \n",
            " 14  previous      6500 non-null   int64 \n",
            " 15  poutcome      6500 non-null   object\n",
            " 16  term_deposit  6500 non-null   object\n",
            "dtypes: int64(7), object(10)\n",
            "memory usage: 863.4+ KB\n"
          ],
          "name": "stdout"
        }
      ]
    },
    {
      "cell_type": "markdown",
      "metadata": {
        "id": "py2YtnnlnkS6"
      },
      "source": [
        "Muitas variaveis categoricas..."
      ]
    },
    {
      "cell_type": "code",
      "metadata": {
        "colab": {
          "base_uri": "https://localhost:8080/",
          "height": 288
        },
        "id": "trdeTs_-P433",
        "outputId": "168876a0-e9a5-4825-a1e7-e0c26cc81306"
      },
      "source": [
        "dados.describe()"
      ],
      "execution_count": 62,
      "outputs": [
        {
          "output_type": "execute_result",
          "data": {
            "text/html": [
              "<div>\n",
              "<style scoped>\n",
              "    .dataframe tbody tr th:only-of-type {\n",
              "        vertical-align: middle;\n",
              "    }\n",
              "\n",
              "    .dataframe tbody tr th {\n",
              "        vertical-align: top;\n",
              "    }\n",
              "\n",
              "    .dataframe thead th {\n",
              "        text-align: right;\n",
              "    }\n",
              "</style>\n",
              "<table border=\"1\" class=\"dataframe\">\n",
              "  <thead>\n",
              "    <tr style=\"text-align: right;\">\n",
              "      <th></th>\n",
              "      <th>Unnamed: 0</th>\n",
              "      <th>age</th>\n",
              "      <th>balance</th>\n",
              "      <th>day</th>\n",
              "      <th>campaign</th>\n",
              "      <th>pdays</th>\n",
              "      <th>previous</th>\n",
              "    </tr>\n",
              "  </thead>\n",
              "  <tbody>\n",
              "    <tr>\n",
              "      <th>count</th>\n",
              "      <td>6500.000000</td>\n",
              "      <td>6500.000000</td>\n",
              "      <td>6500.000000</td>\n",
              "      <td>6500.000000</td>\n",
              "      <td>6500.000000</td>\n",
              "      <td>6500.000000</td>\n",
              "      <td>6500.000000</td>\n",
              "    </tr>\n",
              "    <tr>\n",
              "      <th>mean</th>\n",
              "      <td>3249.500000</td>\n",
              "      <td>40.899692</td>\n",
              "      <td>1551.448462</td>\n",
              "      <td>15.660923</td>\n",
              "      <td>2.587846</td>\n",
              "      <td>38.655231</td>\n",
              "      <td>0.551846</td>\n",
              "    </tr>\n",
              "    <tr>\n",
              "      <th>std</th>\n",
              "      <td>1876.532707</td>\n",
              "      <td>11.309033</td>\n",
              "      <td>3235.418262</td>\n",
              "      <td>8.361566</td>\n",
              "      <td>2.790440</td>\n",
              "      <td>93.642546</td>\n",
              "      <td>1.825413</td>\n",
              "    </tr>\n",
              "    <tr>\n",
              "      <th>min</th>\n",
              "      <td>0.000000</td>\n",
              "      <td>18.000000</td>\n",
              "      <td>-3372.000000</td>\n",
              "      <td>1.000000</td>\n",
              "      <td>1.000000</td>\n",
              "      <td>-1.000000</td>\n",
              "      <td>0.000000</td>\n",
              "    </tr>\n",
              "    <tr>\n",
              "      <th>25%</th>\n",
              "      <td>1624.750000</td>\n",
              "      <td>32.000000</td>\n",
              "      <td>104.000000</td>\n",
              "      <td>8.000000</td>\n",
              "      <td>1.000000</td>\n",
              "      <td>-1.000000</td>\n",
              "      <td>0.000000</td>\n",
              "    </tr>\n",
              "    <tr>\n",
              "      <th>50%</th>\n",
              "      <td>3249.500000</td>\n",
              "      <td>39.000000</td>\n",
              "      <td>538.000000</td>\n",
              "      <td>16.000000</td>\n",
              "      <td>2.000000</td>\n",
              "      <td>-1.000000</td>\n",
              "      <td>0.000000</td>\n",
              "    </tr>\n",
              "    <tr>\n",
              "      <th>75%</th>\n",
              "      <td>4874.250000</td>\n",
              "      <td>48.000000</td>\n",
              "      <td>1701.000000</td>\n",
              "      <td>21.000000</td>\n",
              "      <td>3.000000</td>\n",
              "      <td>-1.000000</td>\n",
              "      <td>0.000000</td>\n",
              "    </tr>\n",
              "    <tr>\n",
              "      <th>max</th>\n",
              "      <td>6499.000000</td>\n",
              "      <td>95.000000</td>\n",
              "      <td>81204.000000</td>\n",
              "      <td>31.000000</td>\n",
              "      <td>58.000000</td>\n",
              "      <td>515.000000</td>\n",
              "      <td>58.000000</td>\n",
              "    </tr>\n",
              "  </tbody>\n",
              "</table>\n",
              "</div>"
            ],
            "text/plain": [
              "        Unnamed: 0          age  ...        pdays     previous\n",
              "count  6500.000000  6500.000000  ...  6500.000000  6500.000000\n",
              "mean   3249.500000    40.899692  ...    38.655231     0.551846\n",
              "std    1876.532707    11.309033  ...    93.642546     1.825413\n",
              "min       0.000000    18.000000  ...    -1.000000     0.000000\n",
              "25%    1624.750000    32.000000  ...    -1.000000     0.000000\n",
              "50%    3249.500000    39.000000  ...    -1.000000     0.000000\n",
              "75%    4874.250000    48.000000  ...    -1.000000     0.000000\n",
              "max    6499.000000    95.000000  ...   515.000000    58.000000\n",
              "\n",
              "[8 rows x 7 columns]"
            ]
          },
          "metadata": {
            "tags": []
          },
          "execution_count": 62
        }
      ]
    },
    {
      "cell_type": "code",
      "metadata": {
        "colab": {
          "base_uri": "https://localhost:8080/"
        },
        "id": "sjv7g60tnN6x",
        "outputId": "50e9d8ff-fdb0-4b75-aeaa-6baf218a3e73"
      },
      "source": [
        "dados.isnull().sum()"
      ],
      "execution_count": 63,
      "outputs": [
        {
          "output_type": "execute_result",
          "data": {
            "text/plain": [
              "Unnamed: 0      0\n",
              "age             0\n",
              "job             0\n",
              "marital         0\n",
              "education       0\n",
              "default         0\n",
              "balance         0\n",
              "housing         0\n",
              "loan            0\n",
              "contact         0\n",
              "day             0\n",
              "month           0\n",
              "campaign        0\n",
              "pdays           0\n",
              "previous        0\n",
              "poutcome        0\n",
              "term_deposit    0\n",
              "dtype: int64"
            ]
          },
          "metadata": {
            "tags": []
          },
          "execution_count": 63
        }
      ]
    },
    {
      "cell_type": "markdown",
      "metadata": {
        "id": "BN_ZLVYdnpdw"
      },
      "source": [
        "Aparentemente nao possui dados faltantes"
      ]
    },
    {
      "cell_type": "markdown",
      "metadata": {
        "id": "Es4PO0VnSHNk"
      },
      "source": [
        "Verificando os valores das colunas default, loan, housing e term_deposit"
      ]
    },
    {
      "cell_type": "code",
      "metadata": {
        "colab": {
          "base_uri": "https://localhost:8080/"
        },
        "id": "mnjMisfmSP-S",
        "outputId": "981be48c-6de5-49be-98a0-cb836fb45f84"
      },
      "source": [
        "dados['default'].value_counts()"
      ],
      "execution_count": 64,
      "outputs": [
        {
          "output_type": "execute_result",
          "data": {
            "text/plain": [
              "no     6403\n",
              "yes      97\n",
              "Name: default, dtype: int64"
            ]
          },
          "metadata": {
            "tags": []
          },
          "execution_count": 64
        }
      ]
    },
    {
      "cell_type": "code",
      "metadata": {
        "colab": {
          "base_uri": "https://localhost:8080/"
        },
        "id": "bAfYvhpkSYEj",
        "outputId": "db8313c7-571c-4e91-bcaa-c426e646ea29"
      },
      "source": [
        "dados['loan'].value_counts()"
      ],
      "execution_count": 65,
      "outputs": [
        {
          "output_type": "execute_result",
          "data": {
            "text/plain": [
              "no     5621\n",
              "yes     879\n",
              "Name: loan, dtype: int64"
            ]
          },
          "metadata": {
            "tags": []
          },
          "execution_count": 65
        }
      ]
    },
    {
      "cell_type": "code",
      "metadata": {
        "colab": {
          "base_uri": "https://localhost:8080/"
        },
        "id": "FjgrLaohSfeJ",
        "outputId": "750514b5-fad5-4a96-d3b9-f9f0a3463061"
      },
      "source": [
        "dados['housing'].value_counts()"
      ],
      "execution_count": 66,
      "outputs": [
        {
          "output_type": "execute_result",
          "data": {
            "text/plain": [
              "yes    3253\n",
              "no     3247\n",
              "Name: housing, dtype: int64"
            ]
          },
          "metadata": {
            "tags": []
          },
          "execution_count": 66
        }
      ]
    },
    {
      "cell_type": "code",
      "metadata": {
        "colab": {
          "base_uri": "https://localhost:8080/"
        },
        "id": "I-zkQ29XSjFE",
        "outputId": "aaaad032-de1e-49d5-9b8a-8bfc4f355828"
      },
      "source": [
        "dados['term_deposit'].value_counts()"
      ],
      "execution_count": 67,
      "outputs": [
        {
          "output_type": "execute_result",
          "data": {
            "text/plain": [
              "no     3267\n",
              "yes    3233\n",
              "Name: term_deposit, dtype: int64"
            ]
          },
          "metadata": {
            "tags": []
          },
          "execution_count": 67
        }
      ]
    },
    {
      "cell_type": "markdown",
      "metadata": {
        "id": "QIdgTD_iOvxZ"
      },
      "source": [
        "Dando uma verificada na variavel target... parece estar bem equilibrado a quantidade de sim e nao"
      ]
    },
    {
      "cell_type": "markdown",
      "metadata": {
        "id": "o7xmEdsEjulw"
      },
      "source": [
        "Verificando os valores das coluna: job, marital, education, contact, poutcome"
      ]
    },
    {
      "cell_type": "code",
      "metadata": {
        "id": "r3x74VaJjy_O"
      },
      "source": [
        "dados['job'].value_counts()"
      ],
      "execution_count": null,
      "outputs": []
    },
    {
      "cell_type": "code",
      "metadata": {
        "id": "PiD6oca4jzod"
      },
      "source": [
        "dados['marital'].value_counts()"
      ],
      "execution_count": null,
      "outputs": []
    },
    {
      "cell_type": "code",
      "metadata": {
        "id": "TAr6_5Pojzw7"
      },
      "source": [
        "dados['education'].value_counts()"
      ],
      "execution_count": null,
      "outputs": []
    },
    {
      "cell_type": "code",
      "metadata": {
        "id": "doiyOIyLj7X8"
      },
      "source": [
        "dados['contact'].value_counts()"
      ],
      "execution_count": null,
      "outputs": []
    },
    {
      "cell_type": "code",
      "metadata": {
        "id": "KeBT1_XOj-WE"
      },
      "source": [
        "dados['poutcome'].value_counts()"
      ],
      "execution_count": null,
      "outputs": []
    },
    {
      "cell_type": "markdown",
      "metadata": {
        "id": "NmxKFZh1kCaq"
      },
      "source": [
        "Muitos dados possuem 'unknown'"
      ]
    },
    {
      "cell_type": "markdown",
      "metadata": {
        "id": "UJS3Ag8hkGjM"
      },
      "source": [
        "Verificando a coluna de mes"
      ]
    },
    {
      "cell_type": "code",
      "metadata": {
        "id": "Xyb0zTJgkBRF"
      },
      "source": [
        "dados['month'].value_counts()"
      ],
      "execution_count": null,
      "outputs": []
    },
    {
      "cell_type": "code",
      "metadata": {
        "id": "JIOZe9-VjPsi"
      },
      "source": [
        ""
      ],
      "execution_count": null,
      "outputs": []
    },
    {
      "cell_type": "markdown",
      "metadata": {
        "id": "24xj5NKkkJvI"
      },
      "source": [
        "tem os 12 meses"
      ]
    },
    {
      "cell_type": "markdown",
      "metadata": {
        "id": "rAWekK3BjmZY"
      },
      "source": [
        "## Tratamento dos dados"
      ]
    },
    {
      "cell_type": "markdown",
      "metadata": {
        "id": "AGmMCCOkSopJ"
      },
      "source": [
        "Transformando as colunas object para category"
      ]
    },
    {
      "cell_type": "code",
      "metadata": {
        "id": "BoSTN4lXV7MX"
      },
      "source": [
        "#Transforma as object em category\n",
        "for i in dados.columns[dados.dtypes == object]: # df.dtypes == 'object'\n",
        "    dados[i] = dados[i].astype('category')"
      ],
      "execution_count": 97,
      "outputs": []
    },
    {
      "cell_type": "code",
      "metadata": {
        "id": "J70buXcKSnZ1",
        "colab": {
          "base_uri": "https://localhost:8080/"
        },
        "outputId": "feb95949-5285-4beb-b1d9-1f95ef0c33a7"
      },
      "source": [
        "dados.info()"
      ],
      "execution_count": 98,
      "outputs": [
        {
          "output_type": "stream",
          "text": [
            "<class 'pandas.core.frame.DataFrame'>\n",
            "RangeIndex: 6500 entries, 0 to 6499\n",
            "Data columns (total 17 columns):\n",
            " #   Column        Non-Null Count  Dtype   \n",
            "---  ------        --------------  -----   \n",
            " 0   Unnamed: 0    6500 non-null   int64   \n",
            " 1   age           6500 non-null   int64   \n",
            " 2   job           6500 non-null   category\n",
            " 3   marital       6500 non-null   category\n",
            " 4   education     6500 non-null   category\n",
            " 5   default       6500 non-null   category\n",
            " 6   balance       6500 non-null   int64   \n",
            " 7   housing       6500 non-null   category\n",
            " 8   loan          6500 non-null   category\n",
            " 9   contact       6500 non-null   category\n",
            " 10  day           6500 non-null   int64   \n",
            " 11  month         6500 non-null   category\n",
            " 12  campaign      6500 non-null   int64   \n",
            " 13  pdays         6500 non-null   int64   \n",
            " 14  previous      6500 non-null   int64   \n",
            " 15  poutcome      6500 non-null   category\n",
            " 16  term_deposit  6500 non-null   category\n",
            "dtypes: category(10), int64(7)\n",
            "memory usage: 420.8 KB\n"
          ],
          "name": "stdout"
        }
      ]
    },
    {
      "cell_type": "markdown",
      "metadata": {
        "id": "iHb4J9FaZM9-"
      },
      "source": [
        "Transformando as variaveis categoricas em numericas (no = 0 e yes = 1) das colunas default, loan, housing e term_deposit"
      ]
    },
    {
      "cell_type": "code",
      "metadata": {
        "id": "F6L4vxBRYuWh"
      },
      "source": [
        "#pega somente essas colunas e transfoma pra 0 e 1\n",
        "lista = ['default', 'loan', 'housing','term_deposit']\n",
        "\n",
        "for i in lista:\n",
        "  dados[i] = dados[i].cat.codes"
      ],
      "execution_count": 99,
      "outputs": []
    },
    {
      "cell_type": "code",
      "metadata": {
        "colab": {
          "base_uri": "https://localhost:8080/",
          "height": 408
        },
        "id": "tV-rlvl4YpSg",
        "outputId": "500e836b-4366-4f37-b5bf-b471461e0de7"
      },
      "source": [
        "dados[lista]"
      ],
      "execution_count": 100,
      "outputs": [
        {
          "output_type": "execute_result",
          "data": {
            "text/html": [
              "<div>\n",
              "<style scoped>\n",
              "    .dataframe tbody tr th:only-of-type {\n",
              "        vertical-align: middle;\n",
              "    }\n",
              "\n",
              "    .dataframe tbody tr th {\n",
              "        vertical-align: top;\n",
              "    }\n",
              "\n",
              "    .dataframe thead th {\n",
              "        text-align: right;\n",
              "    }\n",
              "</style>\n",
              "<table border=\"1\" class=\"dataframe\">\n",
              "  <thead>\n",
              "    <tr style=\"text-align: right;\">\n",
              "      <th></th>\n",
              "      <th>default</th>\n",
              "      <th>loan</th>\n",
              "      <th>housing</th>\n",
              "      <th>term_deposit</th>\n",
              "    </tr>\n",
              "  </thead>\n",
              "  <tbody>\n",
              "    <tr>\n",
              "      <th>0</th>\n",
              "      <td>0</td>\n",
              "      <td>0</td>\n",
              "      <td>1</td>\n",
              "      <td>1</td>\n",
              "    </tr>\n",
              "    <tr>\n",
              "      <th>1</th>\n",
              "      <td>0</td>\n",
              "      <td>0</td>\n",
              "      <td>1</td>\n",
              "      <td>0</td>\n",
              "    </tr>\n",
              "    <tr>\n",
              "      <th>2</th>\n",
              "      <td>0</td>\n",
              "      <td>0</td>\n",
              "      <td>1</td>\n",
              "      <td>0</td>\n",
              "    </tr>\n",
              "    <tr>\n",
              "      <th>3</th>\n",
              "      <td>0</td>\n",
              "      <td>0</td>\n",
              "      <td>0</td>\n",
              "      <td>0</td>\n",
              "    </tr>\n",
              "    <tr>\n",
              "      <th>4</th>\n",
              "      <td>0</td>\n",
              "      <td>0</td>\n",
              "      <td>0</td>\n",
              "      <td>1</td>\n",
              "    </tr>\n",
              "    <tr>\n",
              "      <th>...</th>\n",
              "      <td>...</td>\n",
              "      <td>...</td>\n",
              "      <td>...</td>\n",
              "      <td>...</td>\n",
              "    </tr>\n",
              "    <tr>\n",
              "      <th>6495</th>\n",
              "      <td>0</td>\n",
              "      <td>0</td>\n",
              "      <td>1</td>\n",
              "      <td>1</td>\n",
              "    </tr>\n",
              "    <tr>\n",
              "      <th>6496</th>\n",
              "      <td>0</td>\n",
              "      <td>0</td>\n",
              "      <td>0</td>\n",
              "      <td>0</td>\n",
              "    </tr>\n",
              "    <tr>\n",
              "      <th>6497</th>\n",
              "      <td>0</td>\n",
              "      <td>0</td>\n",
              "      <td>0</td>\n",
              "      <td>0</td>\n",
              "    </tr>\n",
              "    <tr>\n",
              "      <th>6498</th>\n",
              "      <td>0</td>\n",
              "      <td>0</td>\n",
              "      <td>0</td>\n",
              "      <td>1</td>\n",
              "    </tr>\n",
              "    <tr>\n",
              "      <th>6499</th>\n",
              "      <td>0</td>\n",
              "      <td>0</td>\n",
              "      <td>1</td>\n",
              "      <td>1</td>\n",
              "    </tr>\n",
              "  </tbody>\n",
              "</table>\n",
              "<p>6500 rows × 4 columns</p>\n",
              "</div>"
            ],
            "text/plain": [
              "      default  loan  housing  term_deposit\n",
              "0           0     0        1             1\n",
              "1           0     0        1             0\n",
              "2           0     0        1             0\n",
              "3           0     0        0             0\n",
              "4           0     0        0             1\n",
              "...       ...   ...      ...           ...\n",
              "6495        0     0        1             1\n",
              "6496        0     0        0             0\n",
              "6497        0     0        0             0\n",
              "6498        0     0        0             1\n",
              "6499        0     0        1             1\n",
              "\n",
              "[6500 rows x 4 columns]"
            ]
          },
          "metadata": {
            "tags": []
          },
          "execution_count": 100
        }
      ]
    },
    {
      "cell_type": "markdown",
      "metadata": {
        "id": "hoPedyJYYY_m"
      },
      "source": [
        "Ordenando education para primary, secondray, tertiary e unknown"
      ]
    },
    {
      "cell_type": "code",
      "metadata": {
        "id": "UMgZn0BTYg1O"
      },
      "source": [
        "#reordenando\n",
        "dados.education = dados.education.cat.reorder_categories(['primary', 'secondary', 'tertiary', 'unknown'], ordered=True)"
      ],
      "execution_count": 102,
      "outputs": []
    },
    {
      "cell_type": "markdown",
      "metadata": {
        "id": "7xP5OHh9Y7-Y"
      },
      "source": [
        "Transformando as variaveis job, marital, contact e poutcome em numeros"
      ]
    },
    {
      "cell_type": "code",
      "metadata": {
        "colab": {
          "base_uri": "https://localhost:8080/"
        },
        "id": "gOgIeGuXZr6U",
        "outputId": "361bd9b1-fb24-413a-ffd1-ffa3accdab82"
      },
      "source": [
        "dados.info()"
      ],
      "execution_count": 104,
      "outputs": [
        {
          "output_type": "stream",
          "text": [
            "<class 'pandas.core.frame.DataFrame'>\n",
            "RangeIndex: 6500 entries, 0 to 6499\n",
            "Data columns (total 17 columns):\n",
            " #   Column        Non-Null Count  Dtype   \n",
            "---  ------        --------------  -----   \n",
            " 0   Unnamed: 0    6500 non-null   int64   \n",
            " 1   age           6500 non-null   int64   \n",
            " 2   job           6500 non-null   category\n",
            " 3   marital       6500 non-null   category\n",
            " 4   education     6500 non-null   category\n",
            " 5   default       6500 non-null   int8    \n",
            " 6   balance       6500 non-null   int64   \n",
            " 7   housing       6500 non-null   int8    \n",
            " 8   loan          6500 non-null   int8    \n",
            " 9   contact       6500 non-null   category\n",
            " 10  day           6500 non-null   int64   \n",
            " 11  month         6500 non-null   category\n",
            " 12  campaign      6500 non-null   int64   \n",
            " 13  pdays         6500 non-null   int64   \n",
            " 14  previous      6500 non-null   int64   \n",
            " 15  poutcome      6500 non-null   category\n",
            " 16  term_deposit  6500 non-null   int8    \n",
            "dtypes: category(6), int64(7), int8(4)\n",
            "memory usage: 420.5 KB\n"
          ],
          "name": "stdout"
        }
      ]
    },
    {
      "cell_type": "code",
      "metadata": {
        "id": "11wMZ0ACZBw2"
      },
      "source": [
        "#pega somente essas colunas e transfoma para numeros\n",
        "lista = ['job', 'marital',  'education', 'contact','poutcome', 'month']\n",
        "\n",
        "for i in lista:\n",
        "  dados[i] = dados[i].cat.codes"
      ],
      "execution_count": 105,
      "outputs": []
    },
    {
      "cell_type": "code",
      "metadata": {
        "colab": {
          "base_uri": "https://localhost:8080/"
        },
        "id": "DAzODeILZ5Vp",
        "outputId": "52535358-cc50-49d2-8def-6efda36aa801"
      },
      "source": [
        "dados.info()"
      ],
      "execution_count": 106,
      "outputs": [
        {
          "output_type": "stream",
          "text": [
            "<class 'pandas.core.frame.DataFrame'>\n",
            "RangeIndex: 6500 entries, 0 to 6499\n",
            "Data columns (total 17 columns):\n",
            " #   Column        Non-Null Count  Dtype\n",
            "---  ------        --------------  -----\n",
            " 0   Unnamed: 0    6500 non-null   int64\n",
            " 1   age           6500 non-null   int64\n",
            " 2   job           6500 non-null   int8 \n",
            " 3   marital       6500 non-null   int8 \n",
            " 4   education     6500 non-null   int8 \n",
            " 5   default       6500 non-null   int8 \n",
            " 6   balance       6500 non-null   int64\n",
            " 7   housing       6500 non-null   int8 \n",
            " 8   loan          6500 non-null   int8 \n",
            " 9   contact       6500 non-null   int8 \n",
            " 10  day           6500 non-null   int64\n",
            " 11  month         6500 non-null   int8 \n",
            " 12  campaign      6500 non-null   int64\n",
            " 13  pdays         6500 non-null   int64\n",
            " 14  previous      6500 non-null   int64\n",
            " 15  poutcome      6500 non-null   int8 \n",
            " 16  term_deposit  6500 non-null   int8 \n",
            "dtypes: int64(7), int8(10)\n",
            "memory usage: 419.1 KB\n"
          ],
          "name": "stdout"
        }
      ]
    },
    {
      "cell_type": "markdown",
      "metadata": {
        "id": "iYvdg5cnmJNC"
      },
      "source": [
        "Tranformando as variaveis continuas /normalizando as variaveis"
      ]
    },
    {
      "cell_type": "code",
      "metadata": {
        "id": "iFOptbaBPkl-"
      },
      "source": [
        "from sklearn.preprocessing import StandardScaler\n",
        "sc = StandardScaler()"
      ],
      "execution_count": 107,
      "outputs": []
    },
    {
      "cell_type": "markdown",
      "metadata": {
        "id": "-z2aEWY1iS0i"
      },
      "source": [
        ""
      ]
    },
    {
      "cell_type": "code",
      "metadata": {
        "id": "LnweGfibQwU5"
      },
      "source": [
        "dados_norm = sc.fit_transform(dados[['age', 'balance','day', 'campaign' , 'pdays', 'previous']]) #tranformando\n",
        "dados_norm_df = pd.DataFrame(dados_norm, columns = ['age_n', 'balance_n', 'day_n', 'campaign_n' , 'pdays_n', 'previous_n']) #montando dataframe\n",
        "dados = pd.concat([dados, dados_norm_df], axis = 1) #cocatenando com a base original\n"
      ],
      "execution_count": 108,
      "outputs": []
    },
    {
      "cell_type": "code",
      "metadata": {
        "colab": {
          "base_uri": "https://localhost:8080/",
          "height": 236
        },
        "id": "ERhMOSIXTsPH",
        "outputId": "6592ecc2-b80c-49bc-ed16-b23aeb76d677"
      },
      "source": [
        "dados.sample(5)"
      ],
      "execution_count": 110,
      "outputs": [
        {
          "output_type": "execute_result",
          "data": {
            "text/html": [
              "<div>\n",
              "<style scoped>\n",
              "    .dataframe tbody tr th:only-of-type {\n",
              "        vertical-align: middle;\n",
              "    }\n",
              "\n",
              "    .dataframe tbody tr th {\n",
              "        vertical-align: top;\n",
              "    }\n",
              "\n",
              "    .dataframe thead th {\n",
              "        text-align: right;\n",
              "    }\n",
              "</style>\n",
              "<table border=\"1\" class=\"dataframe\">\n",
              "  <thead>\n",
              "    <tr style=\"text-align: right;\">\n",
              "      <th></th>\n",
              "      <th>Unnamed: 0</th>\n",
              "      <th>age</th>\n",
              "      <th>job</th>\n",
              "      <th>marital</th>\n",
              "      <th>education</th>\n",
              "      <th>default</th>\n",
              "      <th>balance</th>\n",
              "      <th>housing</th>\n",
              "      <th>loan</th>\n",
              "      <th>contact</th>\n",
              "      <th>day</th>\n",
              "      <th>month</th>\n",
              "      <th>campaign</th>\n",
              "      <th>pdays</th>\n",
              "      <th>previous</th>\n",
              "      <th>poutcome</th>\n",
              "      <th>term_deposit</th>\n",
              "      <th>age_n</th>\n",
              "      <th>balance_n</th>\n",
              "      <th>day_n</th>\n",
              "      <th>campaign_n</th>\n",
              "      <th>pdays_n</th>\n",
              "      <th>previous_n</th>\n",
              "    </tr>\n",
              "  </thead>\n",
              "  <tbody>\n",
              "    <tr>\n",
              "      <th>2209</th>\n",
              "      <td>2209</td>\n",
              "      <td>24</td>\n",
              "      <td>8</td>\n",
              "      <td>2</td>\n",
              "      <td>1</td>\n",
              "      <td>0</td>\n",
              "      <td>382</td>\n",
              "      <td>0</td>\n",
              "      <td>0</td>\n",
              "      <td>0</td>\n",
              "      <td>13</td>\n",
              "      <td>9</td>\n",
              "      <td>2</td>\n",
              "      <td>92</td>\n",
              "      <td>3</td>\n",
              "      <td>0</td>\n",
              "      <td>1</td>\n",
              "      <td>-1.494468</td>\n",
              "      <td>-0.361480</td>\n",
              "      <td>-0.318257</td>\n",
              "      <td>-0.210680</td>\n",
              "      <td>0.569708</td>\n",
              "      <td>1.341254</td>\n",
              "    </tr>\n",
              "    <tr>\n",
              "      <th>110</th>\n",
              "      <td>110</td>\n",
              "      <td>29</td>\n",
              "      <td>9</td>\n",
              "      <td>2</td>\n",
              "      <td>1</td>\n",
              "      <td>0</td>\n",
              "      <td>938</td>\n",
              "      <td>0</td>\n",
              "      <td>0</td>\n",
              "      <td>0</td>\n",
              "      <td>3</td>\n",
              "      <td>9</td>\n",
              "      <td>1</td>\n",
              "      <td>-1</td>\n",
              "      <td>0</td>\n",
              "      <td>3</td>\n",
              "      <td>1</td>\n",
              "      <td>-1.052310</td>\n",
              "      <td>-0.189619</td>\n",
              "      <td>-1.514297</td>\n",
              "      <td>-0.569074</td>\n",
              "      <td>-0.423507</td>\n",
              "      <td>-0.302336</td>\n",
              "    </tr>\n",
              "    <tr>\n",
              "      <th>6491</th>\n",
              "      <td>6491</td>\n",
              "      <td>37</td>\n",
              "      <td>2</td>\n",
              "      <td>1</td>\n",
              "      <td>2</td>\n",
              "      <td>0</td>\n",
              "      <td>1110</td>\n",
              "      <td>1</td>\n",
              "      <td>0</td>\n",
              "      <td>2</td>\n",
              "      <td>21</td>\n",
              "      <td>8</td>\n",
              "      <td>2</td>\n",
              "      <td>-1</td>\n",
              "      <td>0</td>\n",
              "      <td>3</td>\n",
              "      <td>0</td>\n",
              "      <td>-0.344856</td>\n",
              "      <td>-0.136453</td>\n",
              "      <td>0.638575</td>\n",
              "      <td>-0.210680</td>\n",
              "      <td>-0.423507</td>\n",
              "      <td>-0.302336</td>\n",
              "    </tr>\n",
              "    <tr>\n",
              "      <th>2596</th>\n",
              "      <td>2596</td>\n",
              "      <td>42</td>\n",
              "      <td>9</td>\n",
              "      <td>1</td>\n",
              "      <td>1</td>\n",
              "      <td>0</td>\n",
              "      <td>4791</td>\n",
              "      <td>1</td>\n",
              "      <td>0</td>\n",
              "      <td>2</td>\n",
              "      <td>30</td>\n",
              "      <td>8</td>\n",
              "      <td>2</td>\n",
              "      <td>-1</td>\n",
              "      <td>0</td>\n",
              "      <td>3</td>\n",
              "      <td>0</td>\n",
              "      <td>0.097302</td>\n",
              "      <td>1.001355</td>\n",
              "      <td>1.715011</td>\n",
              "      <td>-0.210680</td>\n",
              "      <td>-0.423507</td>\n",
              "      <td>-0.302336</td>\n",
              "    </tr>\n",
              "    <tr>\n",
              "      <th>151</th>\n",
              "      <td>151</td>\n",
              "      <td>36</td>\n",
              "      <td>4</td>\n",
              "      <td>0</td>\n",
              "      <td>2</td>\n",
              "      <td>0</td>\n",
              "      <td>81</td>\n",
              "      <td>0</td>\n",
              "      <td>1</td>\n",
              "      <td>0</td>\n",
              "      <td>22</td>\n",
              "      <td>5</td>\n",
              "      <td>1</td>\n",
              "      <td>-1</td>\n",
              "      <td>0</td>\n",
              "      <td>3</td>\n",
              "      <td>1</td>\n",
              "      <td>-0.433288</td>\n",
              "      <td>-0.454520</td>\n",
              "      <td>0.758179</td>\n",
              "      <td>-0.569074</td>\n",
              "      <td>-0.423507</td>\n",
              "      <td>-0.302336</td>\n",
              "    </tr>\n",
              "  </tbody>\n",
              "</table>\n",
              "</div>"
            ],
            "text/plain": [
              "      Unnamed: 0  age  job  marital  ...     day_n  campaign_n   pdays_n  previous_n\n",
              "2209        2209   24    8        2  ... -0.318257   -0.210680  0.569708    1.341254\n",
              "110          110   29    9        2  ... -1.514297   -0.569074 -0.423507   -0.302336\n",
              "6491        6491   37    2        1  ...  0.638575   -0.210680 -0.423507   -0.302336\n",
              "2596        2596   42    9        1  ...  1.715011   -0.210680 -0.423507   -0.302336\n",
              "151          151   36    4        0  ...  0.758179   -0.569074 -0.423507   -0.302336\n",
              "\n",
              "[5 rows x 23 columns]"
            ]
          },
          "metadata": {
            "tags": []
          },
          "execution_count": 110
        }
      ]
    },
    {
      "cell_type": "markdown",
      "metadata": {
        "id": "QfSMXyDDlvTc"
      },
      "source": [
        "Dropando variaveis"
      ]
    },
    {
      "cell_type": "code",
      "metadata": {
        "colab": {
          "base_uri": "https://localhost:8080/"
        },
        "id": "IgUmXQloLhM-",
        "outputId": "831efeda-eab7-4499-8be2-8fcbb018bf86"
      },
      "source": [
        "dados.columns"
      ],
      "execution_count": 111,
      "outputs": [
        {
          "output_type": "execute_result",
          "data": {
            "text/plain": [
              "Index(['Unnamed: 0', 'age', 'job', 'marital', 'education', 'default',\n",
              "       'balance', 'housing', 'loan', 'contact', 'day', 'month', 'campaign',\n",
              "       'pdays', 'previous', 'poutcome', 'term_deposit', 'age_n', 'balance_n',\n",
              "       'day_n', 'campaign_n', 'pdays_n', 'previous_n'],\n",
              "      dtype='object')"
            ]
          },
          "metadata": {
            "tags": []
          },
          "execution_count": 111
        }
      ]
    },
    {
      "cell_type": "code",
      "metadata": {
        "id": "1tjpDhLnl0qS"
      },
      "source": [
        "dados.drop(['Unnamed: 0','age', 'balance', 'campaign', 'pdays', 'previous'], axis = 1, inplace = True) # removendo as colunas que nao estao tranformadas\n"
      ],
      "execution_count": 112,
      "outputs": []
    },
    {
      "cell_type": "markdown",
      "metadata": {
        "id": "WlGisxKYZV9x"
      },
      "source": [
        "Verificando a base apos as transformacoes"
      ]
    },
    {
      "cell_type": "code",
      "metadata": {
        "colab": {
          "base_uri": "https://localhost:8080/",
          "height": 218
        },
        "id": "0JWzDg_3SuKg",
        "outputId": "af2ab793-5815-40e2-b165-341afc83b3cd"
      },
      "source": [
        "dados.sample(5)"
      ],
      "execution_count": 113,
      "outputs": [
        {
          "output_type": "execute_result",
          "data": {
            "text/html": [
              "<div>\n",
              "<style scoped>\n",
              "    .dataframe tbody tr th:only-of-type {\n",
              "        vertical-align: middle;\n",
              "    }\n",
              "\n",
              "    .dataframe tbody tr th {\n",
              "        vertical-align: top;\n",
              "    }\n",
              "\n",
              "    .dataframe thead th {\n",
              "        text-align: right;\n",
              "    }\n",
              "</style>\n",
              "<table border=\"1\" class=\"dataframe\">\n",
              "  <thead>\n",
              "    <tr style=\"text-align: right;\">\n",
              "      <th></th>\n",
              "      <th>job</th>\n",
              "      <th>marital</th>\n",
              "      <th>education</th>\n",
              "      <th>default</th>\n",
              "      <th>housing</th>\n",
              "      <th>loan</th>\n",
              "      <th>contact</th>\n",
              "      <th>day</th>\n",
              "      <th>month</th>\n",
              "      <th>poutcome</th>\n",
              "      <th>term_deposit</th>\n",
              "      <th>age_n</th>\n",
              "      <th>balance_n</th>\n",
              "      <th>day_n</th>\n",
              "      <th>campaign_n</th>\n",
              "      <th>pdays_n</th>\n",
              "      <th>previous_n</th>\n",
              "    </tr>\n",
              "  </thead>\n",
              "  <tbody>\n",
              "    <tr>\n",
              "      <th>4107</th>\n",
              "      <td>5</td>\n",
              "      <td>1</td>\n",
              "      <td>1</td>\n",
              "      <td>0</td>\n",
              "      <td>1</td>\n",
              "      <td>1</td>\n",
              "      <td>0</td>\n",
              "      <td>30</td>\n",
              "      <td>5</td>\n",
              "      <td>3</td>\n",
              "      <td>0</td>\n",
              "      <td>1.512209</td>\n",
              "      <td>-0.201055</td>\n",
              "      <td>1.715011</td>\n",
              "      <td>-0.210680</td>\n",
              "      <td>-0.423507</td>\n",
              "      <td>-0.302336</td>\n",
              "    </tr>\n",
              "    <tr>\n",
              "      <th>3648</th>\n",
              "      <td>1</td>\n",
              "      <td>1</td>\n",
              "      <td>1</td>\n",
              "      <td>0</td>\n",
              "      <td>1</td>\n",
              "      <td>0</td>\n",
              "      <td>2</td>\n",
              "      <td>6</td>\n",
              "      <td>8</td>\n",
              "      <td>3</td>\n",
              "      <td>0</td>\n",
              "      <td>-0.079561</td>\n",
              "      <td>-0.479557</td>\n",
              "      <td>-1.155485</td>\n",
              "      <td>-0.569074</td>\n",
              "      <td>-0.423507</td>\n",
              "      <td>-0.302336</td>\n",
              "    </tr>\n",
              "    <tr>\n",
              "      <th>2819</th>\n",
              "      <td>10</td>\n",
              "      <td>2</td>\n",
              "      <td>2</td>\n",
              "      <td>0</td>\n",
              "      <td>0</td>\n",
              "      <td>0</td>\n",
              "      <td>0</td>\n",
              "      <td>3</td>\n",
              "      <td>3</td>\n",
              "      <td>3</td>\n",
              "      <td>0</td>\n",
              "      <td>-0.787015</td>\n",
              "      <td>-0.322842</td>\n",
              "      <td>-1.514297</td>\n",
              "      <td>-0.569074</td>\n",
              "      <td>-0.423507</td>\n",
              "      <td>-0.302336</td>\n",
              "    </tr>\n",
              "    <tr>\n",
              "      <th>1585</th>\n",
              "      <td>9</td>\n",
              "      <td>2</td>\n",
              "      <td>1</td>\n",
              "      <td>1</td>\n",
              "      <td>1</td>\n",
              "      <td>0</td>\n",
              "      <td>0</td>\n",
              "      <td>17</td>\n",
              "      <td>0</td>\n",
              "      <td>3</td>\n",
              "      <td>1</td>\n",
              "      <td>-0.433288</td>\n",
              "      <td>-0.630090</td>\n",
              "      <td>0.160159</td>\n",
              "      <td>-0.569074</td>\n",
              "      <td>-0.423507</td>\n",
              "      <td>-0.302336</td>\n",
              "    </tr>\n",
              "    <tr>\n",
              "      <th>5188</th>\n",
              "      <td>10</td>\n",
              "      <td>2</td>\n",
              "      <td>0</td>\n",
              "      <td>0</td>\n",
              "      <td>0</td>\n",
              "      <td>0</td>\n",
              "      <td>0</td>\n",
              "      <td>4</td>\n",
              "      <td>3</td>\n",
              "      <td>3</td>\n",
              "      <td>0</td>\n",
              "      <td>0.185734</td>\n",
              "      <td>-0.397954</td>\n",
              "      <td>-1.394693</td>\n",
              "      <td>-0.210680</td>\n",
              "      <td>-0.423507</td>\n",
              "      <td>-0.302336</td>\n",
              "    </tr>\n",
              "  </tbody>\n",
              "</table>\n",
              "</div>"
            ],
            "text/plain": [
              "      job  marital  education  ...  campaign_n   pdays_n  previous_n\n",
              "4107    5        1          1  ...   -0.210680 -0.423507   -0.302336\n",
              "3648    1        1          1  ...   -0.569074 -0.423507   -0.302336\n",
              "2819   10        2          2  ...   -0.569074 -0.423507   -0.302336\n",
              "1585    9        2          1  ...   -0.569074 -0.423507   -0.302336\n",
              "5188   10        2          0  ...   -0.210680 -0.423507   -0.302336\n",
              "\n",
              "[5 rows x 17 columns]"
            ]
          },
          "metadata": {
            "tags": []
          },
          "execution_count": 113
        }
      ]
    },
    {
      "cell_type": "markdown",
      "metadata": {
        "id": "E3QwtacQcQ5w"
      },
      "source": [
        "## Modelagem"
      ]
    },
    {
      "cell_type": "code",
      "metadata": {
        "id": "M11X26HgMu2c"
      },
      "source": [
        "from sklearn.model_selection import train_test_split\n",
        "from sklearn.model_selection import cross_val_score, cross_validate\n",
        "from sklearn import metrics\n",
        "from sklearn.linear_model import LogisticRegression \n",
        "from sklearn.neighbors import KNeighborsClassifier\n",
        " "
      ],
      "execution_count": 123,
      "outputs": []
    },
    {
      "cell_type": "markdown",
      "metadata": {
        "id": "q9SWTIAHlxe7"
      },
      "source": [
        "Separando treino e teste"
      ]
    },
    {
      "cell_type": "code",
      "metadata": {
        "id": "BJ9I0MO2K4QP"
      },
      "source": [
        "y = dados.term_deposit\n",
        "X = dados.drop(['term_deposit'], axis=1)"
      ],
      "execution_count": 115,
      "outputs": []
    },
    {
      "cell_type": "code",
      "metadata": {
        "id": "bQQW9rpXMPMF"
      },
      "source": [
        "X_train, X_test, y_train, y_test = train_test_split(X, y, test_size=0.25)\n",
        "\n",
        "# o que significa stratify ?"
      ],
      "execution_count": 116,
      "outputs": []
    },
    {
      "cell_type": "markdown",
      "metadata": {
        "id": "eTmehlmblMKA"
      },
      "source": [
        "Linear Regression"
      ]
    },
    {
      "cell_type": "code",
      "metadata": {
        "colab": {
          "base_uri": "https://localhost:8080/"
        },
        "id": "vEncPHrWlWCK",
        "outputId": "c5d29829-289f-406b-c7a9-3f83d2eac9f5"
      },
      "source": [
        "#treinamento\n",
        "modelo = LogisticRegression(max_iter=200)\n",
        "modelo.fit(X_train, y_train)\n"
      ],
      "execution_count": 132,
      "outputs": [
        {
          "output_type": "execute_result",
          "data": {
            "text/plain": [
              "LogisticRegression(C=1.0, class_weight=None, dual=False, fit_intercept=True,\n",
              "                   intercept_scaling=1, l1_ratio=None, max_iter=200,\n",
              "                   multi_class='auto', n_jobs=None, penalty='l2',\n",
              "                   random_state=None, solver='lbfgs', tol=0.0001, verbose=0,\n",
              "                   warm_start=False)"
            ]
          },
          "metadata": {
            "tags": []
          },
          "execution_count": 132
        }
      ]
    },
    {
      "cell_type": "code",
      "metadata": {
        "id": "Kv1qwrNdNjJx"
      },
      "source": [
        "#predicao\n",
        "y_pred = modelo.predict(X_test)"
      ],
      "execution_count": 119,
      "outputs": []
    },
    {
      "cell_type": "code",
      "metadata": {
        "colab": {
          "base_uri": "https://localhost:8080/"
        },
        "id": "_sWho2efN0ep",
        "outputId": "6d39502e-d34f-43c8-e88c-c0c8ed8b62f2"
      },
      "source": [
        "#metricas\n",
        "print(metrics.classification_report(y_test, y_pred))"
      ],
      "execution_count": 124,
      "outputs": [
        {
          "output_type": "stream",
          "text": [
            "              precision    recall  f1-score   support\n",
            "\n",
            "           0       0.64      0.58      0.61       813\n",
            "           1       0.61      0.67      0.64       812\n",
            "\n",
            "    accuracy                           0.62      1625\n",
            "   macro avg       0.62      0.62      0.62      1625\n",
            "weighted avg       0.62      0.62      0.62      1625\n",
            "\n"
          ],
          "name": "stdout"
        }
      ]
    },
    {
      "cell_type": "code",
      "metadata": {
        "id": "JGoUEIH_m_pT"
      },
      "source": [
        "#verficiar kfold = 5"
      ],
      "execution_count": null,
      "outputs": []
    },
    {
      "cell_type": "markdown",
      "metadata": {
        "id": "vyLajHdTnqeS"
      },
      "source": [
        "KNN"
      ]
    },
    {
      "cell_type": "code",
      "metadata": {
        "colab": {
          "base_uri": "https://localhost:8080/"
        },
        "id": "vDLHjXG0TQiU",
        "outputId": "6eb4dc5b-f4ef-46a4-e967-710ca4b2b14e"
      },
      "source": [
        "knn_class = KNeighborsClassifier(n_neighbors=10)\n",
        "knn_class.fit(X_train, y_train)"
      ],
      "execution_count": 140,
      "outputs": [
        {
          "output_type": "execute_result",
          "data": {
            "text/plain": [
              "KNeighborsClassifier(algorithm='auto', leaf_size=30, metric='minkowski',\n",
              "                     metric_params=None, n_jobs=None, n_neighbors=10, p=2,\n",
              "                     weights='uniform')"
            ]
          },
          "metadata": {
            "tags": []
          },
          "execution_count": 140
        }
      ]
    },
    {
      "cell_type": "code",
      "metadata": {
        "id": "hr7u5-JqtptA"
      },
      "source": [
        "y_pred = knn_class.predict(X_test)"
      ],
      "execution_count": 141,
      "outputs": []
    },
    {
      "cell_type": "code",
      "metadata": {
        "colab": {
          "base_uri": "https://localhost:8080/"
        },
        "id": "QWLyKkcettK4",
        "outputId": "dd8f74b5-5190-43a6-acb9-7ae2a3b0b7dd"
      },
      "source": [
        "print(metrics.classification_report(y_test, y_pred))"
      ],
      "execution_count": 142,
      "outputs": [
        {
          "output_type": "stream",
          "text": [
            "              precision    recall  f1-score   support\n",
            "\n",
            "           0       0.59      0.81      0.68       813\n",
            "           1       0.70      0.45      0.54       812\n",
            "\n",
            "    accuracy                           0.63      1625\n",
            "   macro avg       0.65      0.63      0.61      1625\n",
            "weighted avg       0.65      0.63      0.61      1625\n",
            "\n"
          ],
          "name": "stdout"
        }
      ]
    },
    {
      "cell_type": "markdown",
      "metadata": {
        "id": "adjpfWRensuw"
      },
      "source": [
        "Arvore de decisão"
      ]
    },
    {
      "cell_type": "markdown",
      "metadata": {
        "id": "fNWWTKYan4z3"
      },
      "source": [
        "Random Forest"
      ]
    },
    {
      "cell_type": "code",
      "metadata": {
        "id": "KohUwFuoV_Ix"
      },
      "source": [
        ""
      ],
      "execution_count": null,
      "outputs": []
    },
    {
      "cell_type": "code",
      "metadata": {
        "id": "pVN-NFMbnSJv"
      },
      "source": [
        ""
      ],
      "execution_count": null,
      "outputs": []
    },
    {
      "cell_type": "code",
      "metadata": {
        "id": "NGSnEitckXY8"
      },
      "source": [
        ""
      ],
      "execution_count": null,
      "outputs": []
    }
  ]
}