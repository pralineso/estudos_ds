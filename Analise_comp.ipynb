{
  "nbformat": 4,
  "nbformat_minor": 0,
  "metadata": {
    "colab": {
      "name": "Analise_comp.ipynb",
      "provenance": [],
      "collapsed_sections": [],
      "authorship_tag": "ABX9TyM4y//nCn1ckQbDj0Lh8/0T",
      "include_colab_link": true
    },
    "kernelspec": {
      "name": "python3",
      "display_name": "Python 3"
    },
    "language_info": {
      "name": "python"
    },
    "widgets": {
      "application/vnd.jupyter.widget-state+json": {
        "b297d4e2ea2a498f8ce2f0c29cef4355": {
          "model_module": "@jupyter-widgets/controls",
          "model_name": "HBoxModel",
          "state": {
            "_view_name": "HBoxView",
            "_dom_classes": [],
            "_model_name": "HBoxModel",
            "_view_module": "@jupyter-widgets/controls",
            "_model_module_version": "1.5.0",
            "_view_count": null,
            "_view_module_version": "1.5.0",
            "box_style": "",
            "layout": "IPY_MODEL_46e610952f3d465189004400b5a0670b",
            "_model_module": "@jupyter-widgets/controls",
            "children": [
              "IPY_MODEL_6c6fc912882a4ca5939a2a4d8fb5d9ba",
              "IPY_MODEL_93e5dd79fd6546abad8a70613873cd65",
              "IPY_MODEL_072e4b84e43f456697dc1c9bdeb7a5a3"
            ]
          }
        },
        "46e610952f3d465189004400b5a0670b": {
          "model_module": "@jupyter-widgets/base",
          "model_name": "LayoutModel",
          "state": {
            "_view_name": "LayoutView",
            "grid_template_rows": null,
            "right": null,
            "justify_content": null,
            "_view_module": "@jupyter-widgets/base",
            "overflow": null,
            "_model_module_version": "1.2.0",
            "_view_count": null,
            "flex_flow": "row wrap",
            "width": "100%",
            "min_width": null,
            "border": null,
            "align_items": null,
            "bottom": null,
            "_model_module": "@jupyter-widgets/base",
            "top": null,
            "grid_column": null,
            "overflow_y": null,
            "overflow_x": null,
            "grid_auto_flow": null,
            "grid_area": null,
            "grid_template_columns": null,
            "flex": null,
            "_model_name": "LayoutModel",
            "justify_items": null,
            "grid_row": null,
            "max_height": null,
            "align_content": null,
            "visibility": null,
            "align_self": null,
            "height": null,
            "min_height": null,
            "padding": null,
            "grid_auto_rows": null,
            "grid_gap": null,
            "max_width": null,
            "order": null,
            "_view_module_version": "1.2.0",
            "grid_template_areas": null,
            "object_position": null,
            "object_fit": null,
            "grid_auto_columns": null,
            "margin": null,
            "display": "inline-flex",
            "left": null
          }
        },
        "6c6fc912882a4ca5939a2a4d8fb5d9ba": {
          "model_module": "@jupyter-widgets/controls",
          "model_name": "HTMLModel",
          "state": {
            "_view_name": "HTMLView",
            "style": "IPY_MODEL_f5725439bb814eb79dd3921120cf7d27",
            "_dom_classes": [],
            "description": "",
            "_model_name": "HTMLModel",
            "placeholder": "​",
            "_view_module": "@jupyter-widgets/controls",
            "_model_module_version": "1.5.0",
            "value": "Done! Use &#x27;show&#x27; commands to display/save.   ",
            "_view_count": null,
            "_view_module_version": "1.5.0",
            "description_tooltip": null,
            "_model_module": "@jupyter-widgets/controls",
            "layout": "IPY_MODEL_a8349116197c4b5f95e4715a3293bf64"
          }
        },
        "93e5dd79fd6546abad8a70613873cd65": {
          "model_module": "@jupyter-widgets/controls",
          "model_name": "FloatProgressModel",
          "state": {
            "_view_name": "ProgressView",
            "style": "IPY_MODEL_cc3ecfb8573e4886a692e4fa31419a07",
            "_dom_classes": [],
            "description": "",
            "_model_name": "FloatProgressModel",
            "bar_style": "success",
            "max": 1,
            "_view_module": "@jupyter-widgets/controls",
            "_model_module_version": "1.5.0",
            "value": 1,
            "_view_count": null,
            "_view_module_version": "1.5.0",
            "orientation": "horizontal",
            "min": 0,
            "description_tooltip": null,
            "_model_module": "@jupyter-widgets/controls",
            "layout": "IPY_MODEL_25a247dc4ae74c8f9f8d3bb92f05b163"
          }
        },
        "072e4b84e43f456697dc1c9bdeb7a5a3": {
          "model_module": "@jupyter-widgets/controls",
          "model_name": "HTMLModel",
          "state": {
            "_view_name": "HTMLView",
            "style": "IPY_MODEL_5a6b7f166b5d4f428ddf8fcaff9f888e",
            "_dom_classes": [],
            "description": "",
            "_model_name": "HTMLModel",
            "placeholder": "​",
            "_view_module": "@jupyter-widgets/controls",
            "_model_module_version": "1.5.0",
            "value": " [100%]   00:01 -&gt; (00:00 left)",
            "_view_count": null,
            "_view_module_version": "1.5.0",
            "description_tooltip": null,
            "_model_module": "@jupyter-widgets/controls",
            "layout": "IPY_MODEL_c1e071a31ffc4006b55ae5e173260f79"
          }
        },
        "f5725439bb814eb79dd3921120cf7d27": {
          "model_module": "@jupyter-widgets/controls",
          "model_name": "DescriptionStyleModel",
          "state": {
            "_view_name": "StyleView",
            "_model_name": "DescriptionStyleModel",
            "description_width": "",
            "_view_module": "@jupyter-widgets/base",
            "_model_module_version": "1.5.0",
            "_view_count": null,
            "_view_module_version": "1.2.0",
            "_model_module": "@jupyter-widgets/controls"
          }
        },
        "a8349116197c4b5f95e4715a3293bf64": {
          "model_module": "@jupyter-widgets/base",
          "model_name": "LayoutModel",
          "state": {
            "_view_name": "LayoutView",
            "grid_template_rows": null,
            "right": null,
            "justify_content": null,
            "_view_module": "@jupyter-widgets/base",
            "overflow": null,
            "_model_module_version": "1.2.0",
            "_view_count": null,
            "flex_flow": null,
            "width": null,
            "min_width": null,
            "border": null,
            "align_items": null,
            "bottom": null,
            "_model_module": "@jupyter-widgets/base",
            "top": null,
            "grid_column": null,
            "overflow_y": null,
            "overflow_x": null,
            "grid_auto_flow": null,
            "grid_area": null,
            "grid_template_columns": null,
            "flex": null,
            "_model_name": "LayoutModel",
            "justify_items": null,
            "grid_row": null,
            "max_height": null,
            "align_content": null,
            "visibility": null,
            "align_self": null,
            "height": null,
            "min_height": null,
            "padding": null,
            "grid_auto_rows": null,
            "grid_gap": null,
            "max_width": null,
            "order": null,
            "_view_module_version": "1.2.0",
            "grid_template_areas": null,
            "object_position": null,
            "object_fit": null,
            "grid_auto_columns": null,
            "margin": null,
            "display": null,
            "left": null
          }
        },
        "cc3ecfb8573e4886a692e4fa31419a07": {
          "model_module": "@jupyter-widgets/controls",
          "model_name": "ProgressStyleModel",
          "state": {
            "_view_name": "StyleView",
            "_model_name": "ProgressStyleModel",
            "description_width": "",
            "_view_module": "@jupyter-widgets/base",
            "_model_module_version": "1.5.0",
            "_view_count": null,
            "_view_module_version": "1.2.0",
            "bar_color": null,
            "_model_module": "@jupyter-widgets/controls"
          }
        },
        "25a247dc4ae74c8f9f8d3bb92f05b163": {
          "model_module": "@jupyter-widgets/base",
          "model_name": "LayoutModel",
          "state": {
            "_view_name": "LayoutView",
            "grid_template_rows": null,
            "right": null,
            "justify_content": null,
            "_view_module": "@jupyter-widgets/base",
            "overflow": null,
            "_model_module_version": "1.2.0",
            "_view_count": null,
            "flex_flow": null,
            "width": null,
            "min_width": null,
            "border": null,
            "align_items": null,
            "bottom": null,
            "_model_module": "@jupyter-widgets/base",
            "top": null,
            "grid_column": null,
            "overflow_y": null,
            "overflow_x": null,
            "grid_auto_flow": null,
            "grid_area": null,
            "grid_template_columns": null,
            "flex": "2",
            "_model_name": "LayoutModel",
            "justify_items": null,
            "grid_row": null,
            "max_height": null,
            "align_content": null,
            "visibility": null,
            "align_self": null,
            "height": null,
            "min_height": null,
            "padding": null,
            "grid_auto_rows": null,
            "grid_gap": null,
            "max_width": null,
            "order": null,
            "_view_module_version": "1.2.0",
            "grid_template_areas": null,
            "object_position": null,
            "object_fit": null,
            "grid_auto_columns": null,
            "margin": null,
            "display": null,
            "left": null
          }
        },
        "5a6b7f166b5d4f428ddf8fcaff9f888e": {
          "model_module": "@jupyter-widgets/controls",
          "model_name": "DescriptionStyleModel",
          "state": {
            "_view_name": "StyleView",
            "_model_name": "DescriptionStyleModel",
            "description_width": "",
            "_view_module": "@jupyter-widgets/base",
            "_model_module_version": "1.5.0",
            "_view_count": null,
            "_view_module_version": "1.2.0",
            "_model_module": "@jupyter-widgets/controls"
          }
        },
        "c1e071a31ffc4006b55ae5e173260f79": {
          "model_module": "@jupyter-widgets/base",
          "model_name": "LayoutModel",
          "state": {
            "_view_name": "LayoutView",
            "grid_template_rows": null,
            "right": null,
            "justify_content": null,
            "_view_module": "@jupyter-widgets/base",
            "overflow": null,
            "_model_module_version": "1.2.0",
            "_view_count": null,
            "flex_flow": null,
            "width": null,
            "min_width": null,
            "border": null,
            "align_items": null,
            "bottom": null,
            "_model_module": "@jupyter-widgets/base",
            "top": null,
            "grid_column": null,
            "overflow_y": null,
            "overflow_x": null,
            "grid_auto_flow": null,
            "grid_area": null,
            "grid_template_columns": null,
            "flex": null,
            "_model_name": "LayoutModel",
            "justify_items": null,
            "grid_row": null,
            "max_height": null,
            "align_content": null,
            "visibility": null,
            "align_self": null,
            "height": null,
            "min_height": null,
            "padding": null,
            "grid_auto_rows": null,
            "grid_gap": null,
            "max_width": null,
            "order": null,
            "_view_module_version": "1.2.0",
            "grid_template_areas": null,
            "object_position": null,
            "object_fit": null,
            "grid_auto_columns": null,
            "margin": null,
            "display": null,
            "left": null
          }
        }
      }
    }
  },
  "cells": [
    {
      "cell_type": "markdown",
      "metadata": {
        "id": "view-in-github",
        "colab_type": "text"
      },
      "source": [
        "<a href=\"https://colab.research.google.com/github/pralineso/estudos_ds/blob/main/Analise_comp.ipynb\" target=\"_parent\"><img src=\"https://colab.research.google.com/assets/colab-badge.svg\" alt=\"Open In Colab\"/></a>"
      ]
    },
    {
      "cell_type": "markdown",
      "metadata": {
        "id": "K8A9-RysiT50"
      },
      "source": [
        "## Introdução"
      ]
    },
    {
      "cell_type": "markdown",
      "metadata": {
        "id": "49iTkU4ciX2e"
      },
      "source": [
        "Este notebook é referente ao 3° competição da FLAI de Machine Learning. \n",
        "\n",
        "O conjunto de dados fornecido está relacionado como resultado de campanhas de marketing de uma instituição financeira.\n",
        "\n",
        "Nessa competicção o principal objetivo é prever se o cliente fará um deposito."
      ]
    },
    {
      "cell_type": "markdown",
      "metadata": {
        "id": "unAMpXLinVhY"
      },
      "source": [
        "## Importações"
      ]
    },
    {
      "cell_type": "code",
      "metadata": {
        "id": "WHMVoqCdmoOT"
      },
      "source": [
        "import pandas as pd\n",
        "import numpy as np"
      ],
      "execution_count": null,
      "outputs": []
    },
    {
      "cell_type": "markdown",
      "metadata": {
        "id": "Kknj9eTknZUw"
      },
      "source": [
        "## Explorando a base"
      ]
    },
    {
      "cell_type": "code",
      "metadata": {
        "id": "HcrS8tXtmvjh"
      },
      "source": [
        "dados = pd.read_csv('https://raw.githubusercontent.com/pralineso/estudos_ds/main/Datasets/treino_comp.csv')"
      ],
      "execution_count": null,
      "outputs": []
    },
    {
      "cell_type": "code",
      "metadata": {
        "colab": {
          "base_uri": "https://localhost:8080/",
          "height": 236
        },
        "id": "VVYUDkU_nAcb",
        "outputId": "5f7648d6-92f7-418d-d226-33bb00fea2c7"
      },
      "source": [
        "dados.head()"
      ],
      "execution_count": null,
      "outputs": [
        {
          "output_type": "execute_result",
          "data": {
            "text/html": [
              "<div>\n",
              "<style scoped>\n",
              "    .dataframe tbody tr th:only-of-type {\n",
              "        vertical-align: middle;\n",
              "    }\n",
              "\n",
              "    .dataframe tbody tr th {\n",
              "        vertical-align: top;\n",
              "    }\n",
              "\n",
              "    .dataframe thead th {\n",
              "        text-align: right;\n",
              "    }\n",
              "</style>\n",
              "<table border=\"1\" class=\"dataframe\">\n",
              "  <thead>\n",
              "    <tr style=\"text-align: right;\">\n",
              "      <th></th>\n",
              "      <th>Unnamed: 0</th>\n",
              "      <th>age</th>\n",
              "      <th>job</th>\n",
              "      <th>marital</th>\n",
              "      <th>education</th>\n",
              "      <th>default</th>\n",
              "      <th>balance</th>\n",
              "      <th>housing</th>\n",
              "      <th>loan</th>\n",
              "      <th>contact</th>\n",
              "      <th>day</th>\n",
              "      <th>month</th>\n",
              "      <th>campaign</th>\n",
              "      <th>pdays</th>\n",
              "      <th>previous</th>\n",
              "      <th>poutcome</th>\n",
              "      <th>term_deposit</th>\n",
              "    </tr>\n",
              "  </thead>\n",
              "  <tbody>\n",
              "    <tr>\n",
              "      <th>0</th>\n",
              "      <td>0</td>\n",
              "      <td>46</td>\n",
              "      <td>management</td>\n",
              "      <td>divorced</td>\n",
              "      <td>tertiary</td>\n",
              "      <td>no</td>\n",
              "      <td>14481</td>\n",
              "      <td>yes</td>\n",
              "      <td>no</td>\n",
              "      <td>unknown</td>\n",
              "      <td>30</td>\n",
              "      <td>may</td>\n",
              "      <td>1</td>\n",
              "      <td>-1</td>\n",
              "      <td>0</td>\n",
              "      <td>unknown</td>\n",
              "      <td>yes</td>\n",
              "    </tr>\n",
              "    <tr>\n",
              "      <th>1</th>\n",
              "      <td>1</td>\n",
              "      <td>37</td>\n",
              "      <td>management</td>\n",
              "      <td>single</td>\n",
              "      <td>tertiary</td>\n",
              "      <td>no</td>\n",
              "      <td>457</td>\n",
              "      <td>yes</td>\n",
              "      <td>no</td>\n",
              "      <td>cellular</td>\n",
              "      <td>1</td>\n",
              "      <td>apr</td>\n",
              "      <td>3</td>\n",
              "      <td>-1</td>\n",
              "      <td>0</td>\n",
              "      <td>unknown</td>\n",
              "      <td>no</td>\n",
              "    </tr>\n",
              "    <tr>\n",
              "      <th>2</th>\n",
              "      <td>2</td>\n",
              "      <td>34</td>\n",
              "      <td>blue-collar</td>\n",
              "      <td>single</td>\n",
              "      <td>secondary</td>\n",
              "      <td>no</td>\n",
              "      <td>1698</td>\n",
              "      <td>yes</td>\n",
              "      <td>no</td>\n",
              "      <td>unknown</td>\n",
              "      <td>27</td>\n",
              "      <td>may</td>\n",
              "      <td>7</td>\n",
              "      <td>-1</td>\n",
              "      <td>0</td>\n",
              "      <td>unknown</td>\n",
              "      <td>no</td>\n",
              "    </tr>\n",
              "    <tr>\n",
              "      <th>3</th>\n",
              "      <td>3</td>\n",
              "      <td>45</td>\n",
              "      <td>unemployed</td>\n",
              "      <td>single</td>\n",
              "      <td>secondary</td>\n",
              "      <td>no</td>\n",
              "      <td>33</td>\n",
              "      <td>no</td>\n",
              "      <td>no</td>\n",
              "      <td>cellular</td>\n",
              "      <td>5</td>\n",
              "      <td>feb</td>\n",
              "      <td>1</td>\n",
              "      <td>-1</td>\n",
              "      <td>0</td>\n",
              "      <td>unknown</td>\n",
              "      <td>no</td>\n",
              "    </tr>\n",
              "    <tr>\n",
              "      <th>4</th>\n",
              "      <td>4</td>\n",
              "      <td>31</td>\n",
              "      <td>management</td>\n",
              "      <td>married</td>\n",
              "      <td>tertiary</td>\n",
              "      <td>no</td>\n",
              "      <td>131</td>\n",
              "      <td>no</td>\n",
              "      <td>no</td>\n",
              "      <td>cellular</td>\n",
              "      <td>18</td>\n",
              "      <td>feb</td>\n",
              "      <td>2</td>\n",
              "      <td>-1</td>\n",
              "      <td>0</td>\n",
              "      <td>unknown</td>\n",
              "      <td>yes</td>\n",
              "    </tr>\n",
              "  </tbody>\n",
              "</table>\n",
              "</div>"
            ],
            "text/plain": [
              "   Unnamed: 0  age          job  ... previous poutcome term_deposit\n",
              "0           0   46   management  ...        0  unknown          yes\n",
              "1           1   37   management  ...        0  unknown           no\n",
              "2           2   34  blue-collar  ...        0  unknown           no\n",
              "3           3   45   unemployed  ...        0  unknown           no\n",
              "4           4   31   management  ...        0  unknown          yes\n",
              "\n",
              "[5 rows x 17 columns]"
            ]
          },
          "metadata": {
            "tags": []
          },
          "execution_count": 5
        }
      ]
    },
    {
      "cell_type": "code",
      "metadata": {
        "colab": {
          "base_uri": "https://localhost:8080/"
        },
        "id": "DB465zaolLNf",
        "outputId": "dbc589f2-d853-429a-a1d9-1073f55d2a81"
      },
      "source": [
        "dados.shape"
      ],
      "execution_count": null,
      "outputs": [
        {
          "output_type": "execute_result",
          "data": {
            "text/plain": [
              "(6500, 17)"
            ]
          },
          "metadata": {
            "tags": []
          },
          "execution_count": 4
        }
      ]
    },
    {
      "cell_type": "code",
      "metadata": {
        "colab": {
          "base_uri": "https://localhost:8080/"
        },
        "id": "_SkHXwGFnCO4",
        "outputId": "085f705b-fcbb-41c3-a5a7-839e103776e5"
      },
      "source": [
        "dados.info()"
      ],
      "execution_count": null,
      "outputs": [
        {
          "output_type": "stream",
          "text": [
            "<class 'pandas.core.frame.DataFrame'>\n",
            "RangeIndex: 6500 entries, 0 to 6499\n",
            "Data columns (total 17 columns):\n",
            " #   Column        Non-Null Count  Dtype \n",
            "---  ------        --------------  ----- \n",
            " 0   Unnamed: 0    6500 non-null   int64 \n",
            " 1   age           6500 non-null   int64 \n",
            " 2   job           6500 non-null   object\n",
            " 3   marital       6500 non-null   object\n",
            " 4   education     6500 non-null   object\n",
            " 5   default       6500 non-null   object\n",
            " 6   balance       6500 non-null   int64 \n",
            " 7   housing       6500 non-null   object\n",
            " 8   loan          6500 non-null   object\n",
            " 9   contact       6500 non-null   object\n",
            " 10  day           6500 non-null   int64 \n",
            " 11  month         6500 non-null   object\n",
            " 12  campaign      6500 non-null   int64 \n",
            " 13  pdays         6500 non-null   int64 \n",
            " 14  previous      6500 non-null   int64 \n",
            " 15  poutcome      6500 non-null   object\n",
            " 16  term_deposit  6500 non-null   object\n",
            "dtypes: int64(7), object(10)\n",
            "memory usage: 863.4+ KB\n"
          ],
          "name": "stdout"
        }
      ]
    },
    {
      "cell_type": "markdown",
      "metadata": {
        "id": "py2YtnnlnkS6"
      },
      "source": [
        "Muitas variaveis categoricas..."
      ]
    },
    {
      "cell_type": "code",
      "metadata": {
        "colab": {
          "base_uri": "https://localhost:8080/",
          "height": 288
        },
        "id": "trdeTs_-P433",
        "outputId": "daa7889f-6b9b-4205-b8e4-84a5c7d36f42"
      },
      "source": [
        "dados.describe()"
      ],
      "execution_count": null,
      "outputs": [
        {
          "output_type": "execute_result",
          "data": {
            "text/html": [
              "<div>\n",
              "<style scoped>\n",
              "    .dataframe tbody tr th:only-of-type {\n",
              "        vertical-align: middle;\n",
              "    }\n",
              "\n",
              "    .dataframe tbody tr th {\n",
              "        vertical-align: top;\n",
              "    }\n",
              "\n",
              "    .dataframe thead th {\n",
              "        text-align: right;\n",
              "    }\n",
              "</style>\n",
              "<table border=\"1\" class=\"dataframe\">\n",
              "  <thead>\n",
              "    <tr style=\"text-align: right;\">\n",
              "      <th></th>\n",
              "      <th>Unnamed: 0</th>\n",
              "      <th>age</th>\n",
              "      <th>balance</th>\n",
              "      <th>day</th>\n",
              "      <th>campaign</th>\n",
              "      <th>pdays</th>\n",
              "      <th>previous</th>\n",
              "    </tr>\n",
              "  </thead>\n",
              "  <tbody>\n",
              "    <tr>\n",
              "      <th>count</th>\n",
              "      <td>6500.000000</td>\n",
              "      <td>6500.000000</td>\n",
              "      <td>6500.000000</td>\n",
              "      <td>6500.000000</td>\n",
              "      <td>6500.000000</td>\n",
              "      <td>6500.000000</td>\n",
              "      <td>6500.000000</td>\n",
              "    </tr>\n",
              "    <tr>\n",
              "      <th>mean</th>\n",
              "      <td>3249.500000</td>\n",
              "      <td>40.899692</td>\n",
              "      <td>1551.448462</td>\n",
              "      <td>15.660923</td>\n",
              "      <td>2.587846</td>\n",
              "      <td>38.655231</td>\n",
              "      <td>0.551846</td>\n",
              "    </tr>\n",
              "    <tr>\n",
              "      <th>std</th>\n",
              "      <td>1876.532707</td>\n",
              "      <td>11.309033</td>\n",
              "      <td>3235.418262</td>\n",
              "      <td>8.361566</td>\n",
              "      <td>2.790440</td>\n",
              "      <td>93.642546</td>\n",
              "      <td>1.825413</td>\n",
              "    </tr>\n",
              "    <tr>\n",
              "      <th>min</th>\n",
              "      <td>0.000000</td>\n",
              "      <td>18.000000</td>\n",
              "      <td>-3372.000000</td>\n",
              "      <td>1.000000</td>\n",
              "      <td>1.000000</td>\n",
              "      <td>-1.000000</td>\n",
              "      <td>0.000000</td>\n",
              "    </tr>\n",
              "    <tr>\n",
              "      <th>25%</th>\n",
              "      <td>1624.750000</td>\n",
              "      <td>32.000000</td>\n",
              "      <td>104.000000</td>\n",
              "      <td>8.000000</td>\n",
              "      <td>1.000000</td>\n",
              "      <td>-1.000000</td>\n",
              "      <td>0.000000</td>\n",
              "    </tr>\n",
              "    <tr>\n",
              "      <th>50%</th>\n",
              "      <td>3249.500000</td>\n",
              "      <td>39.000000</td>\n",
              "      <td>538.000000</td>\n",
              "      <td>16.000000</td>\n",
              "      <td>2.000000</td>\n",
              "      <td>-1.000000</td>\n",
              "      <td>0.000000</td>\n",
              "    </tr>\n",
              "    <tr>\n",
              "      <th>75%</th>\n",
              "      <td>4874.250000</td>\n",
              "      <td>48.000000</td>\n",
              "      <td>1701.000000</td>\n",
              "      <td>21.000000</td>\n",
              "      <td>3.000000</td>\n",
              "      <td>-1.000000</td>\n",
              "      <td>0.000000</td>\n",
              "    </tr>\n",
              "    <tr>\n",
              "      <th>max</th>\n",
              "      <td>6499.000000</td>\n",
              "      <td>95.000000</td>\n",
              "      <td>81204.000000</td>\n",
              "      <td>31.000000</td>\n",
              "      <td>58.000000</td>\n",
              "      <td>515.000000</td>\n",
              "      <td>58.000000</td>\n",
              "    </tr>\n",
              "  </tbody>\n",
              "</table>\n",
              "</div>"
            ],
            "text/plain": [
              "        Unnamed: 0          age  ...        pdays     previous\n",
              "count  6500.000000  6500.000000  ...  6500.000000  6500.000000\n",
              "mean   3249.500000    40.899692  ...    38.655231     0.551846\n",
              "std    1876.532707    11.309033  ...    93.642546     1.825413\n",
              "min       0.000000    18.000000  ...    -1.000000     0.000000\n",
              "25%    1624.750000    32.000000  ...    -1.000000     0.000000\n",
              "50%    3249.500000    39.000000  ...    -1.000000     0.000000\n",
              "75%    4874.250000    48.000000  ...    -1.000000     0.000000\n",
              "max    6499.000000    95.000000  ...   515.000000    58.000000\n",
              "\n",
              "[8 rows x 7 columns]"
            ]
          },
          "metadata": {
            "tags": []
          },
          "execution_count": 6
        }
      ]
    },
    {
      "cell_type": "code",
      "metadata": {
        "colab": {
          "base_uri": "https://localhost:8080/"
        },
        "id": "sjv7g60tnN6x",
        "outputId": "1c29a2a1-125c-4987-a561-2d5a89055fb3"
      },
      "source": [
        "dados.isnull().sum()"
      ],
      "execution_count": null,
      "outputs": [
        {
          "output_type": "execute_result",
          "data": {
            "text/plain": [
              "Unnamed: 0      0\n",
              "age             0\n",
              "job             0\n",
              "marital         0\n",
              "education       0\n",
              "default         0\n",
              "balance         0\n",
              "housing         0\n",
              "loan            0\n",
              "contact         0\n",
              "day             0\n",
              "month           0\n",
              "campaign        0\n",
              "pdays           0\n",
              "previous        0\n",
              "poutcome        0\n",
              "term_deposit    0\n",
              "dtype: int64"
            ]
          },
          "metadata": {
            "tags": []
          },
          "execution_count": 7
        }
      ]
    },
    {
      "cell_type": "markdown",
      "metadata": {
        "id": "BN_ZLVYdnpdw"
      },
      "source": [
        "Aparentemente nao possui dados faltantes"
      ]
    },
    {
      "cell_type": "markdown",
      "metadata": {
        "id": "Es4PO0VnSHNk"
      },
      "source": [
        "Verificando os valores das colunas default, loan, housing e term_deposit"
      ]
    },
    {
      "cell_type": "code",
      "metadata": {
        "colab": {
          "base_uri": "https://localhost:8080/"
        },
        "id": "mnjMisfmSP-S",
        "outputId": "ee48b53d-1908-4d0f-bab0-3246301a44f6"
      },
      "source": [
        "dados['default'].value_counts()"
      ],
      "execution_count": null,
      "outputs": [
        {
          "output_type": "execute_result",
          "data": {
            "text/plain": [
              "no     6403\n",
              "yes      97\n",
              "Name: default, dtype: int64"
            ]
          },
          "metadata": {
            "tags": []
          },
          "execution_count": 8
        }
      ]
    },
    {
      "cell_type": "code",
      "metadata": {
        "colab": {
          "base_uri": "https://localhost:8080/"
        },
        "id": "bAfYvhpkSYEj",
        "outputId": "1b89c122-e8e5-4b5d-cfbf-8ee01f0645b5"
      },
      "source": [
        "dados['loan'].value_counts()"
      ],
      "execution_count": null,
      "outputs": [
        {
          "output_type": "execute_result",
          "data": {
            "text/plain": [
              "no     5621\n",
              "yes     879\n",
              "Name: loan, dtype: int64"
            ]
          },
          "metadata": {
            "tags": []
          },
          "execution_count": 9
        }
      ]
    },
    {
      "cell_type": "code",
      "metadata": {
        "colab": {
          "base_uri": "https://localhost:8080/"
        },
        "id": "FjgrLaohSfeJ",
        "outputId": "162f13fe-e4a7-4ffd-ff25-adcb5fab1a4c"
      },
      "source": [
        "dados['housing'].value_counts()"
      ],
      "execution_count": null,
      "outputs": [
        {
          "output_type": "execute_result",
          "data": {
            "text/plain": [
              "yes    3253\n",
              "no     3247\n",
              "Name: housing, dtype: int64"
            ]
          },
          "metadata": {
            "tags": []
          },
          "execution_count": 10
        }
      ]
    },
    {
      "cell_type": "code",
      "metadata": {
        "colab": {
          "base_uri": "https://localhost:8080/"
        },
        "id": "I-zkQ29XSjFE",
        "outputId": "775b10ff-003d-42f2-f420-ba8061b16a9d"
      },
      "source": [
        "dados['term_deposit'].value_counts()"
      ],
      "execution_count": null,
      "outputs": [
        {
          "output_type": "execute_result",
          "data": {
            "text/plain": [
              "no     3267\n",
              "yes    3233\n",
              "Name: term_deposit, dtype: int64"
            ]
          },
          "metadata": {
            "tags": []
          },
          "execution_count": 11
        }
      ]
    },
    {
      "cell_type": "markdown",
      "metadata": {
        "id": "QIdgTD_iOvxZ"
      },
      "source": [
        "Dando uma verificada na variavel target... parece estar bem equilibrado a quantidade de sim e nao"
      ]
    },
    {
      "cell_type": "markdown",
      "metadata": {
        "id": "o7xmEdsEjulw"
      },
      "source": [
        "Verificando os valores das coluna: job, marital, education, contact, poutcome"
      ]
    },
    {
      "cell_type": "code",
      "metadata": {
        "colab": {
          "base_uri": "https://localhost:8080/"
        },
        "id": "r3x74VaJjy_O",
        "outputId": "a7c206f9-30db-4da9-ec4c-3000b9da009d"
      },
      "source": [
        "dados['job'].value_counts()"
      ],
      "execution_count": null,
      "outputs": [
        {
          "output_type": "execute_result",
          "data": {
            "text/plain": [
              "management       1473\n",
              "blue-collar      1240\n",
              "technician       1045\n",
              "admin.            748\n",
              "services          579\n",
              "retired           397\n",
              "self-employed     240\n",
              "unemployed        219\n",
              "entrepreneur      188\n",
              "student           171\n",
              "housemaid         162\n",
              "unknown            38\n",
              "Name: job, dtype: int64"
            ]
          },
          "metadata": {
            "tags": []
          },
          "execution_count": 12
        }
      ]
    },
    {
      "cell_type": "code",
      "metadata": {
        "colab": {
          "base_uri": "https://localhost:8080/"
        },
        "id": "PiD6oca4jzod",
        "outputId": "945588ff-7052-48da-bc47-32cb0cc43ca2"
      },
      "source": [
        "dados['marital'].value_counts()"
      ],
      "execution_count": null,
      "outputs": [
        {
          "output_type": "execute_result",
          "data": {
            "text/plain": [
              "married     3686\n",
              "single      2035\n",
              "divorced     779\n",
              "Name: marital, dtype: int64"
            ]
          },
          "metadata": {
            "tags": []
          },
          "execution_count": 13
        }
      ]
    },
    {
      "cell_type": "code",
      "metadata": {
        "colab": {
          "base_uri": "https://localhost:8080/"
        },
        "id": "TAr6_5Pojzw7",
        "outputId": "dd9896ca-3a4a-4c59-908f-6c13b72250ef"
      },
      "source": [
        "dados['education'].value_counts()"
      ],
      "execution_count": null,
      "outputs": [
        {
          "output_type": "execute_result",
          "data": {
            "text/plain": [
              "secondary    3220\n",
              "tertiary     2117\n",
              "primary       893\n",
              "unknown       270\n",
              "Name: education, dtype: int64"
            ]
          },
          "metadata": {
            "tags": []
          },
          "execution_count": 14
        }
      ]
    },
    {
      "cell_type": "code",
      "metadata": {
        "colab": {
          "base_uri": "https://localhost:8080/"
        },
        "id": "doiyOIyLj7X8",
        "outputId": "891efdb1-21a2-4ac9-ade7-44dc64c9730f"
      },
      "source": [
        "dados['contact'].value_counts()"
      ],
      "execution_count": null,
      "outputs": [
        {
          "output_type": "execute_result",
          "data": {
            "text/plain": [
              "cellular     4634\n",
              "unknown      1445\n",
              "telephone     421\n",
              "Name: contact, dtype: int64"
            ]
          },
          "metadata": {
            "tags": []
          },
          "execution_count": 15
        }
      ]
    },
    {
      "cell_type": "code",
      "metadata": {
        "colab": {
          "base_uri": "https://localhost:8080/"
        },
        "id": "KeBT1_XOj-WE",
        "outputId": "90dce448-eaaf-46e1-b488-f5020ce0bd8d"
      },
      "source": [
        "dados['poutcome'].value_counts()"
      ],
      "execution_count": null,
      "outputs": [
        {
          "output_type": "execute_result",
          "data": {
            "text/plain": [
              "unknown    5233\n",
              "failure     650\n",
              "success     369\n",
              "other       248\n",
              "Name: poutcome, dtype: int64"
            ]
          },
          "metadata": {
            "tags": []
          },
          "execution_count": 16
        }
      ]
    },
    {
      "cell_type": "markdown",
      "metadata": {
        "id": "NmxKFZh1kCaq"
      },
      "source": [
        "Muitos dados possuem 'unknown'"
      ]
    },
    {
      "cell_type": "markdown",
      "metadata": {
        "id": "UJS3Ag8hkGjM"
      },
      "source": [
        "Verificando a coluna de mes"
      ]
    },
    {
      "cell_type": "code",
      "metadata": {
        "colab": {
          "base_uri": "https://localhost:8080/"
        },
        "id": "Xyb0zTJgkBRF",
        "outputId": "a7bd137e-8cef-4803-adf0-601f8b2e1516"
      },
      "source": [
        "dados['month'].value_counts()"
      ],
      "execution_count": null,
      "outputs": [
        {
          "output_type": "execute_result",
          "data": {
            "text/plain": [
              "may    1720\n",
              "aug     918\n",
              "jul     889\n",
              "jun     746\n",
              "nov     604\n",
              "apr     578\n",
              "feb     381\n",
              "oct     211\n",
              "jan     137\n",
              "mar     113\n",
              "sep     113\n",
              "dec      90\n",
              "Name: month, dtype: int64"
            ]
          },
          "metadata": {
            "tags": []
          },
          "execution_count": 17
        }
      ]
    },
    {
      "cell_type": "code",
      "metadata": {
        "id": "JIOZe9-VjPsi"
      },
      "source": [
        ""
      ],
      "execution_count": null,
      "outputs": []
    },
    {
      "cell_type": "markdown",
      "metadata": {
        "id": "24xj5NKkkJvI"
      },
      "source": [
        "tem os 12 meses"
      ]
    },
    {
      "cell_type": "markdown",
      "metadata": {
        "id": "1Z75oLUuE-cM"
      },
      "source": [
        "### Respoder as seguintes questoes para heuristica base\n",
        "\n",
        "* relação entre a idade e o term_deposit\n",
        "* relação entre marital e term_deposit\n",
        "* relação loan e term_deposit\n",
        "* relação entre a campanha e o term_deposit"
      ]
    },
    {
      "cell_type": "markdown",
      "metadata": {
        "id": "TJsU8MSHF1NO"
      },
      "source": [
        "#### Testando o Sweetviz"
      ]
    },
    {
      "cell_type": "code",
      "metadata": {
        "colab": {
          "base_uri": "https://localhost:8080/"
        },
        "id": "_r-RLZhTF4fO",
        "outputId": "cc543f95-84d1-42ca-f8f8-4a815952f1d1"
      },
      "source": [
        "!pip install sweetviz"
      ],
      "execution_count": null,
      "outputs": [
        {
          "output_type": "stream",
          "text": [
            "Collecting sweetviz\n",
            "\u001b[?25l  Downloading https://files.pythonhosted.org/packages/6c/ab/5ef84ee47e5344e9a23d69e0b52c11aba9d8be658d4e85c3c52d4e7d9130/sweetviz-2.1.0-py3-none-any.whl (15.1MB)\n",
            "\u001b[K     |████████████████████████████████| 15.1MB 264kB/s \n",
            "\u001b[?25hRequirement already satisfied: numpy>=1.16.0 in /usr/local/lib/python3.7/dist-packages (from sweetviz) (1.19.5)\n",
            "Requirement already satisfied: pandas!=1.0.0,!=1.0.1,!=1.0.2,>=0.25.3 in /usr/local/lib/python3.7/dist-packages (from sweetviz) (1.1.5)\n",
            "Requirement already satisfied: jinja2>=2.11.1 in /usr/local/lib/python3.7/dist-packages (from sweetviz) (2.11.3)\n",
            "Requirement already satisfied: importlib-resources>=1.2.0 in /usr/local/lib/python3.7/dist-packages (from sweetviz) (5.1.2)\n",
            "Requirement already satisfied: scipy>=1.3.2 in /usr/local/lib/python3.7/dist-packages (from sweetviz) (1.4.1)\n",
            "Collecting tqdm>=4.43.0\n",
            "\u001b[?25l  Downloading https://files.pythonhosted.org/packages/72/8a/34efae5cf9924328a8f34eeb2fdaae14c011462d9f0e3fcded48e1266d1c/tqdm-4.60.0-py2.py3-none-any.whl (75kB)\n",
            "\u001b[K     |████████████████████████████████| 81kB 8.2MB/s \n",
            "\u001b[?25hRequirement already satisfied: matplotlib>=3.1.3 in /usr/local/lib/python3.7/dist-packages (from sweetviz) (3.2.2)\n",
            "Requirement already satisfied: pytz>=2017.2 in /usr/local/lib/python3.7/dist-packages (from pandas!=1.0.0,!=1.0.1,!=1.0.2,>=0.25.3->sweetviz) (2018.9)\n",
            "Requirement already satisfied: python-dateutil>=2.7.3 in /usr/local/lib/python3.7/dist-packages (from pandas!=1.0.0,!=1.0.1,!=1.0.2,>=0.25.3->sweetviz) (2.8.1)\n",
            "Requirement already satisfied: MarkupSafe>=0.23 in /usr/local/lib/python3.7/dist-packages (from jinja2>=2.11.1->sweetviz) (1.1.1)\n",
            "Requirement already satisfied: zipp>=0.4; python_version < \"3.8\" in /usr/local/lib/python3.7/dist-packages (from importlib-resources>=1.2.0->sweetviz) (3.4.1)\n",
            "Requirement already satisfied: cycler>=0.10 in /usr/local/lib/python3.7/dist-packages (from matplotlib>=3.1.3->sweetviz) (0.10.0)\n",
            "Requirement already satisfied: pyparsing!=2.0.4,!=2.1.2,!=2.1.6,>=2.0.1 in /usr/local/lib/python3.7/dist-packages (from matplotlib>=3.1.3->sweetviz) (2.4.7)\n",
            "Requirement already satisfied: kiwisolver>=1.0.1 in /usr/local/lib/python3.7/dist-packages (from matplotlib>=3.1.3->sweetviz) (1.3.1)\n",
            "Requirement already satisfied: six>=1.5 in /usr/local/lib/python3.7/dist-packages (from python-dateutil>=2.7.3->pandas!=1.0.0,!=1.0.1,!=1.0.2,>=0.25.3->sweetviz) (1.15.0)\n",
            "Installing collected packages: tqdm, sweetviz\n",
            "  Found existing installation: tqdm 4.41.1\n",
            "    Uninstalling tqdm-4.41.1:\n",
            "      Successfully uninstalled tqdm-4.41.1\n",
            "Successfully installed sweetviz-2.1.0 tqdm-4.60.0\n"
          ],
          "name": "stdout"
        }
      ]
    },
    {
      "cell_type": "code",
      "metadata": {
        "id": "8SJ4RhEqILk5"
      },
      "source": [
        "import sweetviz"
      ],
      "execution_count": null,
      "outputs": []
    },
    {
      "cell_type": "code",
      "metadata": {
        "colab": {
          "base_uri": "https://localhost:8080/",
          "height": 175
        },
        "id": "4stccsiSLRQj",
        "outputId": "c466ac5f-006c-437e-b074-907bef6efe5d"
      },
      "source": [
        "dados.head(3)"
      ],
      "execution_count": null,
      "outputs": [
        {
          "output_type": "execute_result",
          "data": {
            "text/html": [
              "<div>\n",
              "<style scoped>\n",
              "    .dataframe tbody tr th:only-of-type {\n",
              "        vertical-align: middle;\n",
              "    }\n",
              "\n",
              "    .dataframe tbody tr th {\n",
              "        vertical-align: top;\n",
              "    }\n",
              "\n",
              "    .dataframe thead th {\n",
              "        text-align: right;\n",
              "    }\n",
              "</style>\n",
              "<table border=\"1\" class=\"dataframe\">\n",
              "  <thead>\n",
              "    <tr style=\"text-align: right;\">\n",
              "      <th></th>\n",
              "      <th>Unnamed: 0</th>\n",
              "      <th>age</th>\n",
              "      <th>job</th>\n",
              "      <th>marital</th>\n",
              "      <th>education</th>\n",
              "      <th>default</th>\n",
              "      <th>balance</th>\n",
              "      <th>housing</th>\n",
              "      <th>loan</th>\n",
              "      <th>contact</th>\n",
              "      <th>day</th>\n",
              "      <th>month</th>\n",
              "      <th>campaign</th>\n",
              "      <th>pdays</th>\n",
              "      <th>previous</th>\n",
              "      <th>poutcome</th>\n",
              "      <th>term_deposit</th>\n",
              "    </tr>\n",
              "  </thead>\n",
              "  <tbody>\n",
              "    <tr>\n",
              "      <th>0</th>\n",
              "      <td>0</td>\n",
              "      <td>46</td>\n",
              "      <td>management</td>\n",
              "      <td>divorced</td>\n",
              "      <td>tertiary</td>\n",
              "      <td>no</td>\n",
              "      <td>14481</td>\n",
              "      <td>yes</td>\n",
              "      <td>no</td>\n",
              "      <td>unknown</td>\n",
              "      <td>30</td>\n",
              "      <td>may</td>\n",
              "      <td>1</td>\n",
              "      <td>-1</td>\n",
              "      <td>0</td>\n",
              "      <td>unknown</td>\n",
              "      <td>yes</td>\n",
              "    </tr>\n",
              "    <tr>\n",
              "      <th>1</th>\n",
              "      <td>1</td>\n",
              "      <td>37</td>\n",
              "      <td>management</td>\n",
              "      <td>single</td>\n",
              "      <td>tertiary</td>\n",
              "      <td>no</td>\n",
              "      <td>457</td>\n",
              "      <td>yes</td>\n",
              "      <td>no</td>\n",
              "      <td>cellular</td>\n",
              "      <td>1</td>\n",
              "      <td>apr</td>\n",
              "      <td>3</td>\n",
              "      <td>-1</td>\n",
              "      <td>0</td>\n",
              "      <td>unknown</td>\n",
              "      <td>no</td>\n",
              "    </tr>\n",
              "    <tr>\n",
              "      <th>2</th>\n",
              "      <td>2</td>\n",
              "      <td>34</td>\n",
              "      <td>blue-collar</td>\n",
              "      <td>single</td>\n",
              "      <td>secondary</td>\n",
              "      <td>no</td>\n",
              "      <td>1698</td>\n",
              "      <td>yes</td>\n",
              "      <td>no</td>\n",
              "      <td>unknown</td>\n",
              "      <td>27</td>\n",
              "      <td>may</td>\n",
              "      <td>7</td>\n",
              "      <td>-1</td>\n",
              "      <td>0</td>\n",
              "      <td>unknown</td>\n",
              "      <td>no</td>\n",
              "    </tr>\n",
              "  </tbody>\n",
              "</table>\n",
              "</div>"
            ],
            "text/plain": [
              "   Unnamed: 0  age          job  ... previous poutcome term_deposit\n",
              "0           0   46   management  ...        0  unknown          yes\n",
              "1           1   37   management  ...        0  unknown           no\n",
              "2           2   34  blue-collar  ...        0  unknown           no\n",
              "\n",
              "[3 rows x 17 columns]"
            ]
          },
          "metadata": {
            "tags": []
          },
          "execution_count": 9
        }
      ]
    },
    {
      "cell_type": "code",
      "metadata": {
        "colab": {
          "base_uri": "https://localhost:8080/",
          "height": 86,
          "referenced_widgets": [
            "b297d4e2ea2a498f8ce2f0c29cef4355",
            "46e610952f3d465189004400b5a0670b",
            "6c6fc912882a4ca5939a2a4d8fb5d9ba",
            "93e5dd79fd6546abad8a70613873cd65",
            "072e4b84e43f456697dc1c9bdeb7a5a3",
            "f5725439bb814eb79dd3921120cf7d27",
            "a8349116197c4b5f95e4715a3293bf64",
            "cc3ecfb8573e4886a692e4fa31419a07",
            "25a247dc4ae74c8f9f8d3bb92f05b163",
            "5a6b7f166b5d4f428ddf8fcaff9f888e",
            "c1e071a31ffc4006b55ae5e173260f79"
          ]
        },
        "id": "81z08UzcIQsS",
        "outputId": "a8a0521a-d890-4c45-91ff-34aa6ddeb8cf"
      },
      "source": [
        "eda_dados = sweetviz.analyze(dados)\n",
        "eda_dados.show_html() "
      ],
      "execution_count": null,
      "outputs": [
        {
          "output_type": "display_data",
          "data": {
            "application/vnd.jupyter.widget-view+json": {
              "model_id": "b297d4e2ea2a498f8ce2f0c29cef4355",
              "version_minor": 0,
              "version_major": 2
            },
            "text/plain": [
              "                                             |          | [  0%]   00:00 -> (? left)"
            ]
          },
          "metadata": {
            "tags": []
          }
        },
        {
          "output_type": "stream",
          "text": [
            "Report SWEETVIZ_REPORT.html was generated! NOTEBOOK/COLAB USERS: the web browser MAY not pop up, regardless, the report IS saved in your notebook/colab files.\n"
          ],
          "name": "stdout"
        }
      ]
    },
    {
      "cell_type": "code",
      "metadata": {
        "colab": {
          "base_uri": "https://localhost:8080/"
        },
        "id": "X8zdCm29RCNo",
        "outputId": "aa5ee86c-485a-4b00-ac96-cfb060c0f387"
      },
      "source": [
        "dados['term_deposit'] == 'no'"
      ],
      "execution_count": null,
      "outputs": [
        {
          "output_type": "execute_result",
          "data": {
            "text/plain": [
              "0       False\n",
              "1        True\n",
              "2        True\n",
              "3        True\n",
              "4       False\n",
              "        ...  \n",
              "6495    False\n",
              "6496     True\n",
              "6497     True\n",
              "6498    False\n",
              "6499    False\n",
              "Name: term_deposit, Length: 6500, dtype: bool"
            ]
          },
          "metadata": {
            "tags": []
          },
          "execution_count": 12
        }
      ]
    },
    {
      "cell_type": "code",
      "metadata": {
        "id": "OZYoEUwPKfky"
      },
      "source": [
        "eda2 = sweetviz.compare_intra(dados, dados['term_deposit'] == 'yes', ['Usuarios', 'Deposito'])\n",
        "eda2.show_html()"
      ],
      "execution_count": null,
      "outputs": []
    },
    {
      "cell_type": "markdown",
      "metadata": {
        "id": "8gwEjosLFXV2"
      },
      "source": [
        "Testando uma heusritica base: \"toda pessoa que esta inadimplente nao faz o deposito, toda pessoa que paga em dia faz o deposito\""
      ]
    },
    {
      "cell_type": "code",
      "metadata": {
        "id": "_dvlPONiFGid"
      },
      "source": [
        "teste1 = dados['default'].map({'no':0, 'yes':1})\n",
        "teste1"
      ],
      "execution_count": null,
      "outputs": []
    },
    {
      "cell_type": "code",
      "metadata": {
        "id": "vMP6w-iuSYbK"
      },
      "source": [
        "term_dep = dados['term_deposit'].map({'no':0, 'yes':1})"
      ],
      "execution_count": null,
      "outputs": []
    },
    {
      "cell_type": "code",
      "metadata": {
        "colab": {
          "base_uri": "https://localhost:8080/"
        },
        "id": "s88xLHqtR7Tg",
        "outputId": "c7da2f41-9184-47ac-a443-df797aa3ef87"
      },
      "source": [
        "#acuracia da heuristica\n",
        "(teste1 == term_dep).mean()"
      ],
      "execution_count": null,
      "outputs": [
        {
          "output_type": "execute_result",
          "data": {
            "text/plain": [
              "0.49876923076923074"
            ]
          },
          "metadata": {
            "tags": []
          },
          "execution_count": 20
        }
      ]
    },
    {
      "cell_type": "markdown",
      "metadata": {
        "id": "rAWekK3BjmZY"
      },
      "source": [
        "## Tratamento dos dados"
      ]
    },
    {
      "cell_type": "markdown",
      "metadata": {
        "id": "AGmMCCOkSopJ"
      },
      "source": [
        "Transformando as colunas object para category"
      ]
    },
    {
      "cell_type": "code",
      "metadata": {
        "id": "BoSTN4lXV7MX"
      },
      "source": [
        "#Transforma as object em category\n",
        "for i in dados.columns[dados.dtypes == object]: # df.dtypes == 'object'\n",
        "    dados[i] = dados[i].astype('category')"
      ],
      "execution_count": null,
      "outputs": []
    },
    {
      "cell_type": "code",
      "metadata": {
        "id": "J70buXcKSnZ1",
        "colab": {
          "base_uri": "https://localhost:8080/"
        },
        "outputId": "aff7ff73-caa1-4667-966c-2973c9bf14b6"
      },
      "source": [
        "dados.info()"
      ],
      "execution_count": null,
      "outputs": [
        {
          "output_type": "stream",
          "text": [
            "<class 'pandas.core.frame.DataFrame'>\n",
            "RangeIndex: 6500 entries, 0 to 6499\n",
            "Data columns (total 17 columns):\n",
            " #   Column        Non-Null Count  Dtype   \n",
            "---  ------        --------------  -----   \n",
            " 0   Unnamed: 0    6500 non-null   int64   \n",
            " 1   age           6500 non-null   int64   \n",
            " 2   job           6500 non-null   category\n",
            " 3   marital       6500 non-null   category\n",
            " 4   education     6500 non-null   category\n",
            " 5   default       6500 non-null   category\n",
            " 6   balance       6500 non-null   int64   \n",
            " 7   housing       6500 non-null   category\n",
            " 8   loan          6500 non-null   category\n",
            " 9   contact       6500 non-null   category\n",
            " 10  day           6500 non-null   int64   \n",
            " 11  month         6500 non-null   category\n",
            " 12  campaign      6500 non-null   int64   \n",
            " 13  pdays         6500 non-null   int64   \n",
            " 14  previous      6500 non-null   int64   \n",
            " 15  poutcome      6500 non-null   category\n",
            " 16  term_deposit  6500 non-null   category\n",
            "dtypes: category(10), int64(7)\n",
            "memory usage: 420.8 KB\n"
          ],
          "name": "stdout"
        }
      ]
    },
    {
      "cell_type": "markdown",
      "metadata": {
        "id": "iHb4J9FaZM9-"
      },
      "source": [
        "Transformando as variaveis categoricas em numericas (no = 0 e yes = 1) das colunas default, loan, housing e term_deposit"
      ]
    },
    {
      "cell_type": "code",
      "metadata": {
        "id": "F6L4vxBRYuWh"
      },
      "source": [
        "#pega somente essas colunas e transfoma pra 0 e 1\n",
        "lista = ['default', 'loan', 'housing','term_deposit']\n",
        "\n",
        "for i in lista:\n",
        "  dados[i] = dados[i].cat.codes"
      ],
      "execution_count": null,
      "outputs": []
    },
    {
      "cell_type": "code",
      "metadata": {
        "colab": {
          "base_uri": "https://localhost:8080/",
          "height": 408
        },
        "id": "tV-rlvl4YpSg",
        "outputId": "53fe57c5-0463-4415-a86e-ec7228e35ffd"
      },
      "source": [
        "dados[lista]"
      ],
      "execution_count": null,
      "outputs": [
        {
          "output_type": "execute_result",
          "data": {
            "text/html": [
              "<div>\n",
              "<style scoped>\n",
              "    .dataframe tbody tr th:only-of-type {\n",
              "        vertical-align: middle;\n",
              "    }\n",
              "\n",
              "    .dataframe tbody tr th {\n",
              "        vertical-align: top;\n",
              "    }\n",
              "\n",
              "    .dataframe thead th {\n",
              "        text-align: right;\n",
              "    }\n",
              "</style>\n",
              "<table border=\"1\" class=\"dataframe\">\n",
              "  <thead>\n",
              "    <tr style=\"text-align: right;\">\n",
              "      <th></th>\n",
              "      <th>default</th>\n",
              "      <th>loan</th>\n",
              "      <th>housing</th>\n",
              "      <th>term_deposit</th>\n",
              "    </tr>\n",
              "  </thead>\n",
              "  <tbody>\n",
              "    <tr>\n",
              "      <th>0</th>\n",
              "      <td>0</td>\n",
              "      <td>0</td>\n",
              "      <td>1</td>\n",
              "      <td>1</td>\n",
              "    </tr>\n",
              "    <tr>\n",
              "      <th>1</th>\n",
              "      <td>0</td>\n",
              "      <td>0</td>\n",
              "      <td>1</td>\n",
              "      <td>0</td>\n",
              "    </tr>\n",
              "    <tr>\n",
              "      <th>2</th>\n",
              "      <td>0</td>\n",
              "      <td>0</td>\n",
              "      <td>1</td>\n",
              "      <td>0</td>\n",
              "    </tr>\n",
              "    <tr>\n",
              "      <th>3</th>\n",
              "      <td>0</td>\n",
              "      <td>0</td>\n",
              "      <td>0</td>\n",
              "      <td>0</td>\n",
              "    </tr>\n",
              "    <tr>\n",
              "      <th>4</th>\n",
              "      <td>0</td>\n",
              "      <td>0</td>\n",
              "      <td>0</td>\n",
              "      <td>1</td>\n",
              "    </tr>\n",
              "    <tr>\n",
              "      <th>...</th>\n",
              "      <td>...</td>\n",
              "      <td>...</td>\n",
              "      <td>...</td>\n",
              "      <td>...</td>\n",
              "    </tr>\n",
              "    <tr>\n",
              "      <th>6495</th>\n",
              "      <td>0</td>\n",
              "      <td>0</td>\n",
              "      <td>1</td>\n",
              "      <td>1</td>\n",
              "    </tr>\n",
              "    <tr>\n",
              "      <th>6496</th>\n",
              "      <td>0</td>\n",
              "      <td>0</td>\n",
              "      <td>0</td>\n",
              "      <td>0</td>\n",
              "    </tr>\n",
              "    <tr>\n",
              "      <th>6497</th>\n",
              "      <td>0</td>\n",
              "      <td>0</td>\n",
              "      <td>0</td>\n",
              "      <td>0</td>\n",
              "    </tr>\n",
              "    <tr>\n",
              "      <th>6498</th>\n",
              "      <td>0</td>\n",
              "      <td>0</td>\n",
              "      <td>0</td>\n",
              "      <td>1</td>\n",
              "    </tr>\n",
              "    <tr>\n",
              "      <th>6499</th>\n",
              "      <td>0</td>\n",
              "      <td>0</td>\n",
              "      <td>1</td>\n",
              "      <td>1</td>\n",
              "    </tr>\n",
              "  </tbody>\n",
              "</table>\n",
              "<p>6500 rows × 4 columns</p>\n",
              "</div>"
            ],
            "text/plain": [
              "      default  loan  housing  term_deposit\n",
              "0           0     0        1             1\n",
              "1           0     0        1             0\n",
              "2           0     0        1             0\n",
              "3           0     0        0             0\n",
              "4           0     0        0             1\n",
              "...       ...   ...      ...           ...\n",
              "6495        0     0        1             1\n",
              "6496        0     0        0             0\n",
              "6497        0     0        0             0\n",
              "6498        0     0        0             1\n",
              "6499        0     0        1             1\n",
              "\n",
              "[6500 rows x 4 columns]"
            ]
          },
          "metadata": {
            "tags": []
          },
          "execution_count": 21
        }
      ]
    },
    {
      "cell_type": "markdown",
      "metadata": {
        "id": "hoPedyJYYY_m"
      },
      "source": [
        "Ordenando education para primary, secondray, tertiary e unknown"
      ]
    },
    {
      "cell_type": "code",
      "metadata": {
        "id": "UMgZn0BTYg1O"
      },
      "source": [
        "#reordenando\n",
        "dados.education = dados.education.cat.reorder_categories(['primary', 'secondary', 'tertiary', 'unknown'], ordered=True)"
      ],
      "execution_count": null,
      "outputs": []
    },
    {
      "cell_type": "markdown",
      "metadata": {
        "id": "7xP5OHh9Y7-Y"
      },
      "source": [
        "Transformando as variaveis job, marital, contact e poutcome em numeros"
      ]
    },
    {
      "cell_type": "code",
      "metadata": {
        "colab": {
          "base_uri": "https://localhost:8080/"
        },
        "id": "gOgIeGuXZr6U",
        "outputId": "122f0c32-1463-47aa-8f9e-f93c208322d9"
      },
      "source": [
        "dados.info()"
      ],
      "execution_count": null,
      "outputs": [
        {
          "output_type": "stream",
          "text": [
            "<class 'pandas.core.frame.DataFrame'>\n",
            "RangeIndex: 6500 entries, 0 to 6499\n",
            "Data columns (total 17 columns):\n",
            " #   Column        Non-Null Count  Dtype   \n",
            "---  ------        --------------  -----   \n",
            " 0   Unnamed: 0    6500 non-null   int64   \n",
            " 1   age           6500 non-null   int64   \n",
            " 2   job           6500 non-null   category\n",
            " 3   marital       6500 non-null   category\n",
            " 4   education     6500 non-null   category\n",
            " 5   default       6500 non-null   int8    \n",
            " 6   balance       6500 non-null   int64   \n",
            " 7   housing       6500 non-null   int8    \n",
            " 8   loan          6500 non-null   int8    \n",
            " 9   contact       6500 non-null   category\n",
            " 10  day           6500 non-null   int64   \n",
            " 11  month         6500 non-null   category\n",
            " 12  campaign      6500 non-null   int64   \n",
            " 13  pdays         6500 non-null   int64   \n",
            " 14  previous      6500 non-null   int64   \n",
            " 15  poutcome      6500 non-null   category\n",
            " 16  term_deposit  6500 non-null   int8    \n",
            "dtypes: category(6), int64(7), int8(4)\n",
            "memory usage: 420.5 KB\n"
          ],
          "name": "stdout"
        }
      ]
    },
    {
      "cell_type": "code",
      "metadata": {
        "id": "11wMZ0ACZBw2"
      },
      "source": [
        "#pega somente essas colunas e transfoma para numeros\n",
        "lista = ['job', 'marital',  'education', 'contact','poutcome', 'month']\n",
        "\n",
        "for i in lista:\n",
        "  dados[i] = dados[i].cat.codes"
      ],
      "execution_count": null,
      "outputs": []
    },
    {
      "cell_type": "code",
      "metadata": {
        "colab": {
          "base_uri": "https://localhost:8080/"
        },
        "id": "DAzODeILZ5Vp",
        "outputId": "755f978f-23f6-41c3-b434-c8085aed29cd"
      },
      "source": [
        "dados.info()"
      ],
      "execution_count": null,
      "outputs": [
        {
          "output_type": "stream",
          "text": [
            "<class 'pandas.core.frame.DataFrame'>\n",
            "RangeIndex: 6500 entries, 0 to 6499\n",
            "Data columns (total 17 columns):\n",
            " #   Column        Non-Null Count  Dtype\n",
            "---  ------        --------------  -----\n",
            " 0   Unnamed: 0    6500 non-null   int64\n",
            " 1   age           6500 non-null   int64\n",
            " 2   job           6500 non-null   int8 \n",
            " 3   marital       6500 non-null   int8 \n",
            " 4   education     6500 non-null   int8 \n",
            " 5   default       6500 non-null   int8 \n",
            " 6   balance       6500 non-null   int64\n",
            " 7   housing       6500 non-null   int8 \n",
            " 8   loan          6500 non-null   int8 \n",
            " 9   contact       6500 non-null   int8 \n",
            " 10  day           6500 non-null   int64\n",
            " 11  month         6500 non-null   int8 \n",
            " 12  campaign      6500 non-null   int64\n",
            " 13  pdays         6500 non-null   int64\n",
            " 14  previous      6500 non-null   int64\n",
            " 15  poutcome      6500 non-null   int8 \n",
            " 16  term_deposit  6500 non-null   int8 \n",
            "dtypes: int64(7), int8(10)\n",
            "memory usage: 419.1 KB\n"
          ],
          "name": "stdout"
        }
      ]
    },
    {
      "cell_type": "markdown",
      "metadata": {
        "id": "iYvdg5cnmJNC"
      },
      "source": [
        "Tranformando as variaveis continuas /normalizando as variaveis"
      ]
    },
    {
      "cell_type": "code",
      "metadata": {
        "id": "iFOptbaBPkl-"
      },
      "source": [
        "from sklearn.preprocessing import StandardScaler\n",
        "sc = StandardScaler()"
      ],
      "execution_count": null,
      "outputs": []
    },
    {
      "cell_type": "markdown",
      "metadata": {
        "id": "-z2aEWY1iS0i"
      },
      "source": [
        ""
      ]
    },
    {
      "cell_type": "code",
      "metadata": {
        "id": "LnweGfibQwU5"
      },
      "source": [
        "dados_norm = sc.fit_transform(dados[['age', 'balance','day', 'campaign' , 'pdays', 'previous']]) #tranformando\n",
        "dados_norm_df = pd.DataFrame(dados_norm, columns = ['age_n', 'balance_n', 'day_n', 'campaign_n' , 'pdays_n', 'previous_n']) #montando dataframe\n",
        "dados = pd.concat([dados, dados_norm_df], axis = 1) #cocatenando com a base original\n"
      ],
      "execution_count": null,
      "outputs": []
    },
    {
      "cell_type": "code",
      "metadata": {
        "colab": {
          "base_uri": "https://localhost:8080/",
          "height": 236
        },
        "id": "ERhMOSIXTsPH",
        "outputId": "da777260-f551-4ae6-b62a-836f58e12c02"
      },
      "source": [
        "dados.sample(5)"
      ],
      "execution_count": null,
      "outputs": [
        {
          "output_type": "execute_result",
          "data": {
            "text/html": [
              "<div>\n",
              "<style scoped>\n",
              "    .dataframe tbody tr th:only-of-type {\n",
              "        vertical-align: middle;\n",
              "    }\n",
              "\n",
              "    .dataframe tbody tr th {\n",
              "        vertical-align: top;\n",
              "    }\n",
              "\n",
              "    .dataframe thead th {\n",
              "        text-align: right;\n",
              "    }\n",
              "</style>\n",
              "<table border=\"1\" class=\"dataframe\">\n",
              "  <thead>\n",
              "    <tr style=\"text-align: right;\">\n",
              "      <th></th>\n",
              "      <th>Unnamed: 0</th>\n",
              "      <th>age</th>\n",
              "      <th>job</th>\n",
              "      <th>marital</th>\n",
              "      <th>education</th>\n",
              "      <th>default</th>\n",
              "      <th>balance</th>\n",
              "      <th>housing</th>\n",
              "      <th>loan</th>\n",
              "      <th>contact</th>\n",
              "      <th>day</th>\n",
              "      <th>month</th>\n",
              "      <th>campaign</th>\n",
              "      <th>pdays</th>\n",
              "      <th>previous</th>\n",
              "      <th>poutcome</th>\n",
              "      <th>term_deposit</th>\n",
              "      <th>age_n</th>\n",
              "      <th>balance_n</th>\n",
              "      <th>day_n</th>\n",
              "      <th>campaign_n</th>\n",
              "      <th>pdays_n</th>\n",
              "      <th>previous_n</th>\n",
              "    </tr>\n",
              "  </thead>\n",
              "  <tbody>\n",
              "    <tr>\n",
              "      <th>1220</th>\n",
              "      <td>1220</td>\n",
              "      <td>50</td>\n",
              "      <td>4</td>\n",
              "      <td>2</td>\n",
              "      <td>2</td>\n",
              "      <td>0</td>\n",
              "      <td>490</td>\n",
              "      <td>0</td>\n",
              "      <td>0</td>\n",
              "      <td>0</td>\n",
              "      <td>14</td>\n",
              "      <td>1</td>\n",
              "      <td>5</td>\n",
              "      <td>-1</td>\n",
              "      <td>0</td>\n",
              "      <td>3</td>\n",
              "      <td>0</td>\n",
              "      <td>0.804756</td>\n",
              "      <td>-0.328097</td>\n",
              "      <td>-0.198653</td>\n",
              "      <td>0.864501</td>\n",
              "      <td>-0.423507</td>\n",
              "      <td>-0.302336</td>\n",
              "    </tr>\n",
              "    <tr>\n",
              "      <th>3350</th>\n",
              "      <td>3350</td>\n",
              "      <td>35</td>\n",
              "      <td>0</td>\n",
              "      <td>1</td>\n",
              "      <td>1</td>\n",
              "      <td>0</td>\n",
              "      <td>-85</td>\n",
              "      <td>0</td>\n",
              "      <td>0</td>\n",
              "      <td>0</td>\n",
              "      <td>2</td>\n",
              "      <td>7</td>\n",
              "      <td>6</td>\n",
              "      <td>-1</td>\n",
              "      <td>0</td>\n",
              "      <td>3</td>\n",
              "      <td>0</td>\n",
              "      <td>-0.521720</td>\n",
              "      <td>-0.505831</td>\n",
              "      <td>-1.633901</td>\n",
              "      <td>1.222895</td>\n",
              "      <td>-0.423507</td>\n",
              "      <td>-0.302336</td>\n",
              "    </tr>\n",
              "    <tr>\n",
              "      <th>2359</th>\n",
              "      <td>2359</td>\n",
              "      <td>33</td>\n",
              "      <td>4</td>\n",
              "      <td>1</td>\n",
              "      <td>2</td>\n",
              "      <td>0</td>\n",
              "      <td>0</td>\n",
              "      <td>0</td>\n",
              "      <td>0</td>\n",
              "      <td>0</td>\n",
              "      <td>27</td>\n",
              "      <td>1</td>\n",
              "      <td>4</td>\n",
              "      <td>-1</td>\n",
              "      <td>0</td>\n",
              "      <td>3</td>\n",
              "      <td>0</td>\n",
              "      <td>-0.698583</td>\n",
              "      <td>-0.479557</td>\n",
              "      <td>1.356199</td>\n",
              "      <td>0.506107</td>\n",
              "      <td>-0.423507</td>\n",
              "      <td>-0.302336</td>\n",
              "    </tr>\n",
              "    <tr>\n",
              "      <th>4527</th>\n",
              "      <td>4527</td>\n",
              "      <td>35</td>\n",
              "      <td>1</td>\n",
              "      <td>1</td>\n",
              "      <td>1</td>\n",
              "      <td>0</td>\n",
              "      <td>1388</td>\n",
              "      <td>1</td>\n",
              "      <td>0</td>\n",
              "      <td>2</td>\n",
              "      <td>28</td>\n",
              "      <td>8</td>\n",
              "      <td>5</td>\n",
              "      <td>-1</td>\n",
              "      <td>0</td>\n",
              "      <td>3</td>\n",
              "      <td>0</td>\n",
              "      <td>-0.521720</td>\n",
              "      <td>-0.050522</td>\n",
              "      <td>1.475803</td>\n",
              "      <td>0.864501</td>\n",
              "      <td>-0.423507</td>\n",
              "      <td>-0.302336</td>\n",
              "    </tr>\n",
              "    <tr>\n",
              "      <th>3027</th>\n",
              "      <td>3027</td>\n",
              "      <td>35</td>\n",
              "      <td>1</td>\n",
              "      <td>1</td>\n",
              "      <td>1</td>\n",
              "      <td>0</td>\n",
              "      <td>0</td>\n",
              "      <td>1</td>\n",
              "      <td>1</td>\n",
              "      <td>2</td>\n",
              "      <td>29</td>\n",
              "      <td>8</td>\n",
              "      <td>1</td>\n",
              "      <td>-1</td>\n",
              "      <td>0</td>\n",
              "      <td>3</td>\n",
              "      <td>1</td>\n",
              "      <td>-0.521720</td>\n",
              "      <td>-0.479557</td>\n",
              "      <td>1.595407</td>\n",
              "      <td>-0.569074</td>\n",
              "      <td>-0.423507</td>\n",
              "      <td>-0.302336</td>\n",
              "    </tr>\n",
              "  </tbody>\n",
              "</table>\n",
              "</div>"
            ],
            "text/plain": [
              "      Unnamed: 0  age  job  marital  ...     day_n  campaign_n   pdays_n  previous_n\n",
              "1220        1220   50    4        2  ... -0.198653    0.864501 -0.423507   -0.302336\n",
              "3350        3350   35    0        1  ... -1.633901    1.222895 -0.423507   -0.302336\n",
              "2359        2359   33    4        1  ...  1.356199    0.506107 -0.423507   -0.302336\n",
              "4527        4527   35    1        1  ...  1.475803    0.864501 -0.423507   -0.302336\n",
              "3027        3027   35    1        1  ...  1.595407   -0.569074 -0.423507   -0.302336\n",
              "\n",
              "[5 rows x 23 columns]"
            ]
          },
          "metadata": {
            "tags": []
          },
          "execution_count": 28
        }
      ]
    },
    {
      "cell_type": "markdown",
      "metadata": {
        "id": "QfSMXyDDlvTc"
      },
      "source": [
        "Dropando variaveis"
      ]
    },
    {
      "cell_type": "code",
      "metadata": {
        "colab": {
          "base_uri": "https://localhost:8080/"
        },
        "id": "IgUmXQloLhM-",
        "outputId": "b717132a-3164-4f7a-8988-09c63e573961"
      },
      "source": [
        "dados.columns"
      ],
      "execution_count": null,
      "outputs": [
        {
          "output_type": "execute_result",
          "data": {
            "text/plain": [
              "Index(['Unnamed: 0', 'age', 'job', 'marital', 'education', 'default',\n",
              "       'balance', 'housing', 'loan', 'contact', 'day', 'month', 'campaign',\n",
              "       'pdays', 'previous', 'poutcome', 'term_deposit', 'age_n', 'balance_n',\n",
              "       'day_n', 'campaign_n', 'pdays_n', 'previous_n'],\n",
              "      dtype='object')"
            ]
          },
          "metadata": {
            "tags": []
          },
          "execution_count": 29
        }
      ]
    },
    {
      "cell_type": "code",
      "metadata": {
        "id": "kIrUA0192-gC"
      },
      "source": [
        "#dados.drop(['Unnamed: 0'], axis = 1, inplace = True)"
      ],
      "execution_count": null,
      "outputs": []
    },
    {
      "cell_type": "code",
      "metadata": {
        "id": "1tjpDhLnl0qS"
      },
      "source": [
        "dados.drop(['Unnamed: 0','age', 'balance', 'campaign', 'pdays', 'previous'], axis = 1, inplace = True) # removendo as colunas que nao estao tranformadas\n"
      ],
      "execution_count": null,
      "outputs": []
    },
    {
      "cell_type": "markdown",
      "metadata": {
        "id": "WlGisxKYZV9x"
      },
      "source": [
        "Verificando a base apos as transformacoes"
      ]
    },
    {
      "cell_type": "code",
      "metadata": {
        "colab": {
          "base_uri": "https://localhost:8080/",
          "height": 218
        },
        "id": "0JWzDg_3SuKg",
        "outputId": "a1a8537d-2102-466f-c94f-c45601e7f141"
      },
      "source": [
        "dados.sample(5)"
      ],
      "execution_count": null,
      "outputs": [
        {
          "output_type": "execute_result",
          "data": {
            "text/html": [
              "<div>\n",
              "<style scoped>\n",
              "    .dataframe tbody tr th:only-of-type {\n",
              "        vertical-align: middle;\n",
              "    }\n",
              "\n",
              "    .dataframe tbody tr th {\n",
              "        vertical-align: top;\n",
              "    }\n",
              "\n",
              "    .dataframe thead th {\n",
              "        text-align: right;\n",
              "    }\n",
              "</style>\n",
              "<table border=\"1\" class=\"dataframe\">\n",
              "  <thead>\n",
              "    <tr style=\"text-align: right;\">\n",
              "      <th></th>\n",
              "      <th>job</th>\n",
              "      <th>marital</th>\n",
              "      <th>education</th>\n",
              "      <th>default</th>\n",
              "      <th>housing</th>\n",
              "      <th>loan</th>\n",
              "      <th>contact</th>\n",
              "      <th>day</th>\n",
              "      <th>month</th>\n",
              "      <th>poutcome</th>\n",
              "      <th>term_deposit</th>\n",
              "      <th>age_n</th>\n",
              "      <th>balance_n</th>\n",
              "      <th>day_n</th>\n",
              "      <th>campaign_n</th>\n",
              "      <th>pdays_n</th>\n",
              "      <th>previous_n</th>\n",
              "    </tr>\n",
              "  </thead>\n",
              "  <tbody>\n",
              "    <tr>\n",
              "      <th>6394</th>\n",
              "      <td>10</td>\n",
              "      <td>1</td>\n",
              "      <td>0</td>\n",
              "      <td>0</td>\n",
              "      <td>0</td>\n",
              "      <td>0</td>\n",
              "      <td>1</td>\n",
              "      <td>3</td>\n",
              "      <td>3</td>\n",
              "      <td>3</td>\n",
              "      <td>0</td>\n",
              "      <td>0.274165</td>\n",
              "      <td>0.020262</td>\n",
              "      <td>-1.514297</td>\n",
              "      <td>-0.569074</td>\n",
              "      <td>-0.423507</td>\n",
              "      <td>-0.302336</td>\n",
              "    </tr>\n",
              "    <tr>\n",
              "      <th>2605</th>\n",
              "      <td>5</td>\n",
              "      <td>1</td>\n",
              "      <td>2</td>\n",
              "      <td>0</td>\n",
              "      <td>0</td>\n",
              "      <td>0</td>\n",
              "      <td>0</td>\n",
              "      <td>7</td>\n",
              "      <td>11</td>\n",
              "      <td>3</td>\n",
              "      <td>1</td>\n",
              "      <td>1.954368</td>\n",
              "      <td>0.075282</td>\n",
              "      <td>-1.035881</td>\n",
              "      <td>-0.569074</td>\n",
              "      <td>-0.423507</td>\n",
              "      <td>-0.302336</td>\n",
              "    </tr>\n",
              "    <tr>\n",
              "      <th>1051</th>\n",
              "      <td>4</td>\n",
              "      <td>0</td>\n",
              "      <td>1</td>\n",
              "      <td>0</td>\n",
              "      <td>1</td>\n",
              "      <td>1</td>\n",
              "      <td>2</td>\n",
              "      <td>23</td>\n",
              "      <td>8</td>\n",
              "      <td>3</td>\n",
              "      <td>0</td>\n",
              "      <td>0.893187</td>\n",
              "      <td>-0.533650</td>\n",
              "      <td>0.877783</td>\n",
              "      <td>-0.569074</td>\n",
              "      <td>-0.423507</td>\n",
              "      <td>-0.302336</td>\n",
              "    </tr>\n",
              "    <tr>\n",
              "      <th>3878</th>\n",
              "      <td>4</td>\n",
              "      <td>0</td>\n",
              "      <td>2</td>\n",
              "      <td>0</td>\n",
              "      <td>1</td>\n",
              "      <td>0</td>\n",
              "      <td>0</td>\n",
              "      <td>13</td>\n",
              "      <td>1</td>\n",
              "      <td>3</td>\n",
              "      <td>1</td>\n",
              "      <td>-0.521720</td>\n",
              "      <td>-0.345406</td>\n",
              "      <td>-0.318257</td>\n",
              "      <td>-0.210680</td>\n",
              "      <td>-0.423507</td>\n",
              "      <td>-0.302336</td>\n",
              "    </tr>\n",
              "    <tr>\n",
              "      <th>4836</th>\n",
              "      <td>4</td>\n",
              "      <td>1</td>\n",
              "      <td>2</td>\n",
              "      <td>0</td>\n",
              "      <td>0</td>\n",
              "      <td>0</td>\n",
              "      <td>0</td>\n",
              "      <td>12</td>\n",
              "      <td>7</td>\n",
              "      <td>3</td>\n",
              "      <td>1</td>\n",
              "      <td>0.274165</td>\n",
              "      <td>-0.348807</td>\n",
              "      <td>-0.437861</td>\n",
              "      <td>0.864501</td>\n",
              "      <td>-0.423507</td>\n",
              "      <td>-0.302336</td>\n",
              "    </tr>\n",
              "  </tbody>\n",
              "</table>\n",
              "</div>"
            ],
            "text/plain": [
              "      job  marital  education  ...  campaign_n   pdays_n  previous_n\n",
              "6394   10        1          0  ...   -0.569074 -0.423507   -0.302336\n",
              "2605    5        1          2  ...   -0.569074 -0.423507   -0.302336\n",
              "1051    4        0          1  ...   -0.569074 -0.423507   -0.302336\n",
              "3878    4        0          2  ...   -0.210680 -0.423507   -0.302336\n",
              "4836    4        1          2  ...    0.864501 -0.423507   -0.302336\n",
              "\n",
              "[5 rows x 17 columns]"
            ]
          },
          "metadata": {
            "tags": []
          },
          "execution_count": 32
        }
      ]
    },
    {
      "cell_type": "markdown",
      "metadata": {
        "id": "E3QwtacQcQ5w"
      },
      "source": [
        "## Modelagem"
      ]
    },
    {
      "cell_type": "code",
      "metadata": {
        "id": "M11X26HgMu2c"
      },
      "source": [
        "from sklearn.model_selection import train_test_split, cross_val_score, cross_validate, KFold, RepeatedKFold\n",
        "from sklearn import metrics\n",
        "from sklearn.linear_model import LogisticRegression \n",
        "from sklearn.neighbors import KNeighborsClassifier\n",
        " "
      ],
      "execution_count": null,
      "outputs": []
    },
    {
      "cell_type": "code",
      "metadata": {
        "id": "09wDB90QzPTU"
      },
      "source": [
        "#f-fold\n",
        "#kf = KFold(n_splits=5, shuffle=True)"
      ],
      "execution_count": null,
      "outputs": []
    },
    {
      "cell_type": "code",
      "metadata": {
        "id": "HGuvo5yR7WbQ"
      },
      "source": [
        "#k-foldrepetido\n",
        "kf = RepeatedKFold(n_splits=10, n_repeats=5)"
      ],
      "execution_count": null,
      "outputs": []
    },
    {
      "cell_type": "markdown",
      "metadata": {
        "id": "q9SWTIAHlxe7"
      },
      "source": [
        "Separando treino e teste"
      ]
    },
    {
      "cell_type": "code",
      "metadata": {
        "id": "BJ9I0MO2K4QP"
      },
      "source": [
        "y = dados.term_deposit\n",
        "X = dados.drop(['term_deposit'], axis=1)"
      ],
      "execution_count": null,
      "outputs": []
    },
    {
      "cell_type": "code",
      "metadata": {
        "id": "bQQW9rpXMPMF"
      },
      "source": [
        "X_train, X_test, y_train, y_test = train_test_split(X, y, test_size=0.25)\n",
        "\n",
        "# o que significa stratify ?"
      ],
      "execution_count": null,
      "outputs": []
    },
    {
      "cell_type": "markdown",
      "metadata": {
        "id": "eTmehlmblMKA"
      },
      "source": [
        "Linear Regression"
      ]
    },
    {
      "cell_type": "code",
      "metadata": {
        "colab": {
          "base_uri": "https://localhost:8080/"
        },
        "id": "vEncPHrWlWCK",
        "outputId": "aac1d442-2982-43e3-898a-da0c877a0a96"
      },
      "source": [
        "#treinamento\n",
        "modelo = LogisticRegression(max_iter=200)\n",
        "modelo.fit(X_train, y_train)\n"
      ],
      "execution_count": null,
      "outputs": [
        {
          "output_type": "execute_result",
          "data": {
            "text/plain": [
              "LogisticRegression(C=1.0, class_weight=None, dual=False, fit_intercept=True,\n",
              "                   intercept_scaling=1, l1_ratio=None, max_iter=200,\n",
              "                   multi_class='auto', n_jobs=None, penalty='l2',\n",
              "                   random_state=None, solver='lbfgs', tol=0.0001, verbose=0,\n",
              "                   warm_start=False)"
            ]
          },
          "metadata": {
            "tags": []
          },
          "execution_count": 101
        }
      ]
    },
    {
      "cell_type": "code",
      "metadata": {
        "id": "Kv1qwrNdNjJx"
      },
      "source": [
        "#predicao\n",
        "y_pred = modelo.predict(X_test)"
      ],
      "execution_count": null,
      "outputs": []
    },
    {
      "cell_type": "code",
      "metadata": {
        "colab": {
          "base_uri": "https://localhost:8080/"
        },
        "id": "9csF3dSSCrKZ",
        "outputId": "e1284b48-6f7d-4c6b-be42-5c1e0bde5ec1"
      },
      "source": [
        "y_pred[0:20]"
      ],
      "execution_count": null,
      "outputs": [
        {
          "output_type": "execute_result",
          "data": {
            "text/plain": [
              "array([0, 1, 1, 1, 0, 1, 1, 0, 1, 1, 1, 1, 1, 1, 0, 0, 0, 1, 0, 0],\n",
              "      dtype=int8)"
            ]
          },
          "metadata": {
            "tags": []
          },
          "execution_count": 145
        }
      ]
    },
    {
      "cell_type": "code",
      "metadata": {
        "colab": {
          "base_uri": "https://localhost:8080/"
        },
        "id": "m-bNoMMYCujJ",
        "outputId": "3dab0ffd-1a33-45fe-9eb0-1fbc8b17325e"
      },
      "source": [
        "y_test[0:20]"
      ],
      "execution_count": null,
      "outputs": [
        {
          "output_type": "execute_result",
          "data": {
            "text/plain": [
              "1060    0\n",
              "4339    1\n",
              "5960    1\n",
              "2767    1\n",
              "5322    0\n",
              "924     0\n",
              "3326    1\n",
              "2401    0\n",
              "852     1\n",
              "4222    1\n",
              "2700    1\n",
              "6118    1\n",
              "4614    0\n",
              "5506    0\n",
              "6251    0\n",
              "2461    1\n",
              "2786    1\n",
              "5843    1\n",
              "6178    0\n",
              "4789    0\n",
              "Name: term_deposit, dtype: int8"
            ]
          },
          "metadata": {
            "tags": []
          },
          "execution_count": 146
        }
      ]
    },
    {
      "cell_type": "code",
      "metadata": {
        "colab": {
          "base_uri": "https://localhost:8080/"
        },
        "id": "oUdZs2Ve3JmK",
        "outputId": "85c4727d-d33f-49a5-8654-693822735d34"
      },
      "source": [
        "#metricas\n",
        "print(metrics.classification_report(y_test, y_pred))"
      ],
      "execution_count": null,
      "outputs": [
        {
          "output_type": "stream",
          "text": [
            "              precision    recall  f1-score   support\n",
            "\n",
            "           0       0.68      0.58      0.63       819\n",
            "           1       0.63      0.72      0.67       806\n",
            "\n",
            "    accuracy                           0.65      1625\n",
            "   macro avg       0.65      0.65      0.65      1625\n",
            "weighted avg       0.65      0.65      0.65      1625\n",
            "\n"
          ],
          "name": "stdout"
        }
      ]
    },
    {
      "cell_type": "code",
      "metadata": {
        "id": "fTPPkFs0CtXD"
      },
      "source": [
        ""
      ],
      "execution_count": null,
      "outputs": []
    },
    {
      "cell_type": "code",
      "metadata": {
        "id": "th-1HOJw2rql"
      },
      "source": [
        "#validadno modelo (f1-score)\n",
        "metricas = cross_validate(modelo, X_train, y_train, cv= kf, scoring=['accuracy','recall','precision','f1'])\n"
      ],
      "execution_count": null,
      "outputs": []
    },
    {
      "cell_type": "code",
      "metadata": {
        "colab": {
          "base_uri": "https://localhost:8080/"
        },
        "id": "97T90WZQgGQ3",
        "outputId": "a4430ec6-4fba-4a85-e151-f6d14e7e4091"
      },
      "source": [
        "print('Acuracia:', metricas['test_accuracy'].mean()) #taxa de acerto\n",
        "print('Recall/Sensibilidade:', metricas['test_recall'].mean())# de todos os positivos % de acerta corretamente\n",
        "print('Precisao:', metricas['test_precision'].mean())#de tudo que classifica como positivo % esta corretamente\n",
        "\n",
        "print('f1-score:', metricas['test_f1'].mean())"
      ],
      "execution_count": null,
      "outputs": [
        {
          "output_type": "stream",
          "text": [
            "Acuracia: 0.6229676507220521\n",
            "Recall/Sensibilidade: 0.6890305539817851\n",
            "Precisao: 0.6072086954343751\n",
            "f1-score: 0.6450251479395501\n"
          ],
          "name": "stdout"
        }
      ]
    },
    {
      "cell_type": "markdown",
      "metadata": {
        "id": "vyLajHdTnqeS"
      },
      "source": [
        "KNN"
      ]
    },
    {
      "cell_type": "code",
      "metadata": {
        "colab": {
          "base_uri": "https://localhost:8080/"
        },
        "id": "vDLHjXG0TQiU",
        "outputId": "832e1687-668e-4ae1-df0e-b80b5aa17458"
      },
      "source": [
        "modelo = KNeighborsClassifier(n_neighbors=5)\n",
        "modelo.fit(X_train, y_train)"
      ],
      "execution_count": null,
      "outputs": [
        {
          "output_type": "execute_result",
          "data": {
            "text/plain": [
              "KNeighborsClassifier(algorithm='auto', leaf_size=30, metric='minkowski',\n",
              "                     metric_params=None, n_jobs=None, n_neighbors=5, p=2,\n",
              "                     weights='uniform')"
            ]
          },
          "metadata": {
            "tags": []
          },
          "execution_count": 107
        }
      ]
    },
    {
      "cell_type": "code",
      "metadata": {
        "id": "hr7u5-JqtptA"
      },
      "source": [
        "y_pred = modelo.predict(X_test)"
      ],
      "execution_count": null,
      "outputs": []
    },
    {
      "cell_type": "code",
      "metadata": {
        "colab": {
          "base_uri": "https://localhost:8080/"
        },
        "id": "VGdO8bguCclv",
        "outputId": "d67a5785-c996-40a9-f001-f5dc14a1e37a"
      },
      "source": [
        "y_pred[0:10]"
      ],
      "execution_count": null,
      "outputs": [
        {
          "output_type": "execute_result",
          "data": {
            "text/plain": [
              "array([0, 1, 1, 1, 0, 1, 1, 0, 1, 1], dtype=int8)"
            ]
          },
          "metadata": {
            "tags": []
          },
          "execution_count": 141
        }
      ]
    },
    {
      "cell_type": "code",
      "metadata": {
        "colab": {
          "base_uri": "https://localhost:8080/"
        },
        "id": "4gj5EG_rCgMH",
        "outputId": "a44c812a-a30f-4560-b7f0-383383e47d40"
      },
      "source": [
        "y_test[0:10]"
      ],
      "execution_count": null,
      "outputs": [
        {
          "output_type": "execute_result",
          "data": {
            "text/plain": [
              "1060    0\n",
              "4339    1\n",
              "5960    1\n",
              "2767    1\n",
              "5322    0\n",
              "924     0\n",
              "3326    1\n",
              "2401    0\n",
              "852     1\n",
              "4222    1\n",
              "Name: term_deposit, dtype: int8"
            ]
          },
          "metadata": {
            "tags": []
          },
          "execution_count": 140
        }
      ]
    },
    {
      "cell_type": "code",
      "metadata": {
        "colab": {
          "base_uri": "https://localhost:8080/"
        },
        "id": "QWLyKkcettK4",
        "outputId": "595fd758-bdd5-4450-88cb-25bc3af22da7"
      },
      "source": [
        "print(metrics.classification_report(y_test, y_pred))"
      ],
      "execution_count": null,
      "outputs": [
        {
          "output_type": "stream",
          "text": [
            "              precision    recall  f1-score   support\n",
            "\n",
            "           0       0.63      0.71      0.67       819\n",
            "           1       0.66      0.58      0.62       806\n",
            "\n",
            "    accuracy                           0.64      1625\n",
            "   macro avg       0.65      0.64      0.64      1625\n",
            "weighted avg       0.65      0.64      0.64      1625\n",
            "\n"
          ],
          "name": "stdout"
        }
      ]
    },
    {
      "cell_type": "code",
      "metadata": {
        "id": "lXKQg0HXrEII"
      },
      "source": [
        "#validadno modelo (f1-score)\n",
        "metricas = cross_validate(modelo, X_train, y_train, cv= kf, scoring=['accuracy','recall','precision','f1'])"
      ],
      "execution_count": null,
      "outputs": []
    },
    {
      "cell_type": "code",
      "metadata": {
        "colab": {
          "base_uri": "https://localhost:8080/"
        },
        "id": "5jAcSek2wbp1",
        "outputId": "6049b74e-8edb-4796-bb50-a984c5c5054d"
      },
      "source": [
        "print('Acuracia:', metricas['test_accuracy'].mean()) #taxa de acerto\n",
        "print('Recall/Sensibilidade:', metricas['test_recall'].mean())# de todos os positivos % de acerta corretamente\n",
        "print('Precisao:', metricas['test_precision'].mean())#de tudo que classifica como positivo % esta corretamente\n",
        "\n",
        "print('f1-score:', metricas['test_f1'].mean())"
      ],
      "execution_count": null,
      "outputs": [
        {
          "output_type": "stream",
          "text": [
            "Acuracia: 0.6347041101423907\n",
            "Recall/Sensibilidade: 0.5706130113537556\n",
            "Precisao: 0.6518720065336453\n",
            "f1-score: 0.6079475534305692\n"
          ],
          "name": "stdout"
        }
      ]
    },
    {
      "cell_type": "code",
      "metadata": {
        "colab": {
          "base_uri": "https://localhost:8080/"
        },
        "id": "ceFOG-VM1yZR",
        "outputId": "80f7cad1-4ad8-4457-ac25-b5ae841f0a4b"
      },
      "source": [
        "#validadno modelo (f1-score)\n",
        "metricas = cross_validate(modelo, X_test, y_test, cv= kf, scoring=['accuracy','recall','precision','f1'])\n",
        "print('Acuracia:', metricas['test_accuracy'].mean()) #taxa de acerto\n",
        "print('Recall/Sensibilidade:', metricas['test_recall'].mean())# de todos os positivos % de acerta corretamente\n",
        "print('Precisao:', metricas['test_precision'].mean())#de tudo que classifica como positivo % esta corretamente\n",
        "\n",
        "print('f1-score:', metricas['test_f1'].mean())"
      ],
      "execution_count": null,
      "outputs": [
        {
          "output_type": "stream",
          "text": [
            "Acuracia: 0.6096159963644626\n",
            "Recall/Sensibilidade: 0.5599433254899893\n",
            "Precisao: 0.6184351669545236\n",
            "f1-score: 0.5853401413778802\n"
          ],
          "name": "stdout"
        }
      ]
    },
    {
      "cell_type": "markdown",
      "metadata": {
        "id": "adjpfWRensuw"
      },
      "source": [
        "Árvore de decisão"
      ]
    },
    {
      "cell_type": "code",
      "metadata": {
        "id": "NVQIi_12utZx"
      },
      "source": [
        "from sklearn.tree import DecisionTreeClassifier"
      ],
      "execution_count": null,
      "outputs": []
    },
    {
      "cell_type": "code",
      "metadata": {
        "colab": {
          "base_uri": "https://localhost:8080/"
        },
        "id": "aZwdXKiW80d6",
        "outputId": "77e503f6-727f-4635-8521-bd69013d883b"
      },
      "source": [
        "modelo = DecisionTreeClassifier(max_depth=3) #profundidade da arvore\n",
        "modelo.fit(X_train,y_train)"
      ],
      "execution_count": null,
      "outputs": [
        {
          "output_type": "execute_result",
          "data": {
            "text/plain": [
              "DecisionTreeClassifier(ccp_alpha=0.0, class_weight=None, criterion='gini',\n",
              "                       max_depth=3, max_features=None, max_leaf_nodes=None,\n",
              "                       min_impurity_decrease=0.0, min_impurity_split=None,\n",
              "                       min_samples_leaf=1, min_samples_split=2,\n",
              "                       min_weight_fraction_leaf=0.0, presort='deprecated',\n",
              "                       random_state=None, splitter='best')"
            ]
          },
          "metadata": {
            "tags": []
          },
          "execution_count": 114
        }
      ]
    },
    {
      "cell_type": "code",
      "metadata": {
        "id": "4J9uG4JPzwB_"
      },
      "source": [
        "y_pred = modelo.predict(X_test)"
      ],
      "execution_count": null,
      "outputs": []
    },
    {
      "cell_type": "code",
      "metadata": {
        "colab": {
          "base_uri": "https://localhost:8080/"
        },
        "id": "EFrwyg8VD8xy",
        "outputId": "5081d034-ee86-4c29-86f1-7b82702582d8"
      },
      "source": [
        "y_pred[0:10]"
      ],
      "execution_count": null,
      "outputs": [
        {
          "output_type": "execute_result",
          "data": {
            "text/plain": [
              "array([0, 1, 1, 1, 0, 1, 1, 0, 1, 1], dtype=int8)"
            ]
          },
          "metadata": {
            "tags": []
          },
          "execution_count": 138
        }
      ]
    },
    {
      "cell_type": "code",
      "metadata": {
        "colab": {
          "base_uri": "https://localhost:8080/"
        },
        "id": "VTTTnj0kGcmF",
        "outputId": "6b4f56ee-b3b5-44de-94c4-84bfc4f80890"
      },
      "source": [
        "y_test[0:10]"
      ],
      "execution_count": null,
      "outputs": [
        {
          "output_type": "execute_result",
          "data": {
            "text/plain": [
              "1060    0\n",
              "4339    1\n",
              "5960    1\n",
              "2767    1\n",
              "5322    0\n",
              "924     0\n",
              "3326    1\n",
              "2401    0\n",
              "852     1\n",
              "4222    1\n",
              "Name: term_deposit, dtype: int8"
            ]
          },
          "metadata": {
            "tags": []
          },
          "execution_count": 139
        }
      ]
    },
    {
      "cell_type": "code",
      "metadata": {
        "colab": {
          "base_uri": "https://localhost:8080/"
        },
        "id": "yoOrvItq0TqX",
        "outputId": "e1ebaee3-9580-46ad-ac6f-d0dffc630d7d"
      },
      "source": [
        "print(metrics.classification_report(y_test, y_pred))"
      ],
      "execution_count": null,
      "outputs": [
        {
          "output_type": "stream",
          "text": [
            "              precision    recall  f1-score   support\n",
            "\n",
            "           0       0.76      0.33      0.46       819\n",
            "           1       0.57      0.90      0.69       806\n",
            "\n",
            "    accuracy                           0.61      1625\n",
            "   macro avg       0.66      0.61      0.58      1625\n",
            "weighted avg       0.67      0.61      0.58      1625\n",
            "\n"
          ],
          "name": "stdout"
        }
      ]
    },
    {
      "cell_type": "code",
      "metadata": {
        "id": "RFrBgAVxu_y_"
      },
      "source": [
        "#validadno modelo (f1-score)\n",
        "metricas = cross_validate(modelo, X_train, y_train, cv= kf, scoring=['accuracy','recall','precision','f1'])"
      ],
      "execution_count": null,
      "outputs": []
    },
    {
      "cell_type": "code",
      "metadata": {
        "colab": {
          "base_uri": "https://localhost:8080/"
        },
        "id": "ZnbdbWvpwoa5",
        "outputId": "31b7347a-f624-435a-eb92-e40975e24f1a"
      },
      "source": [
        "print('Acuracia:', metricas['test_accuracy'].mean()) #taxa de acerto\n",
        "print('Recall/Sensibilidade:', metricas['test_recall'].mean())# de todos os positivos % de acerta corretamente\n",
        "print('Precisao:', metricas['test_precision'].mean())#de tudo que classifica como positivo % esta corretamente\n",
        "\n",
        "print('f1-score:', metricas['test_f1'].mean())"
      ],
      "execution_count": null,
      "outputs": [
        {
          "output_type": "stream",
          "text": [
            "Acuracia: 0.5950003366209985\n",
            "Recall/Sensibilidade: 0.7363553260944026\n",
            "Precisao: 0.5870044327240093\n",
            "f1-score: 0.627055437585997\n"
          ],
          "name": "stdout"
        }
      ]
    },
    {
      "cell_type": "code",
      "metadata": {
        "colab": {
          "base_uri": "https://localhost:8080/"
        },
        "id": "uja7IY3C1oGN",
        "outputId": "4cb4d6fe-6e68-46e0-8f12-821fda04d7d3"
      },
      "source": [
        "#validadno modelo (f1-score)\n",
        "metricas = cross_validate(modelo, X_test, y_test, cv= kf, scoring=['accuracy','recall','precision','f1'])\n",
        "print('Acuracia:', metricas['test_accuracy'].mean()) #taxa de acerto\n",
        "print('Recall/Sensibilidade:', metricas['test_recall'].mean())# de todos os positivos % de acerta corretamente\n",
        "print('Precisao:', metricas['test_precision'].mean())#de tudo que classifica como positivo % esta corretamente\n",
        "\n",
        "print('f1-score:', metricas['test_f1'].mean())"
      ],
      "execution_count": null,
      "outputs": [
        {
          "output_type": "stream",
          "text": [
            "Acuracia: 0.6019510717261228\n",
            "Recall/Sensibilidade: 0.5082761011751448\n",
            "Precisao: 0.6294837799070064\n",
            "f1-score: 0.552855162635934\n"
          ],
          "name": "stdout"
        }
      ]
    },
    {
      "cell_type": "markdown",
      "metadata": {
        "id": "fNWWTKYan4z3"
      },
      "source": [
        "Random Forest"
      ]
    },
    {
      "cell_type": "code",
      "metadata": {
        "id": "KohUwFuoV_Ix"
      },
      "source": [
        "from sklearn.ensemble import RandomForestClassifier"
      ],
      "execution_count": null,
      "outputs": []
    },
    {
      "cell_type": "code",
      "metadata": {
        "colab": {
          "base_uri": "https://localhost:8080/"
        },
        "id": "Qo13frG-ys_D",
        "outputId": "31689504-7297-40cf-c309-89b4d31cde2f"
      },
      "source": [
        "modelo = RandomForestClassifier(max_depth=2, random_state=0)\n",
        "modelo.fit(X_train, y_train)"
      ],
      "execution_count": null,
      "outputs": [
        {
          "output_type": "execute_result",
          "data": {
            "text/plain": [
              "RandomForestClassifier(bootstrap=True, ccp_alpha=0.0, class_weight=None,\n",
              "                       criterion='gini', max_depth=2, max_features='auto',\n",
              "                       max_leaf_nodes=None, max_samples=None,\n",
              "                       min_impurity_decrease=0.0, min_impurity_split=None,\n",
              "                       min_samples_leaf=1, min_samples_split=2,\n",
              "                       min_weight_fraction_leaf=0.0, n_estimators=100,\n",
              "                       n_jobs=None, oob_score=False, random_state=0, verbose=0,\n",
              "                       warm_start=False)"
            ]
          },
          "metadata": {
            "tags": []
          },
          "execution_count": 121
        }
      ]
    },
    {
      "cell_type": "code",
      "metadata": {
        "id": "F1X4qJ4ZyeHR"
      },
      "source": [
        "y_pred = modelo.predict(X_test)"
      ],
      "execution_count": null,
      "outputs": []
    },
    {
      "cell_type": "code",
      "metadata": {
        "colab": {
          "base_uri": "https://localhost:8080/"
        },
        "id": "MalihQQiGFlD",
        "outputId": "6733b805-2d2e-4363-bd03-572ee3eecdfc"
      },
      "source": [
        "y_pred[0:10]"
      ],
      "execution_count": null,
      "outputs": [
        {
          "output_type": "execute_result",
          "data": {
            "text/plain": [
              "array([0, 1, 1, 1, 0, 1, 1, 0, 1, 1], dtype=int8)"
            ]
          },
          "metadata": {
            "tags": []
          },
          "execution_count": 136
        }
      ]
    },
    {
      "cell_type": "code",
      "metadata": {
        "colab": {
          "base_uri": "https://localhost:8080/"
        },
        "id": "urzFqy9uGHld",
        "outputId": "df2d129c-86ef-42e0-d63d-09ca5f6591a6"
      },
      "source": [
        "y_test[0:10]"
      ],
      "execution_count": null,
      "outputs": [
        {
          "output_type": "execute_result",
          "data": {
            "text/plain": [
              "1060    0\n",
              "4339    1\n",
              "5960    1\n",
              "2767    1\n",
              "5322    0\n",
              "924     0\n",
              "3326    1\n",
              "2401    0\n",
              "852     1\n",
              "4222    1\n",
              "Name: term_deposit, dtype: int8"
            ]
          },
          "metadata": {
            "tags": []
          },
          "execution_count": 137
        }
      ]
    },
    {
      "cell_type": "code",
      "metadata": {
        "colab": {
          "base_uri": "https://localhost:8080/"
        },
        "id": "6i786GB4ykf_",
        "outputId": "aee5d014-f0a4-473a-fc12-608350885e08"
      },
      "source": [
        "print(metrics.classification_report(y_test, y_pred))"
      ],
      "execution_count": null,
      "outputs": [
        {
          "output_type": "stream",
          "text": [
            "              precision    recall  f1-score   support\n",
            "\n",
            "           0       0.68      0.51      0.58       819\n",
            "           1       0.60      0.75      0.67       806\n",
            "\n",
            "    accuracy                           0.63      1625\n",
            "   macro avg       0.64      0.63      0.63      1625\n",
            "weighted avg       0.64      0.63      0.63      1625\n",
            "\n"
          ],
          "name": "stdout"
        }
      ]
    },
    {
      "cell_type": "code",
      "metadata": {
        "id": "GPO5LwWiylmn"
      },
      "source": [
        "#validadno modelo (f1-score)\n",
        "metricas = cross_validate(modelo, X_train, y_train, cv= kf, scoring=['accuracy','recall','precision','f1'])"
      ],
      "execution_count": null,
      "outputs": []
    },
    {
      "cell_type": "code",
      "metadata": {
        "colab": {
          "base_uri": "https://localhost:8080/"
        },
        "id": "LJDPq4QjyrkQ",
        "outputId": "799f4b7b-c95c-4a00-ba60-04772f5f5705"
      },
      "source": [
        "print('Acuracia:', metricas['test_accuracy'].mean()) #taxa de acerto\n",
        "print('Recall/Sensibilidade:', metricas['test_recall'].mean())# de todos os positivos % de acerta corretamente\n",
        "print('Precisao:', metricas['test_precision'].mean())#de tudo que classifica como positivo % esta corretamente\n",
        "\n",
        "print('f1-score:', metricas['test_f1'].mean())"
      ],
      "execution_count": null,
      "outputs": [
        {
          "output_type": "stream",
          "text": [
            "Acuracia: 0.6256001952401791\n",
            "Recall/Sensibilidade: 0.725577913367987\n",
            "Precisao: 0.6040109127937796\n",
            "f1-score: 0.6583141641448386\n"
          ],
          "name": "stdout"
        }
      ]
    },
    {
      "cell_type": "code",
      "metadata": {
        "colab": {
          "base_uri": "https://localhost:8080/"
        },
        "id": "QfSEF_eZ1Wwi",
        "outputId": "596b74b8-4657-4fcc-e370-7ffc74c1e659"
      },
      "source": [
        "#validadno modelo (f1-score)\n",
        "metricas = cross_validate(modelo, X_test, y_test, cv= kf, scoring=['accuracy','recall','precision','f1'])\n",
        "print('Acuracia:', metricas['test_accuracy'].mean()) #taxa de acerto\n",
        "print('Recall/Sensibilidade:', metricas['test_recall'].mean())# de todos os positivos % de acerta corretamente\n",
        "print('Precisao:', metricas['test_precision'].mean())#de tudo que classifica como positivo % esta corretamente\n",
        "\n",
        "print('f1-score:', metricas['test_f1'].mean())"
      ],
      "execution_count": null,
      "outputs": [
        {
          "output_type": "stream",
          "text": [
            "Acuracia: 0.6332204801938953\n",
            "Recall/Sensibilidade: 0.7496334569148385\n",
            "Precisao: 0.6071517092778539\n",
            "f1-score: 0.6685568440362201\n"
          ],
          "name": "stdout"
        }
      ]
    },
    {
      "cell_type": "markdown",
      "metadata": {
        "id": "e3XRn9Pox0c6"
      },
      "source": [
        "### Combinando modelos"
      ]
    },
    {
      "cell_type": "markdown",
      "metadata": {
        "id": "1YiIZGyhYA-0"
      },
      "source": [
        "Essa parte é apenas para aprender/entender como funciona a combinação de modelos, nesse caso nao estou procurando efetivamente uma melhora no f1-score"
      ]
    },
    {
      "cell_type": "code",
      "metadata": {
        "id": "oiRDrSQa-fjZ"
      },
      "source": [
        "#combinaçao por votos 'HARD' e 'soft'\n",
        "#import\n",
        "from sklearn.ensemble import VotingClassifier"
      ],
      "execution_count": null,
      "outputs": []
    },
    {
      "cell_type": "code",
      "metadata": {
        "id": "lhSIwvMMEj6s"
      },
      "source": [
        "#usar o soft nesse caso porque acho que ela pesa mais pro caso que seria o melhor \n",
        "#nesse caso estamso levando em consideração que é mais custoso para o negocio pever que a pessoa vai fazer o deposito e a pessoa nao fazer"
      ],
      "execution_count": null,
      "outputs": []
    },
    {
      "cell_type": "code",
      "metadata": {
        "colab": {
          "base_uri": "https://localhost:8080/"
        },
        "id": "OJuBdascIdse",
        "outputId": "56175005-2f63-46db-bcd4-d5b5d75bc122"
      },
      "source": [
        "#combinação hard\n",
        "\n",
        "reg_log = LogisticRegression(max_iter=200)\n",
        "knn = KNeighborsClassifier(n_neighbors=5)\n",
        "arvore = DecisionTreeClassifier(max_depth=3)\n",
        "\n",
        "\n",
        "modelos = [('Reg. Log.', reg_log), ('KNN', knn), ('Árvore', arvore)]\n",
        "\n",
        "modelo = VotingClassifier(modelos, voting='hard')\n",
        "\n",
        "medidas = cross_validate(modelo, X_train, y_train, cv = kf, scoring='f1')\n",
        "\n",
        "medidas['test_score'].mean()\n"
      ],
      "execution_count": null,
      "outputs": [
        {
          "output_type": "execute_result",
          "data": {
            "text/plain": [
              "0.6612314655441454"
            ]
          },
          "metadata": {
            "tags": []
          },
          "execution_count": 162
        }
      ]
    },
    {
      "cell_type": "code",
      "metadata": {
        "colab": {
          "base_uri": "https://localhost:8080/"
        },
        "id": "HrGUug42KfcR",
        "outputId": "71ccf1a7-0477-4b0b-e908-6f2410ca6632"
      },
      "source": [
        "#combinação soft\n",
        "\n",
        "reg_log = LogisticRegression(max_iter=200)\n",
        "knn = KNeighborsClassifier(n_neighbors=5)\n",
        "arvore = DecisionTreeClassifier(max_depth=3)\n",
        "\n",
        "\n",
        "modelos = [('Reg. Log.', reg_log), ('KNN', knn), ('Árvore', arvore)]\n",
        "\n",
        "modelo = VotingClassifier(modelos, voting='soft')\n",
        "\n",
        "medidas = cross_validate(modelo, X_train, y_train, cv = kf, scoring='f1')\n",
        "\n",
        "medidas['test_score'].mean()\n"
      ],
      "execution_count": null,
      "outputs": [
        {
          "output_type": "execute_result",
          "data": {
            "text/plain": [
              "0.65267028051702"
            ]
          },
          "metadata": {
            "tags": []
          },
          "execution_count": 166
        }
      ]
    },
    {
      "cell_type": "code",
      "metadata": {
        "id": "pgy868oOKtZw"
      },
      "source": [
        ""
      ],
      "execution_count": null,
      "outputs": []
    },
    {
      "cell_type": "code",
      "metadata": {
        "id": "7M3mBQnEx3VP"
      },
      "source": [
        ""
      ],
      "execution_count": null,
      "outputs": []
    }
  ]
}